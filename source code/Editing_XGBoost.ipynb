{
 "cells": [
  {
   "cell_type": "markdown",
   "metadata": {},
   "source": [
    "# Machine Learning Model: XGBoost \n",
    "\n",
    "### Background \n",
    "\n",
    "The following notebook seeks to apply an XGBoost gradient boosting model based on random oversampled (ROS) and SMOTE data to determine a predictive model. The results will then be evaluated based on the following metrics; \n",
    "\n",
    "1. Accuracy score\n",
    "2. Confusion matrix\n",
    "3. ROC - AUC\n",
    "4. Feature Improtance\n",
    "5. Mean sqaured error (MSE) \n",
    "\n",
    "### Objective \n",
    "\n",
    "The purpose is to evaluate the machine learning model's predictive capabilities in regards to determining the likelihood account holders of a financial insitution would be to take out a personal loan. Additionally, the models performance will be measured against two other machine learning algorithms; Logistic Regression and Random Forest Classifier. \n",
    "\n",
    "---\n"
   ]
  },
  {
   "cell_type": "markdown",
   "metadata": {},
   "source": [
    "## Initial Imports & Dependencies"
   ]
  },
  {
   "cell_type": "code",
   "execution_count": 1,
   "metadata": {},
   "outputs": [],
   "source": [
    "# Importing Libraries & Dependencies\n",
    "from pathlib import Path\n",
    "import time\n",
    "import pandas as pd\n",
    "import numpy as np\n",
    "import seaborn as sns\n",
    "import matplotlib.pyplot as plt\n",
    "\n",
    "%matplotlib inline"
   ]
  },
  {
   "cell_type": "code",
   "execution_count": 2,
   "metadata": {},
   "outputs": [],
   "source": [
    "# Import Machine Learning Model: GXBoost\n",
    "from xgboost import XGBClassifier\n",
    "from xgboost import plot_importance\n",
    "from sklearn.model_selection import RandomizedSearchCV"
   ]
  },
  {
   "cell_type": "code",
   "execution_count": 3,
   "metadata": {},
   "outputs": [],
   "source": [
    "# Import SK-LEARN libraries \n",
    "from sklearn.metrics import balanced_accuracy_score, accuracy_score\n",
    "from sklearn.metrics import confusion_matrix\n",
    "from sklearn.metrics import classification_report\n",
    "from sklearn.metrics import mean_squared_error\n",
    "from sklearn.metrics import plot_roc_curve\n",
    "from sklearn.metrics import roc_auc_score"
   ]
  },
  {
   "cell_type": "code",
   "execution_count": 4,
   "metadata": {},
   "outputs": [],
   "source": [
    "# Import Warnings\n",
    "import warnings\n",
    "warnings.filterwarnings('ignore')"
   ]
  },
  {
   "cell_type": "markdown",
   "metadata": {},
   "source": [
    "---\n",
    "\n",
    "## Load Datasets"
   ]
  },
  {
   "cell_type": "code",
   "execution_count": 5,
   "metadata": {},
   "outputs": [],
   "source": [
    "# Import SMOTE & Random Over Sampled dataset Features\n",
    "# To import the X_train_smote, X_train_ros, X_train_scaled, X_test_scaled\n",
    "X_train_smote = np.loadtxt('resources/X_train_smote.csv', delimiter=',')\n",
    "X_train_ros = np.loadtxt('resources/X_train_ros.csv', delimiter=',')\n",
    "X_train_scaled = np.loadtxt('resources/X_train_scaled.csv', delimiter=',')\n",
    "X_test_scaled = np.loadtxt('resources/X_test_scaled.csv', delimiter=',')\n",
    "\n",
    "# Import SMOTE & Random Over Sampled dataset Traget\n",
    "# To import y_train_smote, y_train_ros\n",
    "y_train_smote = pd.read_csv('resources/y_train_smote.csv', sep=',', header=0, squeeze=True)\n",
    "y_train_ros = pd.read_csv('resources/y_train_ros.csv', sep=',', header=0, squeeze=True)\n",
    "\n",
    "# Import raw target dataset\n",
    "# To import y_train, y_test\n",
    "y_train = pd.read_csv('resources/y_train.csv', sep=',', header=0, squeeze=True, index_col=0)\n",
    "y_test = pd.read_csv('resources/y_test.csv', sep=',', header=0, squeeze=True, index_col=0)"
   ]
  },
  {
   "cell_type": "code",
   "execution_count": 6,
   "metadata": {},
   "outputs": [
    {
     "data": {
      "text/plain": [
       "array([[-1.25090603, -1.16521339,  0.52423779, ..., -0.25383798,\n",
       "         0.82104028, -0.64593619],\n",
       "       [ 1.53218362, -0.66348527, -0.3456258 , ..., -0.25383798,\n",
       "         0.82104028, -0.64593619],\n",
       "       [-0.20724741, -0.11812861,  1.39410138, ..., -0.25383798,\n",
       "         0.82104028,  1.54814054],\n",
       "       ...,\n",
       "       [-1.08483328,  1.49825072,  1.39410138, ..., -0.25383798,\n",
       "        -1.21796704,  1.54814054],\n",
       "       [ 1.44656411,  2.32987912, -0.44152605, ...,  3.93952076,\n",
       "         0.82104028,  1.54814054],\n",
       "       [-0.12027586,  1.73424248,  1.15969001, ..., -0.25383798,\n",
       "        -1.21796704, -0.64593619]])"
      ]
     },
     "execution_count": 6,
     "metadata": {},
     "output_type": "execute_result"
    }
   ],
   "source": [
    "# Test dataset import\n",
    "# Display X_train_smote\n",
    "X_train_smote"
   ]
  },
  {
   "cell_type": "markdown",
   "metadata": {},
   "source": [
    "---\n",
    "\n",
    "## XGBoost\n",
    "\n",
    "The first part of the XGBoost notebook uses SMOTE training and testing data to develop a predictive model. "
   ]
  },
  {
   "cell_type": "markdown",
   "metadata": {},
   "source": [
    "### XGBoost: Model Optimization with RandmomizedSearchCV\n",
    "\n",
    "Using the original SMOTE training dataset to build a more robust model the meta-estimator, Random Search CV algorithm will be used to determine the best fit hyper-paramter distributions.  \n",
    "\n",
    "**Randomized Search CV Process:**\n",
    "\n",
    "1. Set the hyper-parameters \n",
    "2. Create the RandomSearchCV variable\n",
    "3. Time function optimization\n",
    "4. Best Score\n",
    "5. Best Parameters\n",
    "6. Best Estimator \n",
    "\n",
    "*Best Estimator Note:*\n",
    "\n",
    "Based on the 'best estimator' results, those paramaters will be used in the XGBoost Classifier model to evaluate the machine learning algorithms performance."
   ]
  },
  {
   "cell_type": "code",
   "execution_count": 10,
   "metadata": {},
   "outputs": [],
   "source": [
    "# Create an initial XGBoost Classifier model that will be used to optimize the hyper-parameters\n",
    "clf = XGBClassifier()"
   ]
  },
  {
   "cell_type": "code",
   "execution_count": 11,
   "metadata": {},
   "outputs": [],
   "source": [
    "# Create the models hyper-parameters using a dictionary\n",
    "params = {\n",
    "    \"learning_rate\" : [0.05,0.10,0.15,0.20,0.25,0.30], \n",
    "    \"min_child_weight\" : [1,3,4,7,9],\n",
    "    \"max_depth\" : [2,3,4,6,7,9,11,12,15,16,18],\n",
    "    \"colsample_bytree\" : [0.1,0.3,0.5,0.6,0.7],\n",
    "    \"booster\" : [\"gbtree\", \"gblinear\", \"dart\"],\n",
    "    \"subsample\": [0.5, 0.6, 0.7, 0.8, 0.9, 1.0],\n",
    "    \"gamma\": [0, 0.25, 0.5, 1.0], \n",
    "    \"reg_lambda\": [0.1, 1.0, 5.0, 10.0, 50.0, 100.0],\n",
    "    \"n_estimators\": [100]\n",
    "}"
   ]
  },
  {
   "cell_type": "code",
   "execution_count": 12,
   "metadata": {},
   "outputs": [],
   "source": [
    "# Random Search (rs) variable model\n",
    "rs = RandomizedSearchCV(clf, param_distributions=params, n_iter=5,\n",
    "                            n_jobs=1, verbose=2, cv=2,\n",
    "                            scoring='roc_auc', random_state=42)"
   ]
  },
  {
   "cell_type": "code",
   "execution_count": 13,
   "metadata": {},
   "outputs": [
    {
     "name": "stdout",
     "output_type": "stream",
     "text": [
      "Randomized search..\n",
      "Fitting 2 folds for each of 5 candidates, totalling 10 fits\n",
      "[CV] subsample=0.7, reg_lambda=50.0, n_estimators=100, min_child_weight=4, max_depth=11, learning_rate=0.1, gamma=0.5, colsample_bytree=0.5, booster=gbtree \n"
     ]
    },
    {
     "name": "stderr",
     "output_type": "stream",
     "text": [
      "[Parallel(n_jobs=1)]: Using backend SequentialBackend with 1 concurrent workers.\n"
     ]
    },
    {
     "name": "stdout",
     "output_type": "stream",
     "text": [
      "[CV]  subsample=0.7, reg_lambda=50.0, n_estimators=100, min_child_weight=4, max_depth=11, learning_rate=0.1, gamma=0.5, colsample_bytree=0.5, booster=gbtree, total=   0.2s\n",
      "[CV] subsample=0.7, reg_lambda=50.0, n_estimators=100, min_child_weight=4, max_depth=11, learning_rate=0.1, gamma=0.5, colsample_bytree=0.5, booster=gbtree \n"
     ]
    },
    {
     "name": "stderr",
     "output_type": "stream",
     "text": [
      "[Parallel(n_jobs=1)]: Done   1 out of   1 | elapsed:    0.2s remaining:    0.0s\n"
     ]
    },
    {
     "name": "stdout",
     "output_type": "stream",
     "text": [
      "[CV]  subsample=0.7, reg_lambda=50.0, n_estimators=100, min_child_weight=4, max_depth=11, learning_rate=0.1, gamma=0.5, colsample_bytree=0.5, booster=gbtree, total=   0.2s\n",
      "[CV] subsample=0.6, reg_lambda=1.0, n_estimators=100, min_child_weight=7, max_depth=18, learning_rate=0.15, gamma=0, colsample_bytree=0.7, booster=dart \n",
      "[CV]  subsample=0.6, reg_lambda=1.0, n_estimators=100, min_child_weight=7, max_depth=18, learning_rate=0.15, gamma=0, colsample_bytree=0.7, booster=dart, total=   0.5s\n",
      "[CV] subsample=0.6, reg_lambda=1.0, n_estimators=100, min_child_weight=7, max_depth=18, learning_rate=0.15, gamma=0, colsample_bytree=0.7, booster=dart \n",
      "[CV]  subsample=0.6, reg_lambda=1.0, n_estimators=100, min_child_weight=7, max_depth=18, learning_rate=0.15, gamma=0, colsample_bytree=0.7, booster=dart, total=   0.5s\n",
      "[CV] subsample=0.9, reg_lambda=50.0, n_estimators=100, min_child_weight=9, max_depth=11, learning_rate=0.05, gamma=1.0, colsample_bytree=0.5, booster=gbtree \n",
      "[CV]  subsample=0.9, reg_lambda=50.0, n_estimators=100, min_child_weight=9, max_depth=11, learning_rate=0.05, gamma=1.0, colsample_bytree=0.5, booster=gbtree, total=   0.2s\n",
      "[CV] subsample=0.9, reg_lambda=50.0, n_estimators=100, min_child_weight=9, max_depth=11, learning_rate=0.05, gamma=1.0, colsample_bytree=0.5, booster=gbtree \n",
      "[CV]  subsample=0.9, reg_lambda=50.0, n_estimators=100, min_child_weight=9, max_depth=11, learning_rate=0.05, gamma=1.0, colsample_bytree=0.5, booster=gbtree, total=   0.2s\n",
      "[CV] subsample=0.5, reg_lambda=1.0, n_estimators=100, min_child_weight=4, max_depth=15, learning_rate=0.25, gamma=0.5, colsample_bytree=0.5, booster=gblinear \n",
      "[CV]  subsample=0.5, reg_lambda=1.0, n_estimators=100, min_child_weight=4, max_depth=15, learning_rate=0.25, gamma=0.5, colsample_bytree=0.5, booster=gblinear, total=   0.1s\n",
      "[CV] subsample=0.5, reg_lambda=1.0, n_estimators=100, min_child_weight=4, max_depth=15, learning_rate=0.25, gamma=0.5, colsample_bytree=0.5, booster=gblinear \n",
      "[CV]  subsample=0.5, reg_lambda=1.0, n_estimators=100, min_child_weight=4, max_depth=15, learning_rate=0.25, gamma=0.5, colsample_bytree=0.5, booster=gblinear, total=   0.1s\n",
      "[CV] subsample=0.7, reg_lambda=5.0, n_estimators=100, min_child_weight=9, max_depth=16, learning_rate=0.25, gamma=0.25, colsample_bytree=0.1, booster=gblinear \n",
      "[CV]  subsample=0.7, reg_lambda=5.0, n_estimators=100, min_child_weight=9, max_depth=16, learning_rate=0.25, gamma=0.25, colsample_bytree=0.1, booster=gblinear, total=   0.1s\n",
      "[CV] subsample=0.7, reg_lambda=5.0, n_estimators=100, min_child_weight=9, max_depth=16, learning_rate=0.25, gamma=0.25, colsample_bytree=0.1, booster=gblinear \n",
      "[CV]  subsample=0.7, reg_lambda=5.0, n_estimators=100, min_child_weight=9, max_depth=16, learning_rate=0.25, gamma=0.25, colsample_bytree=0.1, booster=gblinear, total=   0.1s\n"
     ]
    },
    {
     "name": "stderr",
     "output_type": "stream",
     "text": [
      "[Parallel(n_jobs=1)]: Done  10 out of  10 | elapsed:    2.3s finished\n"
     ]
    },
    {
     "name": "stdout",
     "output_type": "stream",
     "text": [
      "Randomized search time: 3.525254011154175\n"
     ]
    }
   ],
   "source": [
    "# Time optimization\n",
    "# First, import the time function\n",
    "# import time\n",
    "\n",
    "# Create the start time function\n",
    "print(\"Randomized search..\")\n",
    "search_time_start = time.time()\n",
    "\n",
    "# Fit the SMOTE dataset\n",
    "rs.fit(X_train_smote, y_train_smote)\n",
    "\n",
    "# Time optimization print statement: \n",
    "print(\"Randomized search time:\", time.time() - search_time_start)"
   ]
  },
  {
   "cell_type": "code",
   "execution_count": 14,
   "metadata": {},
   "outputs": [
    {
     "name": "stdout",
     "output_type": "stream",
     "text": [
      "Random Search Best Score: 0.9989162990228071\n"
     ]
    }
   ],
   "source": [
    "# Calculate the Best Score\n",
    "rs_best_score = rs.best_score_\n",
    "\n",
    "# Display the best score\n",
    "print(f\"Random Search Best Score: {rs_best_score}\")"
   ]
  },
  {
   "cell_type": "code",
   "execution_count": 15,
   "metadata": {},
   "outputs": [
    {
     "name": "stdout",
     "output_type": "stream",
     "text": [
      "Random Search Hyper-Parameters: {'subsample': 0.6, 'reg_lambda': 1.0, 'n_estimators': 100, 'min_child_weight': 7, 'max_depth': 18, 'learning_rate': 0.15, 'gamma': 0, 'colsample_bytree': 0.7, 'booster': 'dart'}\n"
     ]
    }
   ],
   "source": [
    "# Calculate the best hyper-parameters for the model\n",
    "rs_best_params = rs.best_params_\n",
    "\n",
    "# Display the best hyper-parameters\n",
    "print(f\"Random Search Hyper-Parameters: {rs_best_params}\")"
   ]
  },
  {
   "cell_type": "code",
   "execution_count": 16,
   "metadata": {},
   "outputs": [
    {
     "data": {
      "text/plain": [
       "XGBClassifier(booster='dart', colsample_bytree=0.7, learning_rate=0.15,\n",
       "              max_depth=18, min_child_weight=7, reg_lambda=1.0, subsample=0.6)"
      ]
     },
     "execution_count": 16,
     "metadata": {},
     "output_type": "execute_result"
    }
   ],
   "source": [
    "# Display the best estimator to use in the model\n",
    "rs.best_estimator_"
   ]
  },
  {
   "cell_type": "markdown",
   "metadata": {},
   "source": [
    "---\n",
    "\n",
    "### XGBoost Model: SMOTE Dataset\n",
    "\n",
    "Now that the XGBoost Classifier model has pre-determined optimized hyper-paramters, the results can be applied to training and testing the SMOTE dataset.\n",
    "\n",
    "**To evaluate the model the following metrics will be applied:**\n",
    "\n",
    "1. Balanced Accuracy Score & Accuracy Score\n",
    "2. Confusion Matrix\n",
    "3. Classification Report \n",
    "4. Mean-Squared-Error & Root Mean-Squared-Error\n",
    "5. ROC-AUC\n",
    "6. Feature Importance \n",
    "\n",
    "#### Set the Model"
   ]
  },
  {
   "cell_type": "code",
   "execution_count": 17,
   "metadata": {},
   "outputs": [],
   "source": [
    "# Set the model variable & the hyperparameters based on the 'best estimator' results\n",
    "model = XGBClassifier(booster='dart', \n",
    "                      colsample_bytree=0.7, \n",
    "                      learning_rate=0.15,max_depth=18, \n",
    "                      min_child_weight=7, \n",
    "                      random_state=3, \n",
    "                      reg_lambda=1.0,\n",
    "                      subsample=0.6)"
   ]
  },
  {
   "cell_type": "code",
   "execution_count": 18,
   "metadata": {},
   "outputs": [
    {
     "data": {
      "text/plain": [
       "XGBClassifier(booster='dart', colsample_bytree=0.7, learning_rate=0.15,\n",
       "              max_depth=18, min_child_weight=7, random_state=3, reg_lambda=1.0,\n",
       "              subsample=0.6)"
      ]
     },
     "execution_count": 18,
     "metadata": {},
     "output_type": "execute_result"
    }
   ],
   "source": [
    "# Fit the SMOTE dataset to the model \n",
    "model.fit(X_train_smote, y_train_smote)"
   ]
  },
  {
   "cell_type": "markdown",
   "metadata": {},
   "source": [
    "#### Model Prediction"
   ]
  },
  {
   "cell_type": "code",
   "execution_count": 41,
   "metadata": {},
   "outputs": [
    {
     "data": {
      "text/plain": [
       "array([0, 0, 0, ..., 0, 0, 0])"
      ]
     },
     "execution_count": 41,
     "metadata": {},
     "output_type": "execute_result"
    }
   ],
   "source": [
    "# Set a predict model\n",
    "y_pred = model.predict(X_test_scaled)\n",
    "\n",
    "# Display the variable\n",
    "y_pred"
   ]
  },
  {
   "cell_type": "code",
   "execution_count": 40,
   "metadata": {},
   "outputs": [
    {
     "data": {
      "text/html": [
       "<div>\n",
       "<style scoped>\n",
       "    .dataframe tbody tr th:only-of-type {\n",
       "        vertical-align: middle;\n",
       "    }\n",
       "\n",
       "    .dataframe tbody tr th {\n",
       "        vertical-align: top;\n",
       "    }\n",
       "\n",
       "    .dataframe thead th {\n",
       "        text-align: right;\n",
       "    }\n",
       "</style>\n",
       "<table border=\"1\" class=\"dataframe\">\n",
       "  <thead>\n",
       "    <tr style=\"text-align: right;\">\n",
       "      <th></th>\n",
       "      <th>Prediction</th>\n",
       "      <th>Actual</th>\n",
       "    </tr>\n",
       "  </thead>\n",
       "  <tbody>\n",
       "    <tr>\n",
       "      <th>1245</th>\n",
       "      <td>0</td>\n",
       "      <td>0</td>\n",
       "    </tr>\n",
       "    <tr>\n",
       "      <th>1246</th>\n",
       "      <td>1</td>\n",
       "      <td>1</td>\n",
       "    </tr>\n",
       "    <tr>\n",
       "      <th>1247</th>\n",
       "      <td>0</td>\n",
       "      <td>0</td>\n",
       "    </tr>\n",
       "    <tr>\n",
       "      <th>1248</th>\n",
       "      <td>0</td>\n",
       "      <td>0</td>\n",
       "    </tr>\n",
       "    <tr>\n",
       "      <th>1249</th>\n",
       "      <td>0</td>\n",
       "      <td>0</td>\n",
       "    </tr>\n",
       "  </tbody>\n",
       "</table>\n",
       "</div>"
      ],
      "text/plain": [
       "      Prediction  Actual\n",
       "1245           0       0\n",
       "1246           1       1\n",
       "1247           0       0\n",
       "1248           0       0\n",
       "1249           0       0"
      ]
     },
     "execution_count": 40,
     "metadata": {},
     "output_type": "execute_result"
    }
   ],
   "source": [
    "# Create a dataframe containing the y_pred results\n",
    "results = pd.DataFrame({\"Prediction\": y_pred, \"Actual\": y_test}).reset_index(drop=True)\n",
    "\n",
    "# Display the dataframe\n",
    "results.tail()"
   ]
  },
  {
   "cell_type": "markdown",
   "metadata": {},
   "source": [
    "### SMOTE Model Evaluation: \n",
    "\n",
    "#### 1. Balanced Accuracy Score & Accuracy Score"
   ]
  },
  {
   "cell_type": "code",
   "execution_count": 20,
   "metadata": {},
   "outputs": [
    {
     "name": "stdout",
     "output_type": "stream",
     "text": [
      "SMOTE XGB Classifier Balanced Accuracy Score Model is: 0.9547935103244838\n",
      "SMOTE XGB Classifier Accuracy Score Model is: 0.9856\n"
     ]
    }
   ],
   "source": [
    "# Evaluate the predict model through the Balanced Accuracy Score metric\n",
    "model_balanced_accuracy_score = balanced_accuracy_score(y_test, y_pred)\n",
    "\n",
    "# Evaluate the predict model through the Accuracy Score metric\n",
    "model_accuracy_score = accuracy_score(y_test, y_pred)\n",
    "\n",
    "# Print the evaluation results\n",
    "print(f\"SMOTE XGB Classifier Balanced Accuracy Score Model is: {model_balanced_accuracy_score}\")\n",
    "print(f\"SMOTE XGB Classifier Accuracy Score Model is: {model_accuracy_score}\")"
   ]
  },
  {
   "cell_type": "markdown",
   "metadata": {},
   "source": [
    "#### 2. Confusion Matrix"
   ]
  },
  {
   "cell_type": "code",
   "execution_count": 21,
   "metadata": {},
   "outputs": [
    {
     "data": {
      "text/plain": [
       "Text(33.0, 0.5, 'Predicted')"
      ]
     },
     "execution_count": 21,
     "metadata": {},
     "output_type": "execute_result"
    },
    {
     "data": {
      "image/png": "[encoded data removed]",
      "text/plain": [
       "<Figure size 432x288 with 2 Axes>"
      ]
     },
     "metadata": {
      "needs_background": "light"
     },
     "output_type": "display_data"
    }
   ],
   "source": [
    "# Create the confusion matrix (cm)\n",
    "cm = confusion_matrix(y_test, y_pred)\n",
    "\n",
    "# Display the confusion matrix\n",
    "sns.heatmap(cm,\n",
    "            cmap = 'Purples', \n",
    "            fmt = '', \n",
    "            annot = True)\n",
    "\n",
    "# Set plot labels \n",
    "plt.title(\"SMOTE Model: Confusion Matrix\")\n",
    "plt.xlabel(\"Actual\")\n",
    "plt.ylabel(\"Predicted\")\n"
   ]
  },
  {
   "cell_type": "markdown",
   "metadata": {},
   "source": [
    "#### 3. Classification Report"
   ]
  },
  {
   "cell_type": "code",
   "execution_count": 22,
   "metadata": {},
   "outputs": [
    {
     "name": "stdout",
     "output_type": "stream",
     "text": [
      "Classification Report:\n",
      "              precision    recall  f1-score   support\n",
      "\n",
      "           0       0.99      0.99      0.99      1130\n",
      "           1       0.93      0.92      0.92       120\n",
      "\n",
      "    accuracy                           0.99      1250\n",
      "   macro avg       0.96      0.95      0.96      1250\n",
      "weighted avg       0.99      0.99      0.99      1250\n",
      "\n"
     ]
    }
   ],
   "source": [
    "# Classification report title print statement \n",
    "print(\"Classification Report:\")\n",
    "\n",
    "# Create the classification report\n",
    "print(classification_report(y_test, y_pred))"
   ]
  },
  {
   "cell_type": "markdown",
   "metadata": {},
   "source": [
    "#### 4. Mean-Squared-Error & Root Mean-Squared-Error"
   ]
  },
  {
   "cell_type": "code",
   "execution_count": 23,
   "metadata": {},
   "outputs": [
    {
     "name": "stdout",
     "output_type": "stream",
     "text": [
      "MSE: 0.014400\n"
     ]
    }
   ],
   "source": [
    "# Calculate the models mean squared error\n",
    "mse = mean_squared_error(y_test, y_pred)\n",
    "print(\"MSE: %f\" % (mse))"
   ]
  },
  {
   "cell_type": "code",
   "execution_count": 24,
   "metadata": {},
   "outputs": [
    {
     "name": "stdout",
     "output_type": "stream",
     "text": [
      "RMSE: 0.120000\n"
     ]
    }
   ],
   "source": [
    "rmse = np.sqrt(mean_squared_error(y_test, y_pred))\n",
    "print(\"RMSE: %f\" % (rmse))"
   ]
  },
  {
   "cell_type": "markdown",
   "metadata": {},
   "source": [
    "#### 5. ROC - AUC"
   ]
  },
  {
   "cell_type": "code",
   "execution_count": 25,
   "metadata": {},
   "outputs": [
    {
     "data": {
      "image/png": "[encoded data removed]",
      "text/plain": [
       "<Figure size 432x288 with 1 Axes>"
      ]
     },
     "metadata": {
      "needs_background": "light"
     },
     "output_type": "display_data"
    },
    {
     "name": "stdout",
     "output_type": "stream",
     "text": [
      "SMOTE Model: ROC-AUC Score: 0.9547935103244837\n"
     ]
    }
   ],
   "source": [
    "# Create the ROC curve \n",
    "roc_model_curve = plot_roc_curve(model, X_test_scaled, y_test)\n",
    "\n",
    "# Set plot labels\n",
    "plt.title(\"SMOTE Model: XGBoost ROC\")\n",
    "\n",
    "# Plot the ROC curve\n",
    "plt.show()\n",
    "\n",
    "# Print the ROC-AUC Score\n",
    "print(\"SMOTE Model: ROC-AUC Score:\", roc_auc_score(y_test, y_pred))"
   ]
  },
  {
   "cell_type": "markdown",
   "metadata": {},
   "source": [
    "#### 6. Feature Importance"
   ]
  },
  {
   "cell_type": "code",
   "execution_count": 26,
   "metadata": {},
   "outputs": [
    {
     "data": {
      "image/png": "[encoded data removed]",
      "text/plain": [
       "<Figure size 432x288 with 1 Axes>"
      ]
     },
     "metadata": {
      "needs_background": "light"
     },
     "output_type": "display_data"
    }
   ],
   "source": [
    "# Create the plot importance model\n",
    "plot_importance(model)\n",
    "\n",
    "# Display the plot\n",
    "plt.show()\n",
    "\n",
    "# how do I get the feature names to appear??"
   ]
  },
  {
   "cell_type": "markdown",
   "metadata": {},
   "source": [
    "---\n",
    "\n",
    "### XGBoost Model: Random Over Sampled (ROS) Dataset\n",
    "\n",
    "Applying the optimized hyper-parameters determined in the second part of the notebook for the GXBoost Classifier model, the random over sampled (ROS) dataset will be evaluated through training and testing data. \n",
    "\n",
    "**To evaluate the model the following metrics will be applied:**\n",
    "\n",
    "1. Balanced Accuracy Score & Accuracy Score\n",
    "2. Confusion Matrix\n",
    "3. Classification Report \n",
    "4. Mean-Squared-Error & Root Mean-Squared-Error\n",
    "5. ROC-AUC\n",
    "6. Feature Importance \n",
    "\n",
    "#### Set the Model"
   ]
  },
  {
   "cell_type": "code",
   "execution_count": 27,
   "metadata": {},
   "outputs": [],
   "source": [
    "# Set the model variable & the hyperparameters based on the 'best estimator' results\n",
    "model = XGBClassifier(booster='dart', \n",
    "                      colsample_bytree=0.7, \n",
    "                      learning_rate=0.15,max_depth=18, \n",
    "                      min_child_weight=7, \n",
    "                      random_state=3, \n",
    "                      reg_lambda=1.0,\n",
    "                      subsample=0.6)"
   ]
  },
  {
   "cell_type": "code",
   "execution_count": 28,
   "metadata": {},
   "outputs": [
    {
     "data": {
      "text/plain": [
       "XGBClassifier(booster='dart', colsample_bytree=0.7, learning_rate=0.15,\n",
       "              max_depth=18, min_child_weight=7, random_state=3, reg_lambda=1.0,\n",
       "              subsample=0.6)"
      ]
     },
     "execution_count": 28,
     "metadata": {},
     "output_type": "execute_result"
    }
   ],
   "source": [
    "# Fit the ROS dataset to the model \n",
    "model.fit(X_train_ros, y_train_ros)"
   ]
  },
  {
   "cell_type": "markdown",
   "metadata": {},
   "source": [
    "#### Model Prediction"
   ]
  },
  {
   "cell_type": "code",
   "execution_count": 29,
   "metadata": {},
   "outputs": [
    {
     "data": {
      "text/plain": [
       "array([0, 0, 0, ..., 0, 0, 0])"
      ]
     },
     "execution_count": 29,
     "metadata": {},
     "output_type": "execute_result"
    }
   ],
   "source": [
    "# Set a predict model\n",
    "y_pred = model.predict(X_test_scaled)\n",
    "\n",
    "# Display the variable\n",
    "y_pred"
   ]
  },
  {
   "cell_type": "code",
   "execution_count": 32,
   "metadata": {},
   "outputs": [
    {
     "data": {
      "text/html": [
       "<div>\n",
       "<style scoped>\n",
       "    .dataframe tbody tr th:only-of-type {\n",
       "        vertical-align: middle;\n",
       "    }\n",
       "\n",
       "    .dataframe tbody tr th {\n",
       "        vertical-align: top;\n",
       "    }\n",
       "\n",
       "    .dataframe thead th {\n",
       "        text-align: right;\n",
       "    }\n",
       "</style>\n",
       "<table border=\"1\" class=\"dataframe\">\n",
       "  <thead>\n",
       "    <tr style=\"text-align: right;\">\n",
       "      <th></th>\n",
       "      <th>Prediction</th>\n",
       "      <th>Actual</th>\n",
       "    </tr>\n",
       "  </thead>\n",
       "  <tbody>\n",
       "    <tr>\n",
       "      <th>1245</th>\n",
       "      <td>0</td>\n",
       "      <td>0</td>\n",
       "    </tr>\n",
       "    <tr>\n",
       "      <th>1246</th>\n",
       "      <td>1</td>\n",
       "      <td>1</td>\n",
       "    </tr>\n",
       "    <tr>\n",
       "      <th>1247</th>\n",
       "      <td>0</td>\n",
       "      <td>0</td>\n",
       "    </tr>\n",
       "    <tr>\n",
       "      <th>1248</th>\n",
       "      <td>0</td>\n",
       "      <td>0</td>\n",
       "    </tr>\n",
       "    <tr>\n",
       "      <th>1249</th>\n",
       "      <td>0</td>\n",
       "      <td>0</td>\n",
       "    </tr>\n",
       "  </tbody>\n",
       "</table>\n",
       "</div>"
      ],
      "text/plain": [
       "      Prediction  Actual\n",
       "1245           0       0\n",
       "1246           1       1\n",
       "1247           0       0\n",
       "1248           0       0\n",
       "1249           0       0"
      ]
     },
     "execution_count": 32,
     "metadata": {},
     "output_type": "execute_result"
    }
   ],
   "source": [
    "# Create a dataframe containing the y_pred results\n",
    "results = pd.DataFrame({\"Prediction\": y_pred, \"Actual\": y_test}).reset_index(drop=True)\n",
    "\n",
    "# Display the dataframe\n",
    "results.tail()"
   ]
  },
  {
   "cell_type": "markdown",
   "metadata": {},
   "source": [
    "### ROS Model Evaluation: \n",
    "\n",
    "#### 1. Balanced Accuracy Score & Accuracy Score"
   ]
  },
  {
   "cell_type": "code",
   "execution_count": 33,
   "metadata": {},
   "outputs": [
    {
     "name": "stdout",
     "output_type": "stream",
     "text": [
      "SMOTE XGB Classifier Balanced Accuracy Score Model is: 0.9674778761061946\n",
      "SMOTE XGB Classifier Accuracy Score Model is: 0.9816\n"
     ]
    }
   ],
   "source": [
    "# Evaluate the predict model through the Balanced Accuracy Score metric\n",
    "model_balanced_accuracy_score = balanced_accuracy_score(y_test, y_pred)\n",
    "\n",
    "# Evaluate the predict model through the Accuracy Score metric\n",
    "model_accuracy_score = accuracy_score(y_test, y_pred)\n",
    "\n",
    "# Print the evaluation results\n",
    "print(f\"SMOTE XGB Classifier Balanced Accuracy Score Model is: {model_balanced_accuracy_score}\")\n",
    "print(f\"SMOTE XGB Classifier Accuracy Score Model is: {model_accuracy_score}\")"
   ]
  },
  {
   "cell_type": "markdown",
   "metadata": {},
   "source": [
    "#### 2. Confusion Matrix"
   ]
  },
  {
   "cell_type": "code",
   "execution_count": 34,
   "metadata": {},
   "outputs": [
    {
     "data": {
      "text/plain": [
       "Text(33.0, 0.5, 'Predicted')"
      ]
     },
     "execution_count": 34,
     "metadata": {},
     "output_type": "execute_result"
    },
    {
     "data": {
      "image/png": "[encoded data removed]",
      "text/plain": [
       "<Figure size 432x288 with 2 Axes>"
      ]
     },
     "metadata": {
      "needs_background": "light"
     },
     "output_type": "display_data"
    }
   ],
   "source": [
    "# Create the confusion matrix (cm)\n",
    "cm = confusion_matrix(y_test, y_pred)\n",
    "\n",
    "# Display the confusion matrix\n",
    "sns.heatmap(cm,\n",
    "            cmap = 'Reds', \n",
    "            fmt = '', \n",
    "            annot = True)\n",
    "\n",
    "# Set plot labels \n",
    "plt.title(\"SMOTE Model: Confusion Matrix\")\n",
    "plt.xlabel(\"Actual\")\n",
    "plt.ylabel(\"Predicted\")"
   ]
  },
  {
   "cell_type": "markdown",
   "metadata": {},
   "source": [
    "#### 3. Classification Report"
   ]
  },
  {
   "cell_type": "code",
   "execution_count": 35,
   "metadata": {},
   "outputs": [
    {
     "name": "stdout",
     "output_type": "stream",
     "text": [
      "Classification Report:\n",
      "              precision    recall  f1-score   support\n",
      "\n",
      "           0       0.99      0.98      0.99      1130\n",
      "           1       0.87      0.95      0.91       120\n",
      "\n",
      "    accuracy                           0.98      1250\n",
      "   macro avg       0.93      0.97      0.95      1250\n",
      "weighted avg       0.98      0.98      0.98      1250\n",
      "\n"
     ]
    }
   ],
   "source": [
    "# Classification report title print statement \n",
    "print(\"Classification Report:\")\n",
    "\n",
    "# Create the classification report\n",
    "print(classification_report(y_test, y_pred))"
   ]
  },
  {
   "cell_type": "markdown",
   "metadata": {},
   "source": [
    "#### 4. Mean-Squared-Error & Root Mean-Squared-Error"
   ]
  },
  {
   "cell_type": "code",
   "execution_count": 36,
   "metadata": {},
   "outputs": [
    {
     "name": "stdout",
     "output_type": "stream",
     "text": [
      "MSE: 0.018400\n"
     ]
    }
   ],
   "source": [
    "# Calculate the models mean squared error\n",
    "mse = mean_squared_error(y_test, y_pred)\n",
    "print(\"MSE: %f\" % (mse))"
   ]
  },
  {
   "cell_type": "code",
   "execution_count": 37,
   "metadata": {},
   "outputs": [
    {
     "name": "stdout",
     "output_type": "stream",
     "text": [
      "RMSE: 0.135647\n"
     ]
    }
   ],
   "source": [
    "rmse = np.sqrt(mean_squared_error(y_test, y_pred))\n",
    "print(\"RMSE: %f\" % (rmse))"
   ]
  },
  {
   "cell_type": "markdown",
   "metadata": {},
   "source": [
    "#### 5. ROC - AUC"
   ]
  },
  {
   "cell_type": "code",
   "execution_count": 38,
   "metadata": {},
   "outputs": [
    {
     "data": {
      "image/png": "[encoded data removed]",
      "text/plain": [
       "<Figure size 432x288 with 1 Axes>"
      ]
     },
     "metadata": {
      "needs_background": "light"
     },
     "output_type": "display_data"
    },
    {
     "name": "stdout",
     "output_type": "stream",
     "text": [
      "SMOTE Model: ROC-AUC Score: 0.9674778761061947\n"
     ]
    }
   ],
   "source": [
    "# Create the ROC curve \n",
    "roc_model_curve = plot_roc_curve(model, X_test_scaled, y_test)\n",
    "\n",
    "# Set plot labels\n",
    "plt.title(\"SMOTE Model: XGBoost ROC\")\n",
    "\n",
    "# Plot the ROC curve\n",
    "plt.show()\n",
    "\n",
    "# Print the ROC-AUC Score\n",
    "print(\"SMOTE Model: ROC-AUC Score:\", roc_auc_score(y_test, y_pred))"
   ]
  },
  {
   "cell_type": "markdown",
   "metadata": {},
   "source": [
    "#### 6. Feature Importance"
   ]
  },
  {
   "cell_type": "code",
   "execution_count": 39,
   "metadata": {},
   "outputs": [
    {
     "data": {
      "image/png": "[encoded data removed]",
      "text/plain": [
       "<Figure size 432x288 with 1 Axes>"
      ]
     },
     "metadata": {
      "needs_background": "light"
     },
     "output_type": "display_data"
    }
   ],
   "source": [
    "# Create the plot importance model\n",
    "plot_importance(model)\n",
    "\n",
    "# Display the plot\n",
    "plt.show()\n",
    "\n",
    "# how do I get the feature names to appear??"
   ]
  },
  {
   "cell_type": "markdown",
   "metadata": {},
   "source": [
    "---\n",
    "\n",
    "### XGBoost: Model Comparison & Conclusions"
   ]
  },
  {
   "cell_type": "markdown",
   "metadata": {},
   "source": [
    "#### Accuracy Scores"
   ]
  },
  {
   "cell_type": "code",
   "execution_count": 43,
   "metadata": {},
   "outputs": [
    {
     "data": {
      "text/html": [
       "<div>\n",
       "<style scoped>\n",
       "    .dataframe tbody tr th:only-of-type {\n",
       "        vertical-align: middle;\n",
       "    }\n",
       "\n",
       "    .dataframe tbody tr th {\n",
       "        vertical-align: top;\n",
       "    }\n",
       "\n",
       "    .dataframe thead th {\n",
       "        text-align: right;\n",
       "    }\n",
       "</style>\n",
       "<table border=\"1\" class=\"dataframe\">\n",
       "  <thead>\n",
       "    <tr style=\"text-align: right;\">\n",
       "      <th></th>\n",
       "      <th>Model Dataset</th>\n",
       "      <th>Score</th>\n",
       "    </tr>\n",
       "  </thead>\n",
       "  <tbody>\n",
       "    <tr>\n",
       "      <th>0</th>\n",
       "      <td>XGBoost SMOTE Balanced Accuracy Score</td>\n",
       "      <td>0.9547</td>\n",
       "    </tr>\n",
       "    <tr>\n",
       "      <th>1</th>\n",
       "      <td>XGBoost SMOTE Accuracy Score</td>\n",
       "      <td>0.9856</td>\n",
       "    </tr>\n",
       "    <tr>\n",
       "      <th>2</th>\n",
       "      <td>XGBoost ROS Balanced Accuracy Score</td>\n",
       "      <td>0.9674</td>\n",
       "    </tr>\n",
       "    <tr>\n",
       "      <th>3</th>\n",
       "      <td>XGBoost ROS Accuracy Score</td>\n",
       "      <td>0.9816</td>\n",
       "    </tr>\n",
       "  </tbody>\n",
       "</table>\n",
       "</div>"
      ],
      "text/plain": [
       "                           Model Dataset   Score\n",
       "0  XGBoost SMOTE Balanced Accuracy Score  0.9547\n",
       "1           XGBoost SMOTE Accuracy Score  0.9856\n",
       "2    XGBoost ROS Balanced Accuracy Score  0.9674\n",
       "3             XGBoost ROS Accuracy Score  0.9816"
      ]
     },
     "execution_count": 43,
     "metadata": {},
     "output_type": "execute_result"
    }
   ],
   "source": [
    "# Create the model accuracy scores dataframe\n",
    "accuracy_scores_model = pd.DataFrame({\n",
    "    \"Model Dataset\" : [\"XGBoost SMOTE Balanced Accuracy Score\",\n",
    "                       \"XGBoost SMOTE Accuracy Score\",\n",
    "                       \"XGBoost ROS Balanced Accuracy Score\", \n",
    "                       \"XGBoost ROS Accuracy Score\"],\n",
    "    \"Score\" : [0.9547,0.9856,0.9674,0.9816]\n",
    "})\n",
    "\n",
    "# Display the accuracy scores dataframe\n",
    "accuracy_scores_model"
   ]
  },
  {
   "cell_type": "markdown",
   "metadata": {},
   "source": [
    "#### Confusion Matrix"
   ]
  },
  {
   "cell_type": "code",
   "execution_count": null,
   "metadata": {},
   "outputs": [],
   "source": [
    "# need to figure out how to display both of them side by side"
   ]
  },
  {
   "cell_type": "markdown",
   "metadata": {},
   "source": [
    "#### Classification Report"
   ]
  },
  {
   "cell_type": "code",
   "execution_count": null,
   "metadata": {},
   "outputs": [],
   "source": [
    "# Ian's code here"
   ]
  },
  {
   "cell_type": "markdown",
   "metadata": {},
   "source": [
    "#### Mean-Squared-Error & Root Mean-Squared-Error"
   ]
  },
  {
   "cell_type": "code",
   "execution_count": 47,
   "metadata": {},
   "outputs": [
    {
     "data": {
      "text/html": [
       "<div>\n",
       "<style scoped>\n",
       "    .dataframe tbody tr th:only-of-type {\n",
       "        vertical-align: middle;\n",
       "    }\n",
       "\n",
       "    .dataframe tbody tr th {\n",
       "        vertical-align: top;\n",
       "    }\n",
       "\n",
       "    .dataframe thead th {\n",
       "        text-align: right;\n",
       "    }\n",
       "</style>\n",
       "<table border=\"1\" class=\"dataframe\">\n",
       "  <thead>\n",
       "    <tr style=\"text-align: right;\">\n",
       "      <th></th>\n",
       "      <th>Model Dataset</th>\n",
       "      <th>Score</th>\n",
       "    </tr>\n",
       "  </thead>\n",
       "  <tbody>\n",
       "    <tr>\n",
       "      <th>0</th>\n",
       "      <td>XGBoost SMOTE Mean-Squared-Error</td>\n",
       "      <td>0.0144</td>\n",
       "    </tr>\n",
       "    <tr>\n",
       "      <th>1</th>\n",
       "      <td>XGBoost SMOTE Root Mean-Squared-Error</td>\n",
       "      <td>0.1200</td>\n",
       "    </tr>\n",
       "    <tr>\n",
       "      <th>2</th>\n",
       "      <td>XGBoost ROS Mean-Squared-Error</td>\n",
       "      <td>0.0184</td>\n",
       "    </tr>\n",
       "    <tr>\n",
       "      <th>3</th>\n",
       "      <td>XGBoost ROS Root Mean-Squared-Error</td>\n",
       "      <td>0.1356</td>\n",
       "    </tr>\n",
       "  </tbody>\n",
       "</table>\n",
       "</div>"
      ],
      "text/plain": [
       "                           Model Dataset   Score\n",
       "0       XGBoost SMOTE Mean-Squared-Error  0.0144\n",
       "1  XGBoost SMOTE Root Mean-Squared-Error  0.1200\n",
       "2         XGBoost ROS Mean-Squared-Error  0.0184\n",
       "3    XGBoost ROS Root Mean-Squared-Error  0.1356"
      ]
     },
     "execution_count": 47,
     "metadata": {},
     "output_type": "execute_result"
    }
   ],
   "source": [
    "# Create the model Mean-Squared-Error & Root Mean-Squared-Error dataframe\n",
    "mse_rmse_scores = pd.DataFrame({\n",
    "    \"Model Dataset\" : [\"XGBoost SMOTE Mean-Squared-Error\",\n",
    "                       \"XGBoost SMOTE Root Mean-Squared-Error\",\n",
    "                       \"XGBoost ROS Mean-Squared-Error\", \n",
    "                       \"XGBoost ROS Root Mean-Squared-Error\"],\n",
    "    \"Score\" : [0.0144,0.1200,0.0184,0.1356]\n",
    "})\n",
    "\n",
    "# Display the Mean-Squared-Error & Root Mean-Squared-Error dataframe\n",
    "mse_rmse_scores"
   ]
  },
  {
   "cell_type": "markdown",
   "metadata": {},
   "source": [
    "#### ROC - AUC"
   ]
  },
  {
   "cell_type": "code",
   "execution_count": 45,
   "metadata": {},
   "outputs": [
    {
     "data": {
      "text/html": [
       "<div>\n",
       "<style scoped>\n",
       "    .dataframe tbody tr th:only-of-type {\n",
       "        vertical-align: middle;\n",
       "    }\n",
       "\n",
       "    .dataframe tbody tr th {\n",
       "        vertical-align: top;\n",
       "    }\n",
       "\n",
       "    .dataframe thead th {\n",
       "        text-align: right;\n",
       "    }\n",
       "</style>\n",
       "<table border=\"1\" class=\"dataframe\">\n",
       "  <thead>\n",
       "    <tr style=\"text-align: right;\">\n",
       "      <th></th>\n",
       "      <th>Model Dataset</th>\n",
       "      <th>Score</th>\n",
       "    </tr>\n",
       "  </thead>\n",
       "  <tbody>\n",
       "    <tr>\n",
       "      <th>0</th>\n",
       "      <td>XGBoost SMOTE ROC-AUC</td>\n",
       "      <td>0.9547</td>\n",
       "    </tr>\n",
       "    <tr>\n",
       "      <th>1</th>\n",
       "      <td>XGBoost ROS ROC-AUC</td>\n",
       "      <td>0.9674</td>\n",
       "    </tr>\n",
       "  </tbody>\n",
       "</table>\n",
       "</div>"
      ],
      "text/plain": [
       "           Model Dataset   Score\n",
       "0  XGBoost SMOTE ROC-AUC  0.9547\n",
       "1    XGBoost ROS ROC-AUC  0.9674"
      ]
     },
     "execution_count": 45,
     "metadata": {},
     "output_type": "execute_result"
    }
   ],
   "source": [
    "# Create the model ROC-AUC dataframe\n",
    "roc_auc_scores = pd.DataFrame({ \n",
    "    \"Model Dataset\" : [\"XGBoost SMOTE ROC-AUC\", \n",
    "                       \"XGBoost ROS ROC-AUC\"],\n",
    "    \"Score\" : [0.9547,0.9674]\n",
    "})\n",
    "\n",
    "# Display the ROC-AUC dataframe\n",
    "roc_auc_scores"
   ]
  }
 ],
 "metadata": {
  "kernelspec": {
   "display_name": "Python 3.7.7 64-bit ('dev': conda)",
   "language": "python",
   "name": "python37764bitdevcondadda073770a81494ab7c5bd419165b651"
  },
  "language_info": {
   "codemirror_mode": {
    "name": "ipython",
    "version": 3
   },
   "file_extension": ".py",
   "mimetype": "text/x-python",
   "name": "python",
   "nbconvert_exporter": "python",
   "pygments_lexer": "ipython3",
   "version": "3.7.9"
  }
 },
 "nbformat": 4,
 "nbformat_minor": 4
}
