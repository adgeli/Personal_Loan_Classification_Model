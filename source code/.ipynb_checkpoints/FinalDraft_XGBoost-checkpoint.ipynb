{
 "cells": [
  {
   "cell_type": "markdown",
   "metadata": {},
   "source": [
    "# Machine Learning Model: XGBoost \n",
    "\n",
    "### Background \n",
    "\n",
    "The following notebook seeks to apply an XGBoost gradient boosting model based on random oversampled (ROS) and SMOTE data to determine a predictive model. The results will then be evaluated based on the following metrics; \n",
    "\n",
    "1. Balanced Accuracy Score & Accuracy Score\n",
    "2. Confusion Matrix\n",
    "3. Classification Report \n",
    "4. F-Beta Score\n",
    "5. ROC - AUC\n",
    "6. Feature Importance \n",
    "\n",
    "### Objective \n",
    "\n",
    "The purpose is to evaluate the machine learning model's predictive capabilities in regards to determining the likelihood account holders of a financial insitution would be to take out a personal loan. Additionally, the models performance will be measured against two other machine learning algorithms; Logistic Regression and Random Forest Classifier. \n",
    "\n",
    "---\n"
   ]
  },
  {
   "cell_type": "markdown",
   "metadata": {},
   "source": [
    "## Initial Imports & Dependencies"
   ]
  },
  {
   "cell_type": "code",
   "execution_count": 1,
   "metadata": {},
   "outputs": [],
   "source": [
    "# Importing Libraries & Dependencies\n",
    "from pathlib import Path\n",
    "import time\n",
    "import pandas as pd\n",
    "import numpy as np\n",
    "import seaborn as sns\n",
    "import matplotlib.pyplot as plt\n",
    "\n",
    "%matplotlib inline"
   ]
  },
  {
   "cell_type": "code",
   "execution_count": 2,
   "metadata": {},
   "outputs": [],
   "source": [
    "# Import Machine Learning Model: GXBoost\n",
    "import xgboost as xgb\n",
    "from xgboost import XGBClassifier\n",
    "from xgboost import plot_importance\n",
    "from sklearn.model_selection import RandomizedSearchCV"
   ]
  },
  {
   "cell_type": "code",
   "execution_count": 3,
   "metadata": {},
   "outputs": [],
   "source": [
    "# Import SK-LEARN libraries \n",
    "from sklearn.metrics import balanced_accuracy_score, accuracy_score\n",
    "from sklearn.metrics import confusion_matrix\n",
    "from sklearn.metrics import classification_report\n",
    "from sklearn.metrics import plot_roc_curve\n",
    "from sklearn.metrics import roc_auc_score\n",
    "from sklearn.metrics import f1_score, fbeta_score"
   ]
  },
  {
   "cell_type": "code",
   "execution_count": 4,
   "metadata": {},
   "outputs": [],
   "source": [
    "# Import Warnings\n",
    "import warnings\n",
    "warnings.filterwarnings('ignore')"
   ]
  },
  {
   "cell_type": "markdown",
   "metadata": {},
   "source": [
    "---\n",
    "\n",
    "## Load Datasets"
   ]
  },
  {
   "cell_type": "code",
   "execution_count": 5,
   "metadata": {},
   "outputs": [],
   "source": [
    "# Import SMOTE & Random Over Sampled dataset Features\n",
    "# To import the X_train_smote, X_train_ros, X_train_scaled, X_test_scaled\n",
    "X_train_smote = np.loadtxt('resources/X_train_smote.csv', delimiter=',')\n",
    "X_train_ros = np.loadtxt('resources/X_train_ros.csv', delimiter=',')\n",
    "X_train_scaled = np.loadtxt('resources/X_train_scaled.csv', delimiter=',')\n",
    "X_test_scaled = np.loadtxt('resources/X_test_scaled.csv', delimiter=',')\n",
    "\n",
    "# Import SMOTE & Random Over Sampled dataset Traget\n",
    "# To import y_train_smote, y_train_ros\n",
    "y_train_smote = pd.read_csv('resources/y_train_smote.csv', sep=',', header=0, squeeze=True)\n",
    "y_train_ros = pd.read_csv('resources/y_train_ros.csv', sep=',', header=0, squeeze=True)\n",
    "\n",
    "# Import raw target dataset\n",
    "# To import y_train, y_test\n",
    "y_train = pd.read_csv('resources/y_train.csv', sep=',', header=0, squeeze=True, index_col=0)\n",
    "y_test = pd.read_csv('resources/y_test.csv', sep=',', header=0, squeeze=True, index_col=0)\n",
    "\n",
    "\n",
    "# Importing feature headers\n",
    "features = pd.read_csv('resources/features.csv').drop(columns='Unnamed: 0')"
   ]
  },
  {
   "cell_type": "code",
   "execution_count": 6,
   "metadata": {},
   "outputs": [
    {
     "data": {
      "text/plain": [
       "array([[-1.25090603, -1.16521339,  0.52423779, ..., -0.25383798,\n",
       "         0.82104028, -0.64593619],\n",
       "       [ 1.53218362, -0.66348527, -0.3456258 , ..., -0.25383798,\n",
       "         0.82104028, -0.64593619],\n",
       "       [-0.20724741, -0.11812861,  1.39410138, ..., -0.25383798,\n",
       "         0.82104028,  1.54814054],\n",
       "       ...,\n",
       "       [-1.08483328,  1.49825072,  1.39410138, ..., -0.25383798,\n",
       "        -1.21796704,  1.54814054],\n",
       "       [ 1.44656411,  2.32987912, -0.44152605, ...,  3.93952076,\n",
       "         0.82104028,  1.54814054],\n",
       "       [-0.12027586,  1.73424248,  1.15969001, ..., -0.25383798,\n",
       "        -1.21796704, -0.64593619]])"
      ]
     },
     "execution_count": 6,
     "metadata": {},
     "output_type": "execute_result"
    }
   ],
   "source": [
    "# Test dataset import\n",
    "# Display X_train_smote\n",
    "X_train_smote"
   ]
  },
  {
   "cell_type": "markdown",
   "metadata": {},
   "source": [
    "---\n",
    "\n",
    "## XGBoost Machine Learning Algoirthm\n"
   ]
  },
  {
   "cell_type": "markdown",
   "metadata": {},
   "source": [
    "### XGBoost: Model Optimization with RandmomizedSearchCV\n",
    "\n",
    "Using the original, SMOTE, and ROS training dataset to build a more robust model the meta-estimator, Random Search CV algorithm will be used to determine the best fit hyper-paramter distributions. The hyper-parameter optimization process will be applied to all three datasets to contribute to the overall model effectiveness evaluation.  \n",
    "\n",
    "**Randomized Search CV Process:**\n",
    "\n",
    "1. Set the hyper-parameters \n",
    "2. Create the RandomSearchCV variable\n",
    "3. Time function optimization\n",
    "4. Best Score\n",
    "5. Best Parameters\n",
    "6. Best Estimator \n",
    "\n",
    "*Best Estimator Note:*\n",
    "\n",
    "Based on the 'best estimator' results, those paramaters will be used in the XGBoost Classifier model to evaluate the machine learning algorithms performance.\n",
    "\n",
    "#### Original Scaled Data"
   ]
  },
  {
   "cell_type": "code",
   "execution_count": 7,
   "metadata": {},
   "outputs": [],
   "source": [
    "# Create an initial XGBoost Classifier model that will be used to optimize the hyper-parameters\n",
    "scaled_clf = XGBClassifier()"
   ]
  },
  {
   "cell_type": "code",
   "execution_count": 8,
   "metadata": {},
   "outputs": [],
   "source": [
    "# Create the models hyper-parameters using a dictionary\n",
    "params = {\n",
    "    \"learning_rate\" : [0.05,0.10,0.15,0.20,0.25,0.30], \n",
    "    \"min_child_weight\" : [1,3,4,7,9],\n",
    "    \"max_depth\" : [2,3,4,6,7,9,11,12,15,16,18],\n",
    "    \"colsample_bytree\" : [0.1,0.3,0.5,0.6,0.7],\n",
    "    \"booster\" : [\"gbtree\", \"gblinear\", \"dart\"],\n",
    "    \"subsample\": [0.5, 0.6, 0.7, 0.8, 0.9, 1.0],\n",
    "    \"gamma\": [0, 0.25, 0.5, 1.0], \n",
    "    \"reg_lambda\": [0.1, 1.0, 5.0, 10.0, 50.0, 100.0],\n",
    "    \"n_estimators\": [100]\n",
    "}"
   ]
  },
  {
   "cell_type": "code",
   "execution_count": 9,
   "metadata": {},
   "outputs": [],
   "source": [
    "# Random Search (rs) variable model\n",
    "scaled_rs = RandomizedSearchCV(scaled_clf, \n",
    "                               param_distributions=params, \n",
    "                               n_iter=5,\n",
    "                               n_jobs=1, \n",
    "                               verbose=2, \n",
    "                               cv=2,\n",
    "                               scoring='roc_auc', \n",
    "                               random_state=42)"
   ]
  },
  {
   "cell_type": "code",
   "execution_count": 10,
   "metadata": {},
   "outputs": [
    {
     "name": "stdout",
     "output_type": "stream",
     "text": [
      "Randomized search..\n",
      "Fitting 2 folds for each of 5 candidates, totalling 10 fits\n",
      "[CV] subsample=0.7, reg_lambda=50.0, n_estimators=100, min_child_weight=4, max_depth=11, learning_rate=0.1, gamma=0.5, colsample_bytree=0.5, booster=gbtree \n",
      "[CV]  subsample=0.7, reg_lambda=50.0, n_estimators=100, min_child_weight=4, max_depth=11, learning_rate=0.1, gamma=0.5, colsample_bytree=0.5, booster=gbtree, total=   0.1s\n",
      "[CV] subsample=0.7, reg_lambda=50.0, n_estimators=100, min_child_weight=4, max_depth=11, learning_rate=0.1, gamma=0.5, colsample_bytree=0.5, booster=gbtree \n",
      "[CV]  subsample=0.7, reg_lambda=50.0, n_estimators=100, min_child_weight=4, max_depth=11, learning_rate=0.1, gamma=0.5, colsample_bytree=0.5, booster=gbtree, total=   0.1s\n"
     ]
    },
    {
     "name": "stderr",
     "output_type": "stream",
     "text": [
      "[Parallel(n_jobs=1)]: Using backend SequentialBackend with 1 concurrent workers.\n",
      "[Parallel(n_jobs=1)]: Done   1 out of   1 | elapsed:    0.1s remaining:    0.0s\n"
     ]
    },
    {
     "name": "stdout",
     "output_type": "stream",
     "text": [
      "[CV] subsample=0.6, reg_lambda=1.0, n_estimators=100, min_child_weight=7, max_depth=18, learning_rate=0.15, gamma=0, colsample_bytree=0.7, booster=dart \n",
      "[CV]  subsample=0.6, reg_lambda=1.0, n_estimators=100, min_child_weight=7, max_depth=18, learning_rate=0.15, gamma=0, colsample_bytree=0.7, booster=dart, total=   0.2s\n",
      "[CV] subsample=0.6, reg_lambda=1.0, n_estimators=100, min_child_weight=7, max_depth=18, learning_rate=0.15, gamma=0, colsample_bytree=0.7, booster=dart \n",
      "[CV]  subsample=0.6, reg_lambda=1.0, n_estimators=100, min_child_weight=7, max_depth=18, learning_rate=0.15, gamma=0, colsample_bytree=0.7, booster=dart, total=   0.2s\n",
      "[CV] subsample=0.9, reg_lambda=50.0, n_estimators=100, min_child_weight=9, max_depth=11, learning_rate=0.05, gamma=1.0, colsample_bytree=0.5, booster=gbtree \n",
      "[CV]  subsample=0.9, reg_lambda=50.0, n_estimators=100, min_child_weight=9, max_depth=11, learning_rate=0.05, gamma=1.0, colsample_bytree=0.5, booster=gbtree, total=   0.1s\n",
      "[CV] subsample=0.9, reg_lambda=50.0, n_estimators=100, min_child_weight=9, max_depth=11, learning_rate=0.05, gamma=1.0, colsample_bytree=0.5, booster=gbtree \n",
      "[CV]  subsample=0.9, reg_lambda=50.0, n_estimators=100, min_child_weight=9, max_depth=11, learning_rate=0.05, gamma=1.0, colsample_bytree=0.5, booster=gbtree, total=   0.1s\n",
      "[CV] subsample=0.5, reg_lambda=1.0, n_estimators=100, min_child_weight=4, max_depth=15, learning_rate=0.25, gamma=0.5, colsample_bytree=0.5, booster=gblinear \n",
      "[CV]  subsample=0.5, reg_lambda=1.0, n_estimators=100, min_child_weight=4, max_depth=15, learning_rate=0.25, gamma=0.5, colsample_bytree=0.5, booster=gblinear, total=   0.0s\n",
      "[CV] subsample=0.5, reg_lambda=1.0, n_estimators=100, min_child_weight=4, max_depth=15, learning_rate=0.25, gamma=0.5, colsample_bytree=0.5, booster=gblinear \n",
      "[CV]  subsample=0.5, reg_lambda=1.0, n_estimators=100, min_child_weight=4, max_depth=15, learning_rate=0.25, gamma=0.5, colsample_bytree=0.5, booster=gblinear, total=   0.0s\n",
      "[CV] subsample=0.7, reg_lambda=5.0, n_estimators=100, min_child_weight=9, max_depth=16, learning_rate=0.25, gamma=0.25, colsample_bytree=0.1, booster=gblinear \n",
      "[CV]  subsample=0.7, reg_lambda=5.0, n_estimators=100, min_child_weight=9, max_depth=16, learning_rate=0.25, gamma=0.25, colsample_bytree=0.1, booster=gblinear, total=   0.0s\n",
      "[CV] subsample=0.7, reg_lambda=5.0, n_estimators=100, min_child_weight=9, max_depth=16, learning_rate=0.25, gamma=0.25, colsample_bytree=0.1, booster=gblinear \n",
      "[CV]  subsample=0.7, reg_lambda=5.0, n_estimators=100, min_child_weight=9, max_depth=16, learning_rate=0.25, gamma=0.25, colsample_bytree=0.1, booster=gblinear, total=   0.0s\n"
     ]
    },
    {
     "name": "stderr",
     "output_type": "stream",
     "text": [
      "[Parallel(n_jobs=1)]: Done  10 out of  10 | elapsed:    0.9s finished\n"
     ]
    },
    {
     "name": "stdout",
     "output_type": "stream",
     "text": [
      "Randomized search time: 1.3293027877807617\n"
     ]
    }
   ],
   "source": [
    "# Time optimization\n",
    "\n",
    "# Create the start time function\n",
    "print(\"Randomized search..\")\n",
    "search_time_start = time.time()\n",
    "\n",
    "# Fit the SMOTE dataset\n",
    "scaled_rs.fit(X_train_scaled, y_train)\n",
    "\n",
    "# Time optimization print statement: \n",
    "print(\"Randomized search time:\", time.time() - search_time_start)"
   ]
  },
  {
   "cell_type": "code",
   "execution_count": 11,
   "metadata": {},
   "outputs": [
    {
     "name": "stdout",
     "output_type": "stream",
     "text": [
      "Random Search Best Score: 0.989037200917732\n"
     ]
    }
   ],
   "source": [
    "# Calculate the Best Score\n",
    "rs_best_score = scaled_rs.best_score_\n",
    "\n",
    "# Display the best score\n",
    "print(f\"Random Search Best Score: {rs_best_score}\")"
   ]
  },
  {
   "cell_type": "code",
   "execution_count": 12,
   "metadata": {},
   "outputs": [
    {
     "name": "stdout",
     "output_type": "stream",
     "text": [
      "Random Search Hyper-Parameters: {'subsample': 0.6, 'reg_lambda': 1.0, 'n_estimators': 100, 'min_child_weight': 7, 'max_depth': 18, 'learning_rate': 0.15, 'gamma': 0, 'colsample_bytree': 0.7, 'booster': 'dart'}\n"
     ]
    }
   ],
   "source": [
    "# Calculate the best hyper-parameters for the model\n",
    "rs_best_params = scaled_rs.best_params_\n",
    "\n",
    "# Display the best hyper-parameters\n",
    "print(f\"Random Search Hyper-Parameters: {rs_best_params}\")"
   ]
  },
  {
   "cell_type": "code",
   "execution_count": 13,
   "metadata": {},
   "outputs": [
    {
     "data": {
      "text/plain": [
       "XGBClassifier(booster='dart', colsample_bytree=0.7, learning_rate=0.15,\n",
       "              max_depth=18, min_child_weight=7, reg_lambda=1.0, subsample=0.6)"
      ]
     },
     "execution_count": 13,
     "metadata": {},
     "output_type": "execute_result"
    }
   ],
   "source": [
    "# Display the best estimator to use in the model\n",
    "scaled_rs.best_estimator_"
   ]
  },
  {
   "cell_type": "markdown",
   "metadata": {},
   "source": [
    "#### SMOTE Data"
   ]
  },
  {
   "cell_type": "code",
   "execution_count": 14,
   "metadata": {},
   "outputs": [],
   "source": [
    "# Create an initial XGBoost Classifier model that will be used to optimize the hyper-parameters\n",
    "smote_clf = XGBClassifier()"
   ]
  },
  {
   "cell_type": "code",
   "execution_count": 15,
   "metadata": {},
   "outputs": [],
   "source": [
    "# Create the models hyper-parameters using a dictionary\n",
    "params = {\n",
    "    \"learning_rate\" : [0.05,0.10,0.15,0.20,0.25,0.30], \n",
    "    \"min_child_weight\" : [1,3,4,7,9],\n",
    "    \"max_depth\" : [2,3,4,6,7,9,11,12,15,16,18],\n",
    "    \"colsample_bytree\" : [0.1,0.3,0.5,0.6,0.7],\n",
    "    \"booster\" : [\"gbtree\", \"gblinear\", \"dart\"],\n",
    "    \"subsample\": [0.5, 0.6, 0.7, 0.8, 0.9, 1.0],\n",
    "    \"gamma\": [0, 0.25, 0.5, 1.0], \n",
    "    \"reg_lambda\": [0.1, 1.0, 5.0, 10.0, 50.0, 100.0],\n",
    "    \"n_estimators\": [100]\n",
    "}"
   ]
  },
  {
   "cell_type": "code",
   "execution_count": 16,
   "metadata": {},
   "outputs": [],
   "source": [
    "# Random Search (rs) variable model\n",
    "smote_rs = RandomizedSearchCV(smote_clf, \n",
    "                              param_distributions=params, \n",
    "                              n_iter=5,\n",
    "                              n_jobs=1, \n",
    "                              verbose=2, \n",
    "                              cv=2,\n",
    "                              scoring='roc_auc', \n",
    "                              random_state=42)"
   ]
  },
  {
   "cell_type": "code",
   "execution_count": 17,
   "metadata": {
    "tags": []
   },
   "outputs": [
    {
     "name": "stdout",
     "output_type": "stream",
     "text": [
      "Randomized search..\n",
      "Fitting 2 folds for each of 5 candidates, totalling 10 fits\n",
      "[CV] subsample=0.7, reg_lambda=50.0, n_estimators=100, min_child_weight=4, max_depth=11, learning_rate=0.1, gamma=0.5, colsample_bytree=0.5, booster=gbtree \n"
     ]
    },
    {
     "name": "stderr",
     "output_type": "stream",
     "text": [
      "[Parallel(n_jobs=1)]: Using backend SequentialBackend with 1 concurrent workers.\n"
     ]
    },
    {
     "name": "stdout",
     "output_type": "stream",
     "text": [
      "[CV]  subsample=0.7, reg_lambda=50.0, n_estimators=100, min_child_weight=4, max_depth=11, learning_rate=0.1, gamma=0.5, colsample_bytree=0.5, booster=gbtree, total=   0.2s\n",
      "[CV] subsample=0.7, reg_lambda=50.0, n_estimators=100, min_child_weight=4, max_depth=11, learning_rate=0.1, gamma=0.5, colsample_bytree=0.5, booster=gbtree \n"
     ]
    },
    {
     "name": "stderr",
     "output_type": "stream",
     "text": [
      "[Parallel(n_jobs=1)]: Done   1 out of   1 | elapsed:    0.2s remaining:    0.0s\n"
     ]
    },
    {
     "name": "stdout",
     "output_type": "stream",
     "text": [
      "[CV]  subsample=0.7, reg_lambda=50.0, n_estimators=100, min_child_weight=4, max_depth=11, learning_rate=0.1, gamma=0.5, colsample_bytree=0.5, booster=gbtree, total=   0.2s\n",
      "[CV] subsample=0.6, reg_lambda=1.0, n_estimators=100, min_child_weight=7, max_depth=18, learning_rate=0.15, gamma=0, colsample_bytree=0.7, booster=dart \n",
      "[CV]  subsample=0.6, reg_lambda=1.0, n_estimators=100, min_child_weight=7, max_depth=18, learning_rate=0.15, gamma=0, colsample_bytree=0.7, booster=dart, total=   0.5s\n",
      "[CV] subsample=0.6, reg_lambda=1.0, n_estimators=100, min_child_weight=7, max_depth=18, learning_rate=0.15, gamma=0, colsample_bytree=0.7, booster=dart \n",
      "[CV]  subsample=0.6, reg_lambda=1.0, n_estimators=100, min_child_weight=7, max_depth=18, learning_rate=0.15, gamma=0, colsample_bytree=0.7, booster=dart, total=   0.5s\n",
      "[CV] subsample=0.9, reg_lambda=50.0, n_estimators=100, min_child_weight=9, max_depth=11, learning_rate=0.05, gamma=1.0, colsample_bytree=0.5, booster=gbtree \n",
      "[CV]  subsample=0.9, reg_lambda=50.0, n_estimators=100, min_child_weight=9, max_depth=11, learning_rate=0.05, gamma=1.0, colsample_bytree=0.5, booster=gbtree, total=   0.2s\n",
      "[CV] subsample=0.9, reg_lambda=50.0, n_estimators=100, min_child_weight=9, max_depth=11, learning_rate=0.05, gamma=1.0, colsample_bytree=0.5, booster=gbtree \n",
      "[CV]  subsample=0.9, reg_lambda=50.0, n_estimators=100, min_child_weight=9, max_depth=11, learning_rate=0.05, gamma=1.0, colsample_bytree=0.5, booster=gbtree, total=   0.2s\n",
      "[CV] subsample=0.5, reg_lambda=1.0, n_estimators=100, min_child_weight=4, max_depth=15, learning_rate=0.25, gamma=0.5, colsample_bytree=0.5, booster=gblinear \n",
      "[CV]  subsample=0.5, reg_lambda=1.0, n_estimators=100, min_child_weight=4, max_depth=15, learning_rate=0.25, gamma=0.5, colsample_bytree=0.5, booster=gblinear, total=   0.1s\n",
      "[CV] subsample=0.5, reg_lambda=1.0, n_estimators=100, min_child_weight=4, max_depth=15, learning_rate=0.25, gamma=0.5, colsample_bytree=0.5, booster=gblinear \n",
      "[CV]  subsample=0.5, reg_lambda=1.0, n_estimators=100, min_child_weight=4, max_depth=15, learning_rate=0.25, gamma=0.5, colsample_bytree=0.5, booster=gblinear, total=   0.1s\n",
      "[CV] subsample=0.7, reg_lambda=5.0, n_estimators=100, min_child_weight=9, max_depth=16, learning_rate=0.25, gamma=0.25, colsample_bytree=0.1, booster=gblinear \n",
      "[CV]  subsample=0.7, reg_lambda=5.0, n_estimators=100, min_child_weight=9, max_depth=16, learning_rate=0.25, gamma=0.25, colsample_bytree=0.1, booster=gblinear, total=   0.1s\n",
      "[CV] subsample=0.7, reg_lambda=5.0, n_estimators=100, min_child_weight=9, max_depth=16, learning_rate=0.25, gamma=0.25, colsample_bytree=0.1, booster=gblinear \n",
      "[CV]  subsample=0.7, reg_lambda=5.0, n_estimators=100, min_child_weight=9, max_depth=16, learning_rate=0.25, gamma=0.25, colsample_bytree=0.1, booster=gblinear, total=   0.1s\n"
     ]
    },
    {
     "name": "stderr",
     "output_type": "stream",
     "text": [
      "[Parallel(n_jobs=1)]: Done  10 out of  10 | elapsed:    2.2s finished\n"
     ]
    },
    {
     "name": "stdout",
     "output_type": "stream",
     "text": [
      "Randomized search time: 3.3268849849700928\n"
     ]
    }
   ],
   "source": [
    "# Time optimization\n",
    "\n",
    "# Create the start time function\n",
    "print(\"Randomized search..\")\n",
    "search_time_start = time.time()\n",
    "\n",
    "# Fit the SMOTE dataset\n",
    "smote_rs.fit(X_train_smote, y_train_smote)\n",
    "\n",
    "# Time optimization print statement: \n",
    "print(\"Randomized search time:\", time.time() - search_time_start)"
   ]
  },
  {
   "cell_type": "code",
   "execution_count": 18,
   "metadata": {
    "tags": []
   },
   "outputs": [
    {
     "name": "stdout",
     "output_type": "stream",
     "text": [
      "Random Search Best Score: 0.9989162990228071\n"
     ]
    }
   ],
   "source": [
    "# Calculate the Best Score\n",
    "rs_best_score = smote_rs.best_score_\n",
    "\n",
    "# Display the best score\n",
    "print(f\"Random Search Best Score: {rs_best_score}\")"
   ]
  },
  {
   "cell_type": "code",
   "execution_count": 19,
   "metadata": {
    "tags": []
   },
   "outputs": [
    {
     "name": "stdout",
     "output_type": "stream",
     "text": [
      "Random Search Hyper-Parameters: {'subsample': 0.6, 'reg_lambda': 1.0, 'n_estimators': 100, 'min_child_weight': 7, 'max_depth': 18, 'learning_rate': 0.15, 'gamma': 0, 'colsample_bytree': 0.7, 'booster': 'dart'}\n"
     ]
    }
   ],
   "source": [
    "# Calculate the best hyper-parameters for the model\n",
    "rs_best_params = smote_rs.best_params_\n",
    "\n",
    "# Display the best hyper-parameters\n",
    "print(f\"Random Search Hyper-Parameters: {rs_best_params}\")"
   ]
  },
  {
   "cell_type": "code",
   "execution_count": 20,
   "metadata": {},
   "outputs": [
    {
     "data": {
      "text/plain": [
       "XGBClassifier(booster='dart', colsample_bytree=0.7, learning_rate=0.15,\n",
       "              max_depth=18, min_child_weight=7, reg_lambda=1.0, subsample=0.6)"
      ]
     },
     "execution_count": 20,
     "metadata": {},
     "output_type": "execute_result"
    }
   ],
   "source": [
    "# Display the best estimator to use in the model\n",
    "smote_rs.best_estimator_"
   ]
  },
  {
   "cell_type": "markdown",
   "metadata": {},
   "source": [
    "#### ROS Data"
   ]
  },
  {
   "cell_type": "code",
   "execution_count": 21,
   "metadata": {},
   "outputs": [],
   "source": [
    "# Create an initial XGBoost Classifier model that will be used to optimize the hyper-parameters\n",
    "ros_clf = XGBClassifier()"
   ]
  },
  {
   "cell_type": "code",
   "execution_count": 22,
   "metadata": {},
   "outputs": [],
   "source": [
    "# Create the models hyper-parameters using a dictionary\n",
    "params = {\n",
    "    \"learning_rate\" : [0.05,0.10,0.15,0.20,0.25,0.30], \n",
    "    \"min_child_weight\" : [1,3,4,7,9],\n",
    "    \"max_depth\" : [2,3,4,6,7,9,11,12,15,16,18],\n",
    "    \"colsample_bytree\" : [0.1,0.3,0.5,0.6,0.7],\n",
    "    \"booster\" : [\"gbtree\", \"gblinear\", \"dart\"],\n",
    "    \"subsample\": [0.5, 0.6, 0.7, 0.8, 0.9, 1.0],\n",
    "    \"gamma\": [0, 0.25, 0.5, 1.0], \n",
    "    \"reg_lambda\": [0.1, 1.0, 5.0, 10.0, 50.0, 100.0],\n",
    "    \"n_estimators\": [100]\n",
    "}"
   ]
  },
  {
   "cell_type": "code",
   "execution_count": 23,
   "metadata": {},
   "outputs": [],
   "source": [
    "# Random Search (rs) variable model\n",
    "ros_rs = RandomizedSearchCV(ros_clf, \n",
    "                            param_distributions=params, \n",
    "                            n_iter=5,\n",
    "                            n_jobs=1, \n",
    "                            verbose=2, \n",
    "                            cv=2,\n",
    "                            scoring='roc_auc', \n",
    "                            random_state=42)"
   ]
  },
  {
   "cell_type": "code",
   "execution_count": 24,
   "metadata": {},
   "outputs": [
    {
     "name": "stdout",
     "output_type": "stream",
     "text": [
      "Randomized search..\n",
      "Fitting 2 folds for each of 5 candidates, totalling 10 fits\n",
      "[CV] subsample=0.7, reg_lambda=50.0, n_estimators=100, min_child_weight=4, max_depth=11, learning_rate=0.1, gamma=0.5, colsample_bytree=0.5, booster=gbtree \n"
     ]
    },
    {
     "name": "stderr",
     "output_type": "stream",
     "text": [
      "[Parallel(n_jobs=1)]: Using backend SequentialBackend with 1 concurrent workers.\n"
     ]
    },
    {
     "name": "stdout",
     "output_type": "stream",
     "text": [
      "[CV]  subsample=0.7, reg_lambda=50.0, n_estimators=100, min_child_weight=4, max_depth=11, learning_rate=0.1, gamma=0.5, colsample_bytree=0.5, booster=gbtree, total=   0.2s\n",
      "[CV] subsample=0.7, reg_lambda=50.0, n_estimators=100, min_child_weight=4, max_depth=11, learning_rate=0.1, gamma=0.5, colsample_bytree=0.5, booster=gbtree \n"
     ]
    },
    {
     "name": "stderr",
     "output_type": "stream",
     "text": [
      "[Parallel(n_jobs=1)]: Done   1 out of   1 | elapsed:    0.2s remaining:    0.0s\n"
     ]
    },
    {
     "name": "stdout",
     "output_type": "stream",
     "text": [
      "[CV]  subsample=0.7, reg_lambda=50.0, n_estimators=100, min_child_weight=4, max_depth=11, learning_rate=0.1, gamma=0.5, colsample_bytree=0.5, booster=gbtree, total=   0.2s\n",
      "[CV] subsample=0.6, reg_lambda=1.0, n_estimators=100, min_child_weight=7, max_depth=18, learning_rate=0.15, gamma=0, colsample_bytree=0.7, booster=dart \n",
      "[CV]  subsample=0.6, reg_lambda=1.0, n_estimators=100, min_child_weight=7, max_depth=18, learning_rate=0.15, gamma=0, colsample_bytree=0.7, booster=dart, total=   0.5s\n",
      "[CV] subsample=0.6, reg_lambda=1.0, n_estimators=100, min_child_weight=7, max_depth=18, learning_rate=0.15, gamma=0, colsample_bytree=0.7, booster=dart \n",
      "[CV]  subsample=0.6, reg_lambda=1.0, n_estimators=100, min_child_weight=7, max_depth=18, learning_rate=0.15, gamma=0, colsample_bytree=0.7, booster=dart, total=   0.5s\n",
      "[CV] subsample=0.9, reg_lambda=50.0, n_estimators=100, min_child_weight=9, max_depth=11, learning_rate=0.05, gamma=1.0, colsample_bytree=0.5, booster=gbtree \n",
      "[CV]  subsample=0.9, reg_lambda=50.0, n_estimators=100, min_child_weight=9, max_depth=11, learning_rate=0.05, gamma=1.0, colsample_bytree=0.5, booster=gbtree, total=   0.2s\n",
      "[CV] subsample=0.9, reg_lambda=50.0, n_estimators=100, min_child_weight=9, max_depth=11, learning_rate=0.05, gamma=1.0, colsample_bytree=0.5, booster=gbtree \n",
      "[CV]  subsample=0.9, reg_lambda=50.0, n_estimators=100, min_child_weight=9, max_depth=11, learning_rate=0.05, gamma=1.0, colsample_bytree=0.5, booster=gbtree, total=   0.2s\n",
      "[CV] subsample=0.5, reg_lambda=1.0, n_estimators=100, min_child_weight=4, max_depth=15, learning_rate=0.25, gamma=0.5, colsample_bytree=0.5, booster=gblinear \n",
      "[CV]  subsample=0.5, reg_lambda=1.0, n_estimators=100, min_child_weight=4, max_depth=15, learning_rate=0.25, gamma=0.5, colsample_bytree=0.5, booster=gblinear, total=   0.1s\n",
      "[CV] subsample=0.5, reg_lambda=1.0, n_estimators=100, min_child_weight=4, max_depth=15, learning_rate=0.25, gamma=0.5, colsample_bytree=0.5, booster=gblinear \n",
      "[CV]  subsample=0.5, reg_lambda=1.0, n_estimators=100, min_child_weight=4, max_depth=15, learning_rate=0.25, gamma=0.5, colsample_bytree=0.5, booster=gblinear, total=   0.1s\n",
      "[CV] subsample=0.7, reg_lambda=5.0, n_estimators=100, min_child_weight=9, max_depth=16, learning_rate=0.25, gamma=0.25, colsample_bytree=0.1, booster=gblinear \n",
      "[CV]  subsample=0.7, reg_lambda=5.0, n_estimators=100, min_child_weight=9, max_depth=16, learning_rate=0.25, gamma=0.25, colsample_bytree=0.1, booster=gblinear, total=   0.1s\n",
      "[CV] subsample=0.7, reg_lambda=5.0, n_estimators=100, min_child_weight=9, max_depth=16, learning_rate=0.25, gamma=0.25, colsample_bytree=0.1, booster=gblinear \n",
      "[CV]  subsample=0.7, reg_lambda=5.0, n_estimators=100, min_child_weight=9, max_depth=16, learning_rate=0.25, gamma=0.25, colsample_bytree=0.1, booster=gblinear, total=   0.1s\n"
     ]
    },
    {
     "name": "stderr",
     "output_type": "stream",
     "text": [
      "[Parallel(n_jobs=1)]: Done  10 out of  10 | elapsed:    2.2s finished\n"
     ]
    },
    {
     "name": "stdout",
     "output_type": "stream",
     "text": [
      "Randomized search time: 3.455902099609375\n"
     ]
    }
   ],
   "source": [
    "# Time optimization\n",
    "\n",
    "# Create the start time function\n",
    "print(\"Randomized search..\")\n",
    "search_time_start = time.time()\n",
    "\n",
    "# Fit the SMOTE dataset\n",
    "ros_rs.fit(X_train_ros, y_train_ros)\n",
    "\n",
    "# Time optimization print statement: \n",
    "print(\"Randomized search time:\", time.time() - search_time_start)"
   ]
  },
  {
   "cell_type": "code",
   "execution_count": 25,
   "metadata": {},
   "outputs": [
    {
     "name": "stdout",
     "output_type": "stream",
     "text": [
      "Random Search Best Score: 0.9983134501092055\n"
     ]
    }
   ],
   "source": [
    "# Calculate the Best Score\n",
    "rs_best_score = ros_rs.best_score_\n",
    "\n",
    "# Display the best score\n",
    "print(f\"Random Search Best Score: {rs_best_score}\")"
   ]
  },
  {
   "cell_type": "code",
   "execution_count": 26,
   "metadata": {},
   "outputs": [
    {
     "name": "stdout",
     "output_type": "stream",
     "text": [
      "Random Search Hyper-Parameters: {'subsample': 0.6, 'reg_lambda': 1.0, 'n_estimators': 100, 'min_child_weight': 7, 'max_depth': 18, 'learning_rate': 0.15, 'gamma': 0, 'colsample_bytree': 0.7, 'booster': 'dart'}\n"
     ]
    }
   ],
   "source": [
    "# Calculate the best hyper-parameters for the model\n",
    "rs_best_params = ros_rs.best_params_\n",
    "\n",
    "# Display the best hyper-parameters\n",
    "print(f\"Random Search Hyper-Parameters: {rs_best_params}\")"
   ]
  },
  {
   "cell_type": "code",
   "execution_count": 27,
   "metadata": {},
   "outputs": [
    {
     "data": {
      "text/plain": [
       "XGBClassifier(booster='dart', colsample_bytree=0.7, learning_rate=0.15,\n",
       "              max_depth=18, min_child_weight=7, reg_lambda=1.0, subsample=0.6)"
      ]
     },
     "execution_count": 27,
     "metadata": {},
     "output_type": "execute_result"
    }
   ],
   "source": [
    "# Display the best estimator to use in the model\n",
    "ros_rs.best_estimator_"
   ]
  },
  {
   "cell_type": "markdown",
   "metadata": {},
   "source": [
    "---\n",
    "\n",
    "### XGBoost Model: Original Scaled Dataset\n",
    "\n",
    "Now that the XGBoost Classifier model has pre-determined optimized hyper-paramters, the results can be applied to training and testing the original scaled dataset.\n",
    "\n",
    "**To evaluate the model the following metrics will be applied:**\n",
    "\n",
    "1. Balanced Accuracy Score & Accuracy Score\n",
    "2. Confusion Matrix\n",
    "3. Classification Report \n",
    "4. F-Beta Score\n",
    "5. ROC - AUC\n",
    "6. Feature Importance \n",
    "\n",
    "#### Set the Model"
   ]
  },
  {
   "cell_type": "code",
   "execution_count": 28,
   "metadata": {},
   "outputs": [],
   "source": [
    "# Set the model variable & the hyperparameters based on the 'best estimator' results\n",
    "model = XGBClassifier(booster='dart', \n",
    "                      colsample_bytree=0.7, \n",
    "                      learning_rate=0.15,\n",
    "                      max_depth=18, \n",
    "                      min_child_weight=7, \n",
    "                      reg_lambda=1.0, \n",
    "                      subsample=0.6)"
   ]
  },
  {
   "cell_type": "code",
   "execution_count": 29,
   "metadata": {},
   "outputs": [
    {
     "data": {
      "text/plain": [
       "XGBClassifier(booster='dart', colsample_bytree=0.7, learning_rate=0.15,\n",
       "              max_depth=18, min_child_weight=7, reg_lambda=1.0, subsample=0.6)"
      ]
     },
     "execution_count": 29,
     "metadata": {},
     "output_type": "execute_result"
    }
   ],
   "source": [
    "# Fit the SMOTE dataset to the model \n",
    "model.fit(X_train_scaled, y_train)"
   ]
  },
  {
   "cell_type": "markdown",
   "metadata": {},
   "source": [
    "#### Model Prediction"
   ]
  },
  {
   "cell_type": "code",
   "execution_count": 30,
   "metadata": {},
   "outputs": [
    {
     "data": {
      "text/plain": [
       "array([0, 0, 0, ..., 0, 0, 0])"
      ]
     },
     "execution_count": 30,
     "metadata": {},
     "output_type": "execute_result"
    }
   ],
   "source": [
    "# Set a predict model\n",
    "y_pred = model.predict(X_test_scaled)\n",
    "\n",
    "# Display the variable\n",
    "y_pred"
   ]
  },
  {
   "cell_type": "code",
   "execution_count": 31,
   "metadata": {},
   "outputs": [
    {
     "data": {
      "text/html": [
       "<div>\n",
       "<style scoped>\n",
       "    .dataframe tbody tr th:only-of-type {\n",
       "        vertical-align: middle;\n",
       "    }\n",
       "\n",
       "    .dataframe tbody tr th {\n",
       "        vertical-align: top;\n",
       "    }\n",
       "\n",
       "    .dataframe thead th {\n",
       "        text-align: right;\n",
       "    }\n",
       "</style>\n",
       "<table border=\"1\" class=\"dataframe\">\n",
       "  <thead>\n",
       "    <tr style=\"text-align: right;\">\n",
       "      <th></th>\n",
       "      <th>Prediction</th>\n",
       "      <th>Actual</th>\n",
       "    </tr>\n",
       "  </thead>\n",
       "  <tbody>\n",
       "    <tr>\n",
       "      <th>1245</th>\n",
       "      <td>0</td>\n",
       "      <td>0</td>\n",
       "    </tr>\n",
       "    <tr>\n",
       "      <th>1246</th>\n",
       "      <td>1</td>\n",
       "      <td>1</td>\n",
       "    </tr>\n",
       "    <tr>\n",
       "      <th>1247</th>\n",
       "      <td>0</td>\n",
       "      <td>0</td>\n",
       "    </tr>\n",
       "    <tr>\n",
       "      <th>1248</th>\n",
       "      <td>0</td>\n",
       "      <td>0</td>\n",
       "    </tr>\n",
       "    <tr>\n",
       "      <th>1249</th>\n",
       "      <td>0</td>\n",
       "      <td>0</td>\n",
       "    </tr>\n",
       "  </tbody>\n",
       "</table>\n",
       "</div>"
      ],
      "text/plain": [
       "      Prediction  Actual\n",
       "1245           0       0\n",
       "1246           1       1\n",
       "1247           0       0\n",
       "1248           0       0\n",
       "1249           0       0"
      ]
     },
     "execution_count": 31,
     "metadata": {},
     "output_type": "execute_result"
    }
   ],
   "source": [
    "# Create a dataframe containing the y_pred results\n",
    "results = pd.DataFrame({\"Prediction\": y_pred, \"Actual\": y_test}).reset_index(drop=True)\n",
    "\n",
    "# Display the dataframe\n",
    "results.tail()"
   ]
  },
  {
   "cell_type": "markdown",
   "metadata": {},
   "source": [
    "### Scaled Model Evaluation: \n",
    "\n",
    "#### 1. Balanced Accuracy Score & Accuracy Score"
   ]
  },
  {
   "cell_type": "code",
   "execution_count": 32,
   "metadata": {},
   "outputs": [
    {
     "name": "stdout",
     "output_type": "stream",
     "text": [
      "Scaled XGB Classifier Balanced Accuracy Score Model is: 0.9436209439528024\n",
      "Scaled XGB Classifier Accuracy Score Model is: 0.9856\n"
     ]
    }
   ],
   "source": [
    "# Evaluate the predict model through the Balanced Accuracy Score metric\n",
    "model_balanced_accuracy_score = balanced_accuracy_score(y_test, y_pred)\n",
    "\n",
    "# Evaluate the predict model through the Accuracy Score metric\n",
    "model_accuracy_score = accuracy_score(y_test, y_pred)\n",
    "\n",
    "# Print the evaluation results\n",
    "print(f\"Scaled XGB Classifier Balanced Accuracy Score Model is: {model_balanced_accuracy_score}\")\n",
    "print(f\"Scaled XGB Classifier Accuracy Score Model is: {model_accuracy_score}\")"
   ]
  },
  {
   "cell_type": "markdown",
   "metadata": {},
   "source": [
    "#### 2. Confusion Matrix"
   ]
  },
  {
   "cell_type": "code",
   "execution_count": 33,
   "metadata": {},
   "outputs": [
    {
     "data": {
      "text/plain": [
       "Text(33.0, 0.5, 'Predicted')"
      ]
     },
     "execution_count": 33,
     "metadata": {},
     "output_type": "execute_result"
    },
    {
     "data": {
      "image/png": "[encoded data removed]",
      "text/plain": [
       "<Figure size 432x288 with 2 Axes>"
      ]
     },
     "metadata": {
      "needs_background": "light"
     },
     "output_type": "display_data"
    }
   ],
   "source": [
    "# Create the confusion matrix (cm)\n",
    "cm = confusion_matrix(y_test, y_pred)\n",
    "\n",
    "# Display the confusion matrix\n",
    "sns.heatmap(cm,\n",
    "            cmap = 'Blues', \n",
    "            fmt = '', \n",
    "            annot = True)\n",
    "\n",
    "# Set plot labels \n",
    "plt.title(\"Scaled Model: Confusion Matrix\")\n",
    "plt.xlabel(\"Actual\")\n",
    "plt.ylabel(\"Predicted\")"
   ]
  },
  {
   "cell_type": "markdown",
   "metadata": {},
   "source": [
    "#### 3. Classification Report"
   ]
  },
  {
   "cell_type": "code",
   "execution_count": 81,
   "metadata": {},
   "outputs": [
    {
     "name": "stdout",
     "output_type": "stream",
     "text": [
      "Scaled Classification Report:\n",
      "              precision    recall  f1-score   support\n",
      "\n",
      "           0       0.99      0.99      0.99      1130\n",
      "           1       0.93      0.93      0.93       120\n",
      "\n",
      "    accuracy                           0.99      1250\n",
      "   macro avg       0.96      0.96      0.96      1250\n",
      "weighted avg       0.99      0.99      0.99      1250\n",
      "\n"
     ]
    }
   ],
   "source": [
    "# Classification report title print statement \n",
    "print(\"Scaled Classification Report:\")\n",
    "\n",
    "# Create the classification report\n",
    "scaled_report = classification_report(y_test, y_pred)\n",
    "\n",
    "# Print the classification report\n",
    "print(scaled_report)"
   ]
  },
  {
   "cell_type": "markdown",
   "metadata": {},
   "source": [
    "#### 4. F-Beta Score"
   ]
  },
  {
   "cell_type": "code",
   "execution_count": 36,
   "metadata": {},
   "outputs": [
    {
     "name": "stdout",
     "output_type": "stream",
     "text": [
      "F1 Beta Score: 0.941901\n"
     ]
    }
   ],
   "source": [
    "# Calculate Beta F1 Score\n",
    "fbeta = fbeta_score(y_test, y_pred,beta=0.5)\n",
    "\n",
    "# Print the F1 score results\n",
    "print(\"F1 Beta Score: %f\" % (fbeta))"
   ]
  },
  {
   "cell_type": "markdown",
   "metadata": {},
   "source": [
    "#### 5. ROC - AUC"
   ]
  },
  {
   "cell_type": "code",
   "execution_count": 37,
   "metadata": {},
   "outputs": [
    {
     "data": {
      "image/png": "[encoded data removed]",
      "text/plain": [
       "<Figure size 432x288 with 1 Axes>"
      ]
     },
     "metadata": {
      "needs_background": "light"
     },
     "output_type": "display_data"
    },
    {
     "name": "stdout",
     "output_type": "stream",
     "text": [
      "Scaled Model: ROC-AUC Score: 0.9436209439528023\n"
     ]
    }
   ],
   "source": [
    "# Create the ROC curve \n",
    "roc_model_curve = plot_roc_curve(model, X_test_scaled, y_test)\n",
    "\n",
    "# Set plot labels\n",
    "plt.title(\"Scaled Model: XGBoost ROC\")\n",
    "\n",
    "# Plot the ROC curve\n",
    "plt.show()\n",
    "\n",
    "# Print the ROC-AUC Score\n",
    "print(\"Scaled Model: ROC-AUC Score:\", roc_auc_score(y_test, y_pred))"
   ]
  },
  {
   "cell_type": "markdown",
   "metadata": {},
   "source": [
    "#### 6. Feature Importance"
   ]
  },
  {
   "cell_type": "code",
   "execution_count": 38,
   "metadata": {},
   "outputs": [
    {
     "data": {
      "image/png": "[encoded data removed]",
      "text/plain": [
       "<Figure size 432x288 with 1 Axes>"
      ]
     },
     "metadata": {
      "needs_background": "light"
     },
     "output_type": "display_data"
    }
   ],
   "source": [
    "# Create the plot importance model\n",
    "plot_importance(model)\n",
    "\n",
    "# Display the plot\n",
    "plt.show()"
   ]
  },
  {
   "cell_type": "code",
   "execution_count": 39,
   "metadata": {},
   "outputs": [
    {
     "data": {
      "text/html": [
       "<div>\n",
       "<style scoped>\n",
       "    .dataframe tbody tr th:only-of-type {\n",
       "        vertical-align: middle;\n",
       "    }\n",
       "\n",
       "    .dataframe tbody tr th {\n",
       "        vertical-align: top;\n",
       "    }\n",
       "\n",
       "    .dataframe thead th {\n",
       "        text-align: right;\n",
       "    }\n",
       "</style>\n",
       "<table border=\"1\" class=\"dataframe\">\n",
       "  <thead>\n",
       "    <tr style=\"text-align: right;\">\n",
       "      <th></th>\n",
       "      <th>Age</th>\n",
       "      <th>Income</th>\n",
       "      <th>Family</th>\n",
       "      <th>CCAvg</th>\n",
       "      <th>Education</th>\n",
       "      <th>Mortgage</th>\n",
       "      <th>Securities Account</th>\n",
       "      <th>CD Account</th>\n",
       "      <th>Online</th>\n",
       "      <th>CreditCard</th>\n",
       "    </tr>\n",
       "  </thead>\n",
       "  <tbody>\n",
       "  </tbody>\n",
       "</table>\n",
       "</div>"
      ],
      "text/plain": [
       "Empty DataFrame\n",
       "Columns: [Age, Income, Family, CCAvg, Education, Mortgage, Securities Account, CD Account, Online, CreditCard]\n",
       "Index: []"
      ]
     },
     "execution_count": 39,
     "metadata": {},
     "output_type": "execute_result"
    }
   ],
   "source": [
    "# Display the features dataframe for ylabel reference purposes\n",
    "features"
   ]
  },
  {
   "cell_type": "markdown",
   "metadata": {},
   "source": [
    "**Y Label Reference:**\n",
    "\n",
    "To identify the feature importance titles, refere to the features dataframe."
   ]
  },
  {
   "cell_type": "markdown",
   "metadata": {},
   "source": [
    "---\n",
    "\n",
    "### XGBoost Model: SMOTE Dataset\n",
    "\n",
    "Now that the XGBoost Classifier model has pre-determined optimized hyper-paramters, the results can be applied to training and testing the SMOTE dataset.\n",
    "\n",
    "**To evaluate the model the following metrics will be applied:**\n",
    "\n",
    "1. Balanced Accuracy Score & Accuracy Score\n",
    "2. Confusion Matrix\n",
    "3. Classification Report \n",
    "4. F-Beta Score\n",
    "5. ROC - AUC\n",
    "6. Feature Importance \n",
    "\n",
    "#### Set the Model"
   ]
  },
  {
   "cell_type": "code",
   "execution_count": 40,
   "metadata": {},
   "outputs": [],
   "source": [
    "# Set the model variable & the hyperparameters based on the 'best estimator' results\n",
    "model = XGBClassifier(booster='dart', \n",
    "                      colsample_bytree=0.7, \n",
    "                      learning_rate=0.15,\n",
    "                      max_depth=18, \n",
    "                      min_child_weight=7, \n",
    "                      reg_lambda=1.0,\n",
    "                      subsample=0.6)"
   ]
  },
  {
   "cell_type": "code",
   "execution_count": 41,
   "metadata": {},
   "outputs": [
    {
     "data": {
      "text/plain": [
       "XGBClassifier(booster='dart', colsample_bytree=0.7, learning_rate=0.15,\n",
       "              max_depth=18, min_child_weight=7, reg_lambda=1.0, subsample=0.6)"
      ]
     },
     "execution_count": 41,
     "metadata": {},
     "output_type": "execute_result"
    }
   ],
   "source": [
    "# Fit the SMOTE dataset to the model \n",
    "model.fit(X_train_smote, y_train_smote)"
   ]
  },
  {
   "cell_type": "markdown",
   "metadata": {},
   "source": [
    "#### Model Prediction"
   ]
  },
  {
   "cell_type": "code",
   "execution_count": 53,
   "metadata": {},
   "outputs": [
    {
     "data": {
      "text/plain": [
       "array([0, 0, 0, ..., 0, 0, 0])"
      ]
     },
     "execution_count": 53,
     "metadata": {},
     "output_type": "execute_result"
    }
   ],
   "source": [
    "# Set a predict model\n",
    "y_pred_smote = model.predict(X_test_scaled)\n",
    "\n",
    "# Display the variable\n",
    "y_pred_smote"
   ]
  },
  {
   "cell_type": "code",
   "execution_count": 65,
   "metadata": {},
   "outputs": [
    {
     "data": {
      "text/html": [
       "<div>\n",
       "<style scoped>\n",
       "    .dataframe tbody tr th:only-of-type {\n",
       "        vertical-align: middle;\n",
       "    }\n",
       "\n",
       "    .dataframe tbody tr th {\n",
       "        vertical-align: top;\n",
       "    }\n",
       "\n",
       "    .dataframe thead th {\n",
       "        text-align: right;\n",
       "    }\n",
       "</style>\n",
       "<table border=\"1\" class=\"dataframe\">\n",
       "  <thead>\n",
       "    <tr style=\"text-align: right;\">\n",
       "      <th></th>\n",
       "      <th>Prediction</th>\n",
       "      <th>Actual</th>\n",
       "    </tr>\n",
       "  </thead>\n",
       "  <tbody>\n",
       "    <tr>\n",
       "      <th>1245</th>\n",
       "      <td>0</td>\n",
       "      <td>0</td>\n",
       "    </tr>\n",
       "    <tr>\n",
       "      <th>1246</th>\n",
       "      <td>1</td>\n",
       "      <td>1</td>\n",
       "    </tr>\n",
       "    <tr>\n",
       "      <th>1247</th>\n",
       "      <td>0</td>\n",
       "      <td>0</td>\n",
       "    </tr>\n",
       "    <tr>\n",
       "      <th>1248</th>\n",
       "      <td>0</td>\n",
       "      <td>0</td>\n",
       "    </tr>\n",
       "    <tr>\n",
       "      <th>1249</th>\n",
       "      <td>0</td>\n",
       "      <td>0</td>\n",
       "    </tr>\n",
       "  </tbody>\n",
       "</table>\n",
       "</div>"
      ],
      "text/plain": [
       "      Prediction  Actual\n",
       "1245           0       0\n",
       "1246           1       1\n",
       "1247           0       0\n",
       "1248           0       0\n",
       "1249           0       0"
      ]
     },
     "execution_count": 65,
     "metadata": {},
     "output_type": "execute_result"
    }
   ],
   "source": [
    "# Create a dataframe containing the y_pred results\n",
    "results = pd.DataFrame({\"Prediction\": y_pred_smote, \"Actual\": y_test}).reset_index(drop=True)\n",
    "\n",
    "# Display the dataframe\n",
    "results.tail()"
   ]
  },
  {
   "cell_type": "markdown",
   "metadata": {},
   "source": [
    "### SMOTE Model Evaluation: \n",
    "\n",
    "#### 1. Balanced Accuracy Score & Accuracy Score"
   ]
  },
  {
   "cell_type": "code",
   "execution_count": 55,
   "metadata": {
    "tags": []
   },
   "outputs": [
    {
     "name": "stdout",
     "output_type": "stream",
     "text": [
      "SMOTE XGB Classifier Balanced Accuracy Score Model is: 0.9589601769911504\n",
      "SMOTE XGB Classifier Accuracy Score Model is: 0.9864\n"
     ]
    }
   ],
   "source": [
    "# Evaluate the predict model through the Balanced Accuracy Score metric\n",
    "model_balanced_accuracy_score = balanced_accuracy_score(y_test, y_pred_smote)\n",
    "\n",
    "# Evaluate the predict model through the Accuracy Score metric\n",
    "model_accuracy_score = accuracy_score(y_test, y_pred_smote)\n",
    "\n",
    "# Print the evaluation results\n",
    "print(f\"SMOTE XGB Classifier Balanced Accuracy Score Model is: {model_balanced_accuracy_score}\")\n",
    "print(f\"SMOTE XGB Classifier Accuracy Score Model is: {model_accuracy_score}\")"
   ]
  },
  {
   "cell_type": "markdown",
   "metadata": {},
   "source": [
    "#### 2. Confusion Matrix"
   ]
  },
  {
   "cell_type": "code",
   "execution_count": 56,
   "metadata": {},
   "outputs": [
    {
     "data": {
      "text/plain": [
       "Text(33.0, 0.5, 'Predicted')"
      ]
     },
     "execution_count": 56,
     "metadata": {},
     "output_type": "execute_result"
    },
    {
     "data": {
      "image/png": "[encoded data removed]",
      "text/plain": [
       "<Figure size 432x288 with 2 Axes>"
      ]
     },
     "metadata": {
      "needs_background": "light"
     },
     "output_type": "display_data"
    }
   ],
   "source": [
    "# Create the confusion matrix (cm)\n",
    "cm = confusion_matrix(y_test, y_pred_smote)\n",
    "\n",
    "# Display the confusion matrix\n",
    "sns.heatmap(cm,\n",
    "            cmap = 'Purples', \n",
    "            fmt = '', \n",
    "            annot = True)\n",
    "\n",
    "# Set plot labels \n",
    "plt.title(\"SMOTE Model: Confusion Matrix\")\n",
    "plt.xlabel(\"Actual\")\n",
    "plt.ylabel(\"Predicted\")"
   ]
  },
  {
   "cell_type": "markdown",
   "metadata": {},
   "source": [
    "#### 3. Classification Report"
   ]
  },
  {
   "cell_type": "code",
   "execution_count": 76,
   "metadata": {
    "tags": []
   },
   "outputs": [
    {
     "name": "stdout",
     "output_type": "stream",
     "text": [
      "SMOTE Classification Report:\n",
      "              precision    recall  f1-score   support\n",
      "\n",
      "           0       0.99      0.99      0.99      1130\n",
      "           1       0.93      0.93      0.93       120\n",
      "\n",
      "    accuracy                           0.99      1250\n",
      "   macro avg       0.96      0.96      0.96      1250\n",
      "weighted avg       0.99      0.99      0.99      1250\n",
      "\n"
     ]
    }
   ],
   "source": [
    "# Classification report title print statement \n",
    "print(\"SMOTE Classification Report:\")\n",
    "\n",
    "# Create the classification report\n",
    "smote_report = classification_report(y_test, y_pred_smote)\n",
    "\n",
    "# Print the classification report\n",
    "print(smote_report)"
   ]
  },
  {
   "cell_type": "markdown",
   "metadata": {},
   "source": [
    "#### 4. F-Beta Score"
   ]
  },
  {
   "cell_type": "code",
   "execution_count": 59,
   "metadata": {
    "tags": []
   },
   "outputs": [
    {
     "name": "stdout",
     "output_type": "stream",
     "text": [
      "F1 Beta Score: 0.931208\n"
     ]
    }
   ],
   "source": [
    "# Calculate Beta F1 Score\n",
    "fbeta_smote = fbeta_score(y_test, y_pred_smote,beta=0.5)\n",
    "\n",
    "# Print the F1 score results\n",
    "print(\"F1 Beta Score: %f\" % (fbeta_smote))"
   ]
  },
  {
   "cell_type": "markdown",
   "metadata": {},
   "source": [
    "#### 5. ROC - AUC"
   ]
  },
  {
   "cell_type": "code",
   "execution_count": null,
   "metadata": {
    "tags": []
   },
   "outputs": [],
   "source": [
    "# Create the ROC curve \n",
    "roc_model_curve = plot_roc_curve(model, X_test_scaled, y_test)\n",
    "\n",
    "# Set plot labels\n",
    "plt.title(\"SMOTE Model: XGBoost ROC\")\n",
    "\n",
    "# Plot the ROC curve\n",
    "plt.show()\n",
    "\n",
    "# Print the ROC-AUC Score\n",
    "print(\"SMOTE Model: ROC-AUC Score:\", roc_auc_score(y_test, y_pred_smote))"
   ]
  },
  {
   "cell_type": "markdown",
   "metadata": {},
   "source": [
    "#### 6. Feature Importance"
   ]
  },
  {
   "cell_type": "code",
   "execution_count": null,
   "metadata": {},
   "outputs": [],
   "source": [
    "# Create the plot importance model\n",
    "plot_importance(model)\n",
    "\n",
    "# Display the plot\n",
    "plt.show()"
   ]
  },
  {
   "cell_type": "code",
   "execution_count": null,
   "metadata": {},
   "outputs": [],
   "source": [
    "# Display the features dataframe for ylabel reference purposes\n",
    "features"
   ]
  },
  {
   "cell_type": "markdown",
   "metadata": {},
   "source": [
    "**Y Label Reference:**\n",
    "\n",
    "To identify the feature importance titles, refere to the features dataframe."
   ]
  },
  {
   "cell_type": "markdown",
   "metadata": {},
   "source": [
    "---\n",
    "\n",
    "### XGBoost Model: Random Over Sampled (ROS) Dataset\n",
    "\n",
    "Applying the optimized hyper-parameters determined in the second part of the notebook for the GXBoost Classifier model, the random over sampled (ROS) dataset will be evaluated through training and testing data. \n",
    "\n",
    "**To evaluate the model the following metrics will be applied:**\n",
    "\n",
    "1. Balanced Accuracy Score & Accuracy Score\n",
    "2. Confusion Matrix\n",
    "3. Classification Report \n",
    "4. F-Beta Score\n",
    "5. ROC - AUC\n",
    "6. Feature Importance \n",
    "\n",
    "#### Set the Model"
   ]
  },
  {
   "cell_type": "code",
   "execution_count": 61,
   "metadata": {},
   "outputs": [],
   "source": [
    "# Set the model variable & the hyperparameters based on the 'best estimator' results\n",
    "model = XGBClassifier(booster='dart', \n",
    "                      colsample_bytree=0.7, \n",
    "                      learning_rate=0.15,max_depth=18, \n",
    "                      min_child_weight=7,  \n",
    "                      reg_lambda=1.0,\n",
    "                      subsample=0.6)"
   ]
  },
  {
   "cell_type": "code",
   "execution_count": 62,
   "metadata": {},
   "outputs": [
    {
     "data": {
      "text/plain": [
       "XGBClassifier(booster='dart', colsample_bytree=0.7, learning_rate=0.15,\n",
       "              max_depth=18, min_child_weight=7, reg_lambda=1.0, subsample=0.6)"
      ]
     },
     "execution_count": 62,
     "metadata": {},
     "output_type": "execute_result"
    }
   ],
   "source": [
    "# Fit the ROS dataset to the model \n",
    "model.fit(X_train_ros, y_train_ros)"
   ]
  },
  {
   "cell_type": "markdown",
   "metadata": {},
   "source": [
    "#### Model Prediction"
   ]
  },
  {
   "cell_type": "code",
   "execution_count": 63,
   "metadata": {},
   "outputs": [
    {
     "data": {
      "text/plain": [
       "array([0, 0, 0, ..., 0, 0, 0])"
      ]
     },
     "execution_count": 63,
     "metadata": {},
     "output_type": "execute_result"
    }
   ],
   "source": [
    "# Set a predict model\n",
    "y_pred_ros = model.predict(X_test_scaled)\n",
    "\n",
    "# Display the variable\n",
    "y_pred_ros"
   ]
  },
  {
   "cell_type": "code",
   "execution_count": 64,
   "metadata": {},
   "outputs": [
    {
     "data": {
      "text/html": [
       "<div>\n",
       "<style scoped>\n",
       "    .dataframe tbody tr th:only-of-type {\n",
       "        vertical-align: middle;\n",
       "    }\n",
       "\n",
       "    .dataframe tbody tr th {\n",
       "        vertical-align: top;\n",
       "    }\n",
       "\n",
       "    .dataframe thead th {\n",
       "        text-align: right;\n",
       "    }\n",
       "</style>\n",
       "<table border=\"1\" class=\"dataframe\">\n",
       "  <thead>\n",
       "    <tr style=\"text-align: right;\">\n",
       "      <th></th>\n",
       "      <th>Prediction</th>\n",
       "      <th>Actual</th>\n",
       "    </tr>\n",
       "  </thead>\n",
       "  <tbody>\n",
       "    <tr>\n",
       "      <th>1245</th>\n",
       "      <td>0</td>\n",
       "      <td>0</td>\n",
       "    </tr>\n",
       "    <tr>\n",
       "      <th>1246</th>\n",
       "      <td>1</td>\n",
       "      <td>1</td>\n",
       "    </tr>\n",
       "    <tr>\n",
       "      <th>1247</th>\n",
       "      <td>0</td>\n",
       "      <td>0</td>\n",
       "    </tr>\n",
       "    <tr>\n",
       "      <th>1248</th>\n",
       "      <td>0</td>\n",
       "      <td>0</td>\n",
       "    </tr>\n",
       "    <tr>\n",
       "      <th>1249</th>\n",
       "      <td>0</td>\n",
       "      <td>0</td>\n",
       "    </tr>\n",
       "  </tbody>\n",
       "</table>\n",
       "</div>"
      ],
      "text/plain": [
       "      Prediction  Actual\n",
       "1245           0       0\n",
       "1246           1       1\n",
       "1247           0       0\n",
       "1248           0       0\n",
       "1249           0       0"
      ]
     },
     "execution_count": 64,
     "metadata": {},
     "output_type": "execute_result"
    }
   ],
   "source": [
    "# Create a dataframe containing the y_pred results\n",
    "results = pd.DataFrame({\"Prediction\": y_pred_ros, \"Actual\": y_test}).reset_index(drop=True)\n",
    "\n",
    "# Display the dataframe\n",
    "results.tail()"
   ]
  },
  {
   "cell_type": "markdown",
   "metadata": {},
   "source": [
    "### ROS Model Evaluation: \n",
    "\n",
    "#### 1. Balanced Accuracy Score & Accuracy Score"
   ]
  },
  {
   "cell_type": "code",
   "execution_count": 66,
   "metadata": {
    "tags": []
   },
   "outputs": [
    {
     "name": "stdout",
     "output_type": "stream",
     "text": [
      "ROS XGB Classifier Balanced Accuracy Score Model is: 0.978023598820059\n",
      "ROS XGB Classifier Accuracy Score Model is: 0.9872\n"
     ]
    }
   ],
   "source": [
    "# Evaluate the predict model through the Balanced Accuracy Score metric\n",
    "model_balanced_accuracy_score = balanced_accuracy_score(y_test, y_pred_ros)\n",
    "\n",
    "# Evaluate the predict model through the Accuracy Score metric\n",
    "model_accuracy_score = accuracy_score(y_test, y_pred_ros)\n",
    "\n",
    "# Print the evaluation results\n",
    "print(f\"ROS XGB Classifier Balanced Accuracy Score Model is: {model_balanced_accuracy_score}\")\n",
    "print(f\"ROS XGB Classifier Accuracy Score Model is: {model_accuracy_score}\")"
   ]
  },
  {
   "cell_type": "markdown",
   "metadata": {},
   "source": [
    "#### 2. Confusion Matrix"
   ]
  },
  {
   "cell_type": "code",
   "execution_count": 67,
   "metadata": {},
   "outputs": [
    {
     "data": {
      "text/plain": [
       "Text(33.0, 0.5, 'Predicted')"
      ]
     },
     "execution_count": 67,
     "metadata": {},
     "output_type": "execute_result"
    },
    {
     "data": {
      "image/png": "[encoded data removed]",
      "text/plain": [
       "<Figure size 432x288 with 2 Axes>"
      ]
     },
     "metadata": {
      "needs_background": "light"
     },
     "output_type": "display_data"
    }
   ],
   "source": [
    "# Create the confusion matrix (cm)\n",
    "cm = confusion_matrix(y_test, y_pred_ros)\n",
    "\n",
    "# Display the confusion matrix\n",
    "sns.heatmap(cm,\n",
    "            cmap = 'Reds', \n",
    "            fmt = '', \n",
    "            annot = True)\n",
    "\n",
    "# Set plot labels \n",
    "plt.title(\"ROS Model: Confusion Matrix\")\n",
    "plt.xlabel(\"Actual\")\n",
    "plt.ylabel(\"Predicted\")"
   ]
  },
  {
   "cell_type": "markdown",
   "metadata": {},
   "source": [
    "#### 3. Classification Report"
   ]
  },
  {
   "cell_type": "code",
   "execution_count": 74,
   "metadata": {
    "tags": []
   },
   "outputs": [
    {
     "name": "stdout",
     "output_type": "stream",
     "text": [
      "ROS Classification Report:\n",
      "              precision    recall  f1-score   support\n",
      "\n",
      "           0       1.00      0.99      0.99      1130\n",
      "           1       0.91      0.97      0.94       120\n",
      "\n",
      "    accuracy                           0.99      1250\n",
      "   macro avg       0.95      0.98      0.96      1250\n",
      "weighted avg       0.99      0.99      0.99      1250\n",
      "\n"
     ]
    }
   ],
   "source": [
    "# Classification report title print statement \n",
    "print(\"ROS Classification Report:\")\n",
    "\n",
    "# Create the classification report\n",
    "ros_report = classification_report(y_test, y_pred_ros)\n",
    "\n",
    "# Print the classification report\n",
    "print(ros_report)"
   ]
  },
  {
   "cell_type": "markdown",
   "metadata": {},
   "source": [
    "#### 4. F-Beta Score"
   ]
  },
  {
   "cell_type": "code",
   "execution_count": 70,
   "metadata": {
    "tags": []
   },
   "outputs": [
    {
     "name": "stdout",
     "output_type": "stream",
     "text": [
      "F1 Beta Score: 0.917722\n"
     ]
    }
   ],
   "source": [
    "# Calculate Beta F1 Score\n",
    "fbeta = fbeta_score(y_test, y_pred_ros,beta=0.5)\n",
    "\n",
    "# Print the F1 score results\n",
    "print(\"F1 Beta Score: %f\" % (fbeta))"
   ]
  },
  {
   "cell_type": "markdown",
   "metadata": {},
   "source": [
    "#### 5. ROC - AUC"
   ]
  },
  {
   "cell_type": "code",
   "execution_count": 71,
   "metadata": {
    "tags": []
   },
   "outputs": [
    {
     "data": {
      "image/png": "[encoded data removed]",
      "text/plain": [
       "<Figure size 432x288 with 1 Axes>"
      ]
     },
     "metadata": {
      "needs_background": "light"
     },
     "output_type": "display_data"
    },
    {
     "name": "stdout",
     "output_type": "stream",
     "text": [
      "ROS Model: ROC-AUC Score: 0.9780235988200591\n"
     ]
    }
   ],
   "source": [
    "# Create the ROC curve \n",
    "roc_model_curve = plot_roc_curve(model, X_test_scaled, y_test)\n",
    "\n",
    "# Set plot labels\n",
    "plt.title(\"ROS Model: XGBoost ROC\")\n",
    "\n",
    "# Plot the ROC curve\n",
    "plt.show()\n",
    "\n",
    "# Print the ROC-AUC Score\n",
    "print(\"ROS Model: ROC-AUC Score:\", roc_auc_score(y_test, y_pred_ros))"
   ]
  },
  {
   "cell_type": "markdown",
   "metadata": {},
   "source": [
    "#### 6. Feature Importance"
   ]
  },
  {
   "cell_type": "code",
   "execution_count": 72,
   "metadata": {},
   "outputs": [
    {
     "data": {
      "image/png": "[encoded data removed]",
      "text/plain": [
       "<Figure size 432x288 with 1 Axes>"
      ]
     },
     "metadata": {
      "needs_background": "light"
     },
     "output_type": "display_data"
    }
   ],
   "source": [
    "# Create the plot importance model\n",
    "plot_importance(model)\n",
    "\n",
    "# Display the plot\n",
    "plt.show()"
   ]
  },
  {
   "cell_type": "code",
   "execution_count": 73,
   "metadata": {},
   "outputs": [
    {
     "data": {
      "text/html": [
       "<div>\n",
       "<style scoped>\n",
       "    .dataframe tbody tr th:only-of-type {\n",
       "        vertical-align: middle;\n",
       "    }\n",
       "\n",
       "    .dataframe tbody tr th {\n",
       "        vertical-align: top;\n",
       "    }\n",
       "\n",
       "    .dataframe thead th {\n",
       "        text-align: right;\n",
       "    }\n",
       "</style>\n",
       "<table border=\"1\" class=\"dataframe\">\n",
       "  <thead>\n",
       "    <tr style=\"text-align: right;\">\n",
       "      <th></th>\n",
       "      <th>Age</th>\n",
       "      <th>Income</th>\n",
       "      <th>Family</th>\n",
       "      <th>CCAvg</th>\n",
       "      <th>Education</th>\n",
       "      <th>Mortgage</th>\n",
       "      <th>Securities Account</th>\n",
       "      <th>CD Account</th>\n",
       "      <th>Online</th>\n",
       "      <th>CreditCard</th>\n",
       "    </tr>\n",
       "  </thead>\n",
       "  <tbody>\n",
       "  </tbody>\n",
       "</table>\n",
       "</div>"
      ],
      "text/plain": [
       "Empty DataFrame\n",
       "Columns: [Age, Income, Family, CCAvg, Education, Mortgage, Securities Account, CD Account, Online, CreditCard]\n",
       "Index: []"
      ]
     },
     "execution_count": 73,
     "metadata": {},
     "output_type": "execute_result"
    }
   ],
   "source": [
    "# Display the features dataframe for ylabel reference purposes\n",
    "features"
   ]
  },
  {
   "cell_type": "markdown",
   "metadata": {},
   "source": [
    "**Y Label Reference:**\n",
    "\n",
    "To identify the feature importance titles, refere to the features dataframe."
   ]
  },
  {
   "cell_type": "markdown",
   "metadata": {},
   "source": [
    "---\n",
    "\n",
    "### XGBoost: Model Comparison & Conclusions"
   ]
  },
  {
   "cell_type": "markdown",
   "metadata": {},
   "source": [
    "#### Accuracy Scores"
   ]
  },
  {
   "cell_type": "code",
   "execution_count": 87,
   "metadata": {},
   "outputs": [
    {
     "data": {
      "text/html": [
       "<div>\n",
       "<style scoped>\n",
       "    .dataframe tbody tr th:only-of-type {\n",
       "        vertical-align: middle;\n",
       "    }\n",
       "\n",
       "    .dataframe tbody tr th {\n",
       "        vertical-align: top;\n",
       "    }\n",
       "\n",
       "    .dataframe thead th {\n",
       "        text-align: right;\n",
       "    }\n",
       "</style>\n",
       "<table border=\"1\" class=\"dataframe\">\n",
       "  <thead>\n",
       "    <tr style=\"text-align: right;\">\n",
       "      <th></th>\n",
       "      <th>Model Dataset</th>\n",
       "      <th>Score</th>\n",
       "    </tr>\n",
       "  </thead>\n",
       "  <tbody>\n",
       "    <tr>\n",
       "      <th>0</th>\n",
       "      <td>Scaled Balanced Accuracy Score</td>\n",
       "      <td>0.9436</td>\n",
       "    </tr>\n",
       "    <tr>\n",
       "      <th>1</th>\n",
       "      <td>Scaled Accuracy Score</td>\n",
       "      <td>0.9856</td>\n",
       "    </tr>\n",
       "    <tr>\n",
       "      <th>2</th>\n",
       "      <td>SMOTE Balanced Accuracy Score</td>\n",
       "      <td>0.9589</td>\n",
       "    </tr>\n",
       "    <tr>\n",
       "      <th>3</th>\n",
       "      <td>SMOTE Accuracy Score</td>\n",
       "      <td>0.9864</td>\n",
       "    </tr>\n",
       "    <tr>\n",
       "      <th>4</th>\n",
       "      <td>ROS Balanced Accuracy Score</td>\n",
       "      <td>0.9780</td>\n",
       "    </tr>\n",
       "    <tr>\n",
       "      <th>5</th>\n",
       "      <td>ROS Accuracy Score</td>\n",
       "      <td>0.9872</td>\n",
       "    </tr>\n",
       "  </tbody>\n",
       "</table>\n",
       "</div>"
      ],
      "text/plain": [
       "                    Model Dataset   Score\n",
       "0  Scaled Balanced Accuracy Score  0.9436\n",
       "1           Scaled Accuracy Score  0.9856\n",
       "2   SMOTE Balanced Accuracy Score  0.9589\n",
       "3            SMOTE Accuracy Score  0.9864\n",
       "4     ROS Balanced Accuracy Score  0.9780\n",
       "5              ROS Accuracy Score  0.9872"
      ]
     },
     "execution_count": 87,
     "metadata": {},
     "output_type": "execute_result"
    }
   ],
   "source": [
    "# Create the model accuracy scores dataframe\n",
    "accuracy_scores = pd.DataFrame({\n",
    "    \"Model Dataset\" : [\"Scaled Balanced Accuracy Score\", \n",
    "                       \"Scaled Accuracy Score\", \n",
    "                       \"SMOTE Balanced Accuracy Score\", \n",
    "                       \"SMOTE Accuracy Score\", \n",
    "                       \"ROS Balanced Accuracy Score\", \n",
    "                       \"ROS Accuracy Score\"],\n",
    "    \"Score\" : [0.9436, 0.9856, 0.9589, 0.9864, 0.9780, 0.9872]\n",
    "})\n",
    "\n",
    "# Display the dataframe\n",
    "accuracy_scores"
   ]
  },
  {
   "cell_type": "markdown",
   "metadata": {},
   "source": [
    "##### Balanced Accuracy & Accuracy Score Conclusions: \n",
    "\n",
    "Based on an equal weighting of model accuracy and balanced accuracy score, the model that produces more effective scores in compared to the other results is the Random Oversampled (ROS) XGBoost model. \n",
    "\n",
    "**Random Oversampled XGBoost Model:**\n",
    "\n",
    "* Balanced Accuracy Score: 97.70\n",
    "* Accuracy Score: 98.72"
   ]
  },
  {
   "cell_type": "markdown",
   "metadata": {},
   "source": [
    "#### Classification Reports"
   ]
  },
  {
   "cell_type": "code",
   "execution_count": 90,
   "metadata": {},
   "outputs": [
    {
     "name": "stdout",
     "output_type": "stream",
     "text": [
      "Scaled Classification Report:\n",
      "              precision    recall  f1-score   support\n",
      "\n",
      "           0       0.99      0.99      0.99      1130\n",
      "           1       0.93      0.93      0.93       120\n",
      "\n",
      "    accuracy                           0.99      1250\n",
      "   macro avg       0.96      0.96      0.96      1250\n",
      "weighted avg       0.99      0.99      0.99      1250\n",
      "\n",
      "SMOTE Classification Report:\n",
      "              precision    recall  f1-score   support\n",
      "\n",
      "           0       0.99      0.99      0.99      1130\n",
      "           1       0.93      0.93      0.93       120\n",
      "\n",
      "    accuracy                           0.99      1250\n",
      "   macro avg       0.96      0.96      0.96      1250\n",
      "weighted avg       0.99      0.99      0.99      1250\n",
      "\n",
      "ROS Classification Report:\n",
      "              precision    recall  f1-score   support\n",
      "\n",
      "           0       1.00      0.99      0.99      1130\n",
      "           1       0.91      0.97      0.94       120\n",
      "\n",
      "    accuracy                           0.99      1250\n",
      "   macro avg       0.95      0.98      0.96      1250\n",
      "weighted avg       0.99      0.99      0.99      1250\n",
      "\n"
     ]
    }
   ],
   "source": [
    "# Scaled Mode:\n",
    "print(\"Scaled Classification Report:\")\n",
    "print(scaled_report)\n",
    "\n",
    "# SMOTE Model:\n",
    "print(\"SMOTE Classification Report:\")\n",
    "print(smote_report)\n",
    "\n",
    "# ROS Model:\n",
    "print(\"ROS Classification Report:\")\n",
    "print(ros_report)"
   ]
  },
  {
   "cell_type": "markdown",
   "metadata": {},
   "source": [
    "##### Classification Report Conclusions: \n",
    "\n",
    "Based on the porject objective, the null hypothesis scores are evaluated to determine which model performs the best in regards to the following three metrics; \n",
    "\n",
    "**Model with Optimal Precision:** ROS XGBoost model\n",
    "\n",
    "**Model with Optimal Recall:** Each model performs well\n",
    "\n",
    "**Model with Optimal F1-Score:** Each model performs well"
   ]
  },
  {
   "cell_type": "markdown",
   "metadata": {},
   "source": [
    "#### F1 Scores & F-Beta Scores"
   ]
  },
  {
   "cell_type": "code",
   "execution_count": 91,
   "metadata": {},
   "outputs": [
    {
     "data": {
      "text/html": [
       "<div>\n",
       "<style scoped>\n",
       "    .dataframe tbody tr th:only-of-type {\n",
       "        vertical-align: middle;\n",
       "    }\n",
       "\n",
       "    .dataframe tbody tr th {\n",
       "        vertical-align: top;\n",
       "    }\n",
       "\n",
       "    .dataframe thead th {\n",
       "        text-align: right;\n",
       "    }\n",
       "</style>\n",
       "<table border=\"1\" class=\"dataframe\">\n",
       "  <thead>\n",
       "    <tr style=\"text-align: right;\">\n",
       "      <th></th>\n",
       "      <th>Model Dataset</th>\n",
       "      <th>Score</th>\n",
       "    </tr>\n",
       "  </thead>\n",
       "  <tbody>\n",
       "    <tr>\n",
       "      <th>0</th>\n",
       "      <td>Scaled F1 Beta</td>\n",
       "      <td>0.9419</td>\n",
       "    </tr>\n",
       "    <tr>\n",
       "      <th>1</th>\n",
       "      <td>SMOTE F1 Beta</td>\n",
       "      <td>0.9312</td>\n",
       "    </tr>\n",
       "    <tr>\n",
       "      <th>2</th>\n",
       "      <td>ROS F1 Beta</td>\n",
       "      <td>0.9177</td>\n",
       "    </tr>\n",
       "  </tbody>\n",
       "</table>\n",
       "</div>"
      ],
      "text/plain": [
       "    Model Dataset   Score\n",
       "0  Scaled F1 Beta  0.9419\n",
       "1   SMOTE F1 Beta  0.9312\n",
       "2     ROS F1 Beta  0.9177"
      ]
     },
     "execution_count": 91,
     "metadata": {},
     "output_type": "execute_result"
    }
   ],
   "source": [
    "# Create the model for F1 Scores & F1 Beta Scores dataframe\n",
    "f_scores = pd.DataFrame({\n",
    "    \"Model Dataset\" : [\"Scaled F1 Beta\",  \n",
    "                       \"SMOTE F1 Beta\", \n",
    "                       \"ROS F1 Beta\"], \n",
    "    \"Score\" : [0.9419, 0.9312, 0.9177]\n",
    "})\n",
    "\n",
    "# Display the dataframe\n",
    "f_scores"
   ]
  },
  {
   "cell_type": "markdown",
   "metadata": {},
   "source": [
    "##### F-Beta Scores Conclusions:\n",
    "\n",
    "In regards to the porject objective, *determining a model that has optimal predictive abilities to determine the liklihood an account holder at Thera Bank is to take out a personal loan*, placing a greater weight on recall rather than equal weight to preicsion and recall is required. \n",
    "\n",
    "Weighted F1 scores place a greater weight on recall, thus the model with a higher F-Beta score is the Scaled XGBoost model.\n",
    "\n",
    "**Scaled XGBoost Result:** 94.19"
   ]
  },
  {
   "cell_type": "markdown",
   "metadata": {},
   "source": [
    "#### ROC - AUC"
   ]
  },
  {
   "cell_type": "code",
   "execution_count": 89,
   "metadata": {},
   "outputs": [
    {
     "data": {
      "text/html": [
       "<div>\n",
       "<style scoped>\n",
       "    .dataframe tbody tr th:only-of-type {\n",
       "        vertical-align: middle;\n",
       "    }\n",
       "\n",
       "    .dataframe tbody tr th {\n",
       "        vertical-align: top;\n",
       "    }\n",
       "\n",
       "    .dataframe thead th {\n",
       "        text-align: right;\n",
       "    }\n",
       "</style>\n",
       "<table border=\"1\" class=\"dataframe\">\n",
       "  <thead>\n",
       "    <tr style=\"text-align: right;\">\n",
       "      <th></th>\n",
       "      <th>Model Dataset</th>\n",
       "      <th>Score</th>\n",
       "    </tr>\n",
       "  </thead>\n",
       "  <tbody>\n",
       "    <tr>\n",
       "      <th>0</th>\n",
       "      <td>Scaled ROC-AUC</td>\n",
       "      <td>0.9436</td>\n",
       "    </tr>\n",
       "    <tr>\n",
       "      <th>1</th>\n",
       "      <td>SMOTE ROC-AUC</td>\n",
       "      <td>0.9547</td>\n",
       "    </tr>\n",
       "    <tr>\n",
       "      <th>2</th>\n",
       "      <td>ROS ROC-AUC</td>\n",
       "      <td>0.9674</td>\n",
       "    </tr>\n",
       "  </tbody>\n",
       "</table>\n",
       "</div>"
      ],
      "text/plain": [
       "    Model Dataset   Score\n",
       "0  Scaled ROC-AUC  0.9436\n",
       "1   SMOTE ROC-AUC  0.9547\n",
       "2     ROS ROC-AUC  0.9674"
      ]
     },
     "execution_count": 89,
     "metadata": {},
     "output_type": "execute_result"
    }
   ],
   "source": [
    "# Create the model ROC-AUC dataframe\n",
    "roc_auc_scores = pd.DataFrame({\n",
    "    \"Model Dataset\" : [\"Scaled ROC-AUC\", \n",
    "                       \"SMOTE ROC-AUC\", \n",
    "                       \"ROS ROC-AUC\"], \n",
    "    \"Score\" : [0.9436, 0.9547, 0.9674]\n",
    "})\n",
    "\n",
    "# Display the dataframe\n",
    "roc_auc_scores"
   ]
  },
  {
   "cell_type": "markdown",
   "metadata": {},
   "source": [
    "##### ROC-AUC Conclusions:\n",
    "\n",
    "Of the three trained datasets, the XGBoost model that provides the best results for the ROC-AUC is the Random Oversampled (ROS) model. \n",
    "\n",
    "**Random Oversampled XGBoost Model:**\n",
    "\n",
    "* ROC-AUC : 96.74\n"
   ]
  },
  {
   "cell_type": "markdown",
   "metadata": {},
   "source": [
    "### Final Analysis:"
   ]
  },
  {
   "cell_type": "markdown",
   "metadata": {},
   "source": [
    "The purpose of the model is to provide optimized predictions regardining a Thera Bank account holder's likelihood of taking out a personal loan. In the original dataset, the promotion campaign Thera Bank employed to increase the amount of customers with a personal loan indicated many account holders were liability customers (i.e. despositors). The goal of the campaign is to increase the amount of asset customers (i.e. borrowers). Therefore, our model places greater empahsis on recall, as there is a signficantly lower percentage of asset customers in relation to liability customers. \n",
    "\n",
    "Thus understanding the principle of the data is highly improtant in identfying the evaluation metrics that are best suited to measure the XGBoost's model performance. Recall has the ability to best identify the samples that were classified correctly, minimizing the potential for false negatives. Due to the fact Thera Bank is greatly intrested in growing their consumer base, a model that indeitfies acocunt holders as customers that did take out a personal loan when in fact they did not would skew the data. Therefore, mitigating the risk for potential error is a key factor in selecting the final model. \n",
    "\n",
    "Therefore, model recall and model F-Beta scores are the key evaluation metrics analyzed in determining which trained and tested dataset predictions are best to use. Additionally, to ensure all model features have an optimal performance precision and accuracy score are evaluated as secondary conditions. *The determined model to use is based on a comparison of all characterisitcs. This is an important note because the three models produce a good recall score.*\n",
    "\n",
    "**Model Selected:** Random Oversampled (ROS) XGBoost Model \n",
    "\n",
    "* Recall: 99%\n",
    "* Weighted F1 Score: 91.77\n",
    "* Accuracy Score: 98.72\n",
    "* Balanced Accuracy Score: 97.70\n",
    "* ROC-AUC: 96.74\n",
    "\n",
    "---"
   ]
  },
  {
   "cell_type": "code",
   "execution_count": null,
   "metadata": {},
   "outputs": [],
   "source": []
  }
 ],
 "metadata": {
  "kernelspec": {
   "display_name": "Python 3",
   "language": "python",
   "name": "python3"
  },
  "language_info": {
   "codemirror_mode": {
    "name": "ipython",
    "version": 3
   },
   "file_extension": ".py",
   "mimetype": "text/x-python",
   "name": "python",
   "nbconvert_exporter": "python",
   "pygments_lexer": "ipython3",
   "version": "3.8.3"
  }
 },
 "nbformat": 4,
 "nbformat_minor": 4
}
