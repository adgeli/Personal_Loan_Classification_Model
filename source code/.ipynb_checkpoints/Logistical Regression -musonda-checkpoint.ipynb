{
 "cells": [
  {
   "cell_type": "markdown",
   "metadata": {},
   "source": [
    "# Machine Learning Model: Logistic Regression\n",
    "\n",
    "### Background \n",
    "\n",
    "The following notebook seeks to apply a logistic regression model based on scaled date, random oversampled (ROS) and SMOTE data to determine a predictive model. The results will then be evaluated based on the following metrics; \n",
    "\n",
    "1. Balanced Accuracy Score & Accuracy Score\n",
    "2. Confusion Matrix\n",
    "3. Classification Report \n",
    "4. F-Beta Score\n",
    "5. ROC - AUC\n",
    "\n",
    "\n",
    "### Objective \n",
    "\n",
    "The purpose is to evaluate the machine learning model's predictive capabilities in regards to determining the likelihood account holders of a financial insitution would be to take out a personal loan. Additionally, the models performance will be measured against two other machine learning algorithms; Logistic Regression and Random Forest Classifier. \n",
    "\n",
    "---\n"
   ]
  },
  {
   "cell_type": "markdown",
   "metadata": {},
   "source": [
    "## Initial Imports & Dependencies"
   ]
  },
  {
   "cell_type": "code",
   "execution_count": 1,
   "metadata": {},
   "outputs": [],
   "source": [
    "# Importing Libraries & Dependencies\n",
    "import pandas as pd\n",
    "import seaborn as sns\n",
    "import numpy as np\n",
    "import csv\n",
    "from pathlib import Path\n",
    "\n",
    "import matplotlib.pyplot as plt\n",
    "%matplotlib inline"
   ]
  },
  {
   "cell_type": "code",
   "execution_count": 2,
   "metadata": {},
   "outputs": [],
   "source": [
    "# Import SK-LEARN libraries \n",
    "from sklearn.linear_model import LogisticRegression\n",
    "from sklearn.metrics import balanced_accuracy_score, accuracy_score\n",
    "from sklearn.metrics import confusion_matrix\n",
    "from sklearn.metrics import classification_report\n",
    "from sklearn.metrics import f1_score, fbeta_score\n",
    "from sklearn.metrics import plot_roc_curve\n",
    "from sklearn.metrics import roc_auc_score"
   ]
  },
  {
   "cell_type": "code",
   "execution_count": 3,
   "metadata": {},
   "outputs": [],
   "source": [
    "# Import Warnings\n",
    "import warnings\n",
    "warnings.filterwarnings('ignore')"
   ]
  },
  {
   "cell_type": "markdown",
   "metadata": {},
   "source": [
    "---\n",
    "\n",
    "## Load Datasets"
   ]
  },
  {
   "cell_type": "code",
   "execution_count": 4,
   "metadata": {},
   "outputs": [],
   "source": [
    "\n",
    "# To import the X_train_smote, X_train_ros, X_train_scaled, X_test_scaled\n",
    "X_train_smote = np.loadtxt('resources/X_train_smote.csv', delimiter=',')\n",
    "X_train_ros = np.loadtxt('resources/X_train_ros.csv', delimiter=',')\n",
    "X_train_scaled = np.loadtxt('resources/X_train_scaled.csv', delimiter=',')\n",
    "X_test_scaled = np.loadtxt('resources/X_test_scaled.csv', delimiter=',')\n",
    "\n",
    "# To import y_train_smote, y_train_ros\n",
    "y_train_smote = pd.read_csv('resources/y_train_smote.csv', sep=',', header=0, squeeze=True)\n",
    "y_train_ros = pd.read_csv('resources/y_train_ros.csv', sep=',', header=0, squeeze=True)\n",
    "\n",
    "# To import y_train, y_test\n",
    "y_train = pd.read_csv('resources/y_train.csv', sep=',', header=0, squeeze=True, index_col=0)\n",
    "y_test = pd.read_csv('resources/y_test.csv', sep=',', header=0, squeeze=True, index_col=0)\n"
   ]
  },
  {
   "cell_type": "markdown",
   "metadata": {},
   "source": [
    "---\n",
    "\n",
    "### Simple Logistical Regression\n",
    "\n",
    "The first part of the Logistical Regression notebook uses the scaled training and testing data to develop a predictive model.\n",
    "\n",
    "**To evaluate the model the following metrics will be applied:**\n",
    "\n",
    "1. Balanced Accuracy Score & Accuracy Score\n",
    "2. Confusion Matrix\n",
    "3. Classification Report \n",
    "4. F-Beta Score\n",
    "5. ROC - AUC\n",
    "6. Feature Importance \n",
    "\n",
    "#### Set the Model"
   ]
  },
  {
   "cell_type": "code",
   "execution_count": 5,
   "metadata": {},
   "outputs": [
    {
     "data": {
      "text/plain": [
       "LogisticRegression(random_state=42)"
      ]
     },
     "execution_count": 5,
     "metadata": {},
     "output_type": "execute_result"
    }
   ],
   "source": [
    "model = LogisticRegression(solver='lbfgs', random_state=42)\n",
    "model"
   ]
  },
  {
   "cell_type": "markdown",
   "metadata": {},
   "source": [
    "#### Fit (train) the scaled dataset to the model"
   ]
  },
  {
   "cell_type": "code",
   "execution_count": 6,
   "metadata": {},
   "outputs": [
    {
     "data": {
      "text/plain": [
       "LogisticRegression(random_state=42)"
      ]
     },
     "execution_count": 6,
     "metadata": {},
     "output_type": "execute_result"
    }
   ],
   "source": [
    "model.fit(X_train_scaled, y_train)"
   ]
  },
  {
   "cell_type": "markdown",
   "metadata": {},
   "source": [
    "#### Score the model using the test data"
   ]
  },
  {
   "cell_type": "code",
   "execution_count": 7,
   "metadata": {},
   "outputs": [
    {
     "name": "stdout",
     "output_type": "stream",
     "text": [
      "Training Data Score: 0.9530666666666666\n",
      "Testing Data Score: 0.9472\n"
     ]
    }
   ],
   "source": [
    "print(f\"Training Data Score: {model.score(X_train_scaled, y_train)}\")\n",
    "print(f\"Testing Data Score: {model.score(X_test_scaled, y_test)}\")"
   ]
  },
  {
   "cell_type": "markdown",
   "metadata": {},
   "source": [
    "#### Model Predictions"
   ]
  },
  {
   "cell_type": "code",
   "execution_count": 8,
   "metadata": {},
   "outputs": [
    {
     "data": {
      "text/html": [
       "<div>\n",
       "<style scoped>\n",
       "    .dataframe tbody tr th:only-of-type {\n",
       "        vertical-align: middle;\n",
       "    }\n",
       "\n",
       "    .dataframe tbody tr th {\n",
       "        vertical-align: top;\n",
       "    }\n",
       "\n",
       "    .dataframe thead th {\n",
       "        text-align: right;\n",
       "    }\n",
       "</style>\n",
       "<table border=\"1\" class=\"dataframe\">\n",
       "  <thead>\n",
       "    <tr style=\"text-align: right;\">\n",
       "      <th></th>\n",
       "      <th>Prediction</th>\n",
       "      <th>Actual</th>\n",
       "    </tr>\n",
       "  </thead>\n",
       "  <tbody>\n",
       "    <tr>\n",
       "      <th>0</th>\n",
       "      <td>0</td>\n",
       "      <td>0</td>\n",
       "    </tr>\n",
       "    <tr>\n",
       "      <th>1</th>\n",
       "      <td>0</td>\n",
       "      <td>0</td>\n",
       "    </tr>\n",
       "    <tr>\n",
       "      <th>2</th>\n",
       "      <td>0</td>\n",
       "      <td>0</td>\n",
       "    </tr>\n",
       "    <tr>\n",
       "      <th>3</th>\n",
       "      <td>0</td>\n",
       "      <td>0</td>\n",
       "    </tr>\n",
       "    <tr>\n",
       "      <th>4</th>\n",
       "      <td>0</td>\n",
       "      <td>0</td>\n",
       "    </tr>\n",
       "  </tbody>\n",
       "</table>\n",
       "</div>"
      ],
      "text/plain": [
       "   Prediction  Actual\n",
       "0           0       0\n",
       "1           0       0\n",
       "2           0       0\n",
       "3           0       0\n",
       "4           0       0"
      ]
     },
     "execution_count": 8,
     "metadata": {},
     "output_type": "execute_result"
    }
   ],
   "source": [
    "y_pred = model.predict(X_test_scaled)\n",
    "results = pd.DataFrame({\"Prediction\": y_pred, \"Actual\": y_test}).reset_index(drop=True)\n",
    "results.head()"
   ]
  },
  {
   "cell_type": "markdown",
   "metadata": {},
   "source": [
    "#### 1. Balanced Accuracy Score & Accuracy Score"
   ]
  },
  {
   "cell_type": "code",
   "execution_count": 9,
   "metadata": {},
   "outputs": [
    {
     "data": {
      "text/plain": [
       "0.7920353982300885"
      ]
     },
     "execution_count": 9,
     "metadata": {},
     "output_type": "execute_result"
    }
   ],
   "source": [
    "# Evaluate the predict model through the Balanced Accuracy Score metric\n",
    "balanced_accuracy_score(y_test, y_pred)"
   ]
  },
  {
   "cell_type": "code",
   "execution_count": 10,
   "metadata": {},
   "outputs": [
    {
     "data": {
      "text/plain": [
       "0.9472"
      ]
     },
     "execution_count": 10,
     "metadata": {},
     "output_type": "execute_result"
    }
   ],
   "source": [
    "# Evaluate the predict model through the Accuracy Score metric\n",
    "accuracy_score(y_test, y_pred)"
   ]
  },
  {
   "cell_type": "markdown",
   "metadata": {},
   "source": [
    "#### 2. Confusion Matrix"
   ]
  },
  {
   "cell_type": "code",
   "execution_count": 11,
   "metadata": {},
   "outputs": [
    {
     "data": {
      "text/plain": [
       "Text(33.0, 0.5, 'Predicted')"
      ]
     },
     "execution_count": 11,
     "metadata": {},
     "output_type": "execute_result"
    },
    {
     "data": {
      "image/png": "[encoded data removed]",
      "text/plain": [
       "<Figure size 432x288 with 2 Axes>"
      ]
     },
     "metadata": {
      "needs_background": "light"
     },
     "output_type": "display_data"
    }
   ],
   "source": [
    "cm = confusion_matrix(y_test, y_pred)\n",
    "\n",
    "# Display the confusion matrix\n",
    "sns.heatmap(cm,\n",
    "            cmap = 'Blues', \n",
    "            fmt = '', \n",
    "            annot = True)\n",
    "\n",
    "# Set plot labels \n",
    "plt.title(\"Scaled Model: Confusion Matrix\")\n",
    "plt.xlabel(\"Actual\")\n",
    "plt.ylabel(\"Predicted\")"
   ]
  },
  {
   "cell_type": "markdown",
   "metadata": {},
   "source": [
    "#### 3. Classification Report"
   ]
  },
  {
   "cell_type": "code",
   "execution_count": 33,
   "metadata": {},
   "outputs": [
    {
     "name": "stdout",
     "output_type": "stream",
     "text": [
      "Scaled Classification Report:\n"
     ]
    },
    {
     "ename": "TypeError",
     "evalue": "'str' object is not callable",
     "output_type": "error",
     "traceback": [
      "\u001b[1;31m---------------------------------------------------------------------------\u001b[0m",
      "\u001b[1;31mTypeError\u001b[0m                                 Traceback (most recent call last)",
      "\u001b[1;32m<ipython-input-33-c30660d182e4>\u001b[0m in \u001b[0;36m<module>\u001b[1;34m\u001b[0m\n\u001b[0;32m      2\u001b[0m \u001b[0mprint\u001b[0m\u001b[1;33m(\u001b[0m\u001b[1;34m\"Scaled Classification Report:\"\u001b[0m\u001b[1;33m)\u001b[0m\u001b[1;33m\u001b[0m\u001b[1;33m\u001b[0m\u001b[0m\n\u001b[0;32m      3\u001b[0m \u001b[1;33m\u001b[0m\u001b[0m\n\u001b[1;32m----> 4\u001b[1;33m \u001b[0mclassification_report\u001b[0m \u001b[1;33m=\u001b[0m \u001b[1;33m(\u001b[0m\u001b[0mclassification_report\u001b[0m\u001b[1;33m(\u001b[0m\u001b[0my_test\u001b[0m\u001b[1;33m,\u001b[0m \u001b[0my_pred\u001b[0m\u001b[1;33m)\u001b[0m\u001b[1;33m)\u001b[0m\u001b[1;33m\u001b[0m\u001b[1;33m\u001b[0m\u001b[0m\n\u001b[0m\u001b[0;32m      5\u001b[0m \u001b[0mprint\u001b[0m\u001b[1;33m(\u001b[0m\u001b[0mclassification_report\u001b[0m\u001b[1;33m)\u001b[0m\u001b[1;33m\u001b[0m\u001b[1;33m\u001b[0m\u001b[0m\n\u001b[0;32m      6\u001b[0m \u001b[1;33m\u001b[0m\u001b[0m\n",
      "\u001b[1;31mTypeError\u001b[0m: 'str' object is not callable"
     ]
    }
   ],
   "source": [
    "# Classification report title print statement \n",
    "print(\"Scaled Classification Report:\")\n",
    "\n",
    "classification_report = (classification_report(y_test, y_pred))\n",
    "print(classification_report)\n"
   ]
  },
  {
   "cell_type": "markdown",
   "metadata": {},
   "source": [
    "#### 4. F-Beta Score"
   ]
  },
  {
   "cell_type": "code",
   "execution_count": 34,
   "metadata": {},
   "outputs": [
    {
     "name": "stdout",
     "output_type": "stream",
     "text": [
      "F1 Beta Score: 0.532609\n"
     ]
    }
   ],
   "source": [
    "# Calculate Beta F1 Score\n",
    "fbeta = fbeta_score(y_test, y_pred,beta=0.5)\n",
    "\n",
    "# Print the F1 score results\n",
    "print(\"F1 Beta Score: %f\" % (fbeta))"
   ]
  },
  {
   "cell_type": "markdown",
   "metadata": {},
   "source": [
    "#### 5. ROC-AUC"
   ]
  },
  {
   "cell_type": "code",
   "execution_count": 35,
   "metadata": {},
   "outputs": [
    {
     "data": {
      "image/png": "[encoded data removed]",
      "text/plain": [
       "<Figure size 432x288 with 1 Axes>"
      ]
     },
     "metadata": {
      "needs_background": "light"
     },
     "output_type": "display_data"
    },
    {
     "name": "stdout",
     "output_type": "stream",
     "text": [
      "Scaled Data Model: ROC-AUC Score: 0.8632005899705015\n"
     ]
    }
   ],
   "source": [
    "# Create the ROC curve \n",
    "roc_model_curve = plot_roc_curve(model, X_test_scaled, y_test)\n",
    "\n",
    "# Set plot labels\n",
    "plt.title(\"Scaled Data Model: Logistic Regression ROC\")\n",
    "\n",
    "# Plot the ROC curve\n",
    "plt.show()\n",
    "\n",
    "# Print the ROC-AUC Score\n",
    "print(\"Scaled Data Model: ROC-AUC Score:\", roc_auc_score(y_test, y_pred))"
   ]
  },
  {
   "cell_type": "markdown",
   "metadata": {},
   "source": [
    "---\n",
    "\n",
    "## Logistical Regression Model + SMOTE\n",
    "\n",
    "The second part of the Logistical Regression notebook uses the SMOTE training and testing data to develop a predictive model."
   ]
  },
  {
   "cell_type": "markdown",
   "metadata": {},
   "source": [
    "#### To evaluate the model the following metrics will be applied:\n",
    "\n",
    "1. Balanced Accuracy & Accuracy Score\n",
    "2. Confusion Matrix\n",
    "3. Classification Report\n",
    "4. F-Beta Score\n",
    "5. ROC-AUC"
   ]
  },
  {
   "cell_type": "markdown",
   "metadata": {},
   "source": [
    "#### Fit (train) or model using the training data"
   ]
  },
  {
   "cell_type": "code",
   "execution_count": 36,
   "metadata": {},
   "outputs": [
    {
     "data": {
      "text/plain": [
       "LogisticRegression(random_state=42)"
      ]
     },
     "execution_count": 36,
     "metadata": {},
     "output_type": "execute_result"
    }
   ],
   "source": [
    "model.fit(X_train_smote, y_train_smote)"
   ]
  },
  {
   "cell_type": "markdown",
   "metadata": {},
   "source": [
    "#### Make Predictions"
   ]
  },
  {
   "cell_type": "code",
   "execution_count": 37,
   "metadata": {},
   "outputs": [
    {
     "data": {
      "text/html": [
       "<div>\n",
       "<style scoped>\n",
       "    .dataframe tbody tr th:only-of-type {\n",
       "        vertical-align: middle;\n",
       "    }\n",
       "\n",
       "    .dataframe tbody tr th {\n",
       "        vertical-align: top;\n",
       "    }\n",
       "\n",
       "    .dataframe thead th {\n",
       "        text-align: right;\n",
       "    }\n",
       "</style>\n",
       "<table border=\"1\" class=\"dataframe\">\n",
       "  <thead>\n",
       "    <tr style=\"text-align: right;\">\n",
       "      <th></th>\n",
       "      <th>Prediction</th>\n",
       "      <th>Actual</th>\n",
       "    </tr>\n",
       "  </thead>\n",
       "  <tbody>\n",
       "    <tr>\n",
       "      <th>0</th>\n",
       "      <td>0</td>\n",
       "      <td>0</td>\n",
       "    </tr>\n",
       "    <tr>\n",
       "      <th>1</th>\n",
       "      <td>0</td>\n",
       "      <td>0</td>\n",
       "    </tr>\n",
       "    <tr>\n",
       "      <th>2</th>\n",
       "      <td>0</td>\n",
       "      <td>0</td>\n",
       "    </tr>\n",
       "    <tr>\n",
       "      <th>3</th>\n",
       "      <td>0</td>\n",
       "      <td>0</td>\n",
       "    </tr>\n",
       "    <tr>\n",
       "      <th>4</th>\n",
       "      <td>1</td>\n",
       "      <td>0</td>\n",
       "    </tr>\n",
       "  </tbody>\n",
       "</table>\n",
       "</div>"
      ],
      "text/plain": [
       "   Prediction  Actual\n",
       "0           0       0\n",
       "1           0       0\n",
       "2           0       0\n",
       "3           0       0\n",
       "4           1       0"
      ]
     },
     "execution_count": 37,
     "metadata": {},
     "output_type": "execute_result"
    }
   ],
   "source": [
    "y_pred = model.predict(X_test_scaled)\n",
    "results = pd.DataFrame({\"Prediction\": y_pred, \"Actual\": y_test}).reset_index(drop=True)\n",
    "results.head()"
   ]
  },
  {
   "cell_type": "markdown",
   "metadata": {},
   "source": [
    "#### 1. Balanced Accuracy Score & Accuracy Score"
   ]
  },
  {
   "cell_type": "code",
   "execution_count": 17,
   "metadata": {},
   "outputs": [
    {
     "data": {
      "text/plain": [
       "0.8632005899705015"
      ]
     },
     "execution_count": 17,
     "metadata": {},
     "output_type": "execute_result"
    }
   ],
   "source": [
    "# Evaluate the predict model through the Balanced Accuracy Score metric\n",
    "balanced_accuracy_score(y_test, y_pred)"
   ]
  },
  {
   "cell_type": "code",
   "execution_count": 18,
   "metadata": {},
   "outputs": [
    {
     "data": {
      "text/plain": [
       "0.9008"
      ]
     },
     "execution_count": 18,
     "metadata": {},
     "output_type": "execute_result"
    }
   ],
   "source": [
    "# Evaluate the predict model through the Accuracy Score metric\n",
    "accuracy_score(y_test, y_pred)"
   ]
  },
  {
   "cell_type": "markdown",
   "metadata": {},
   "source": [
    "#### 2. Confusion Matrix"
   ]
  },
  {
   "cell_type": "code",
   "execution_count": 19,
   "metadata": {},
   "outputs": [
    {
     "data": {
      "text/plain": [
       "Text(33.0, 0.5, 'Predicted')"
      ]
     },
     "execution_count": 19,
     "metadata": {},
     "output_type": "execute_result"
    },
    {
     "data": {
      "image/png": "[encoded data removed]",
      "text/plain": [
       "<Figure size 432x288 with 2 Axes>"
      ]
     },
     "metadata": {
      "needs_background": "light"
     },
     "output_type": "display_data"
    }
   ],
   "source": [
    "cm = confusion_matrix(y_test, y_pred)\n",
    "\n",
    "# Display the confusion matrix\n",
    "sns.heatmap(cm,\n",
    "            cmap = 'Purples', \n",
    "            fmt = '', \n",
    "            annot = True)\n",
    "\n",
    "# Set plot labels \n",
    "plt.title(\"SMOTE Model: Confusion Matrix\")\n",
    "plt.xlabel(\"Actual\")\n",
    "plt.ylabel(\"Predicted\")"
   ]
  },
  {
   "cell_type": "markdown",
   "metadata": {},
   "source": [
    "#### 3. Classification Report"
   ]
  },
  {
   "cell_type": "code",
   "execution_count": 20,
   "metadata": {},
   "outputs": [
    {
     "name": "stdout",
     "output_type": "stream",
     "text": [
      "SMOTE Classification Report:\n",
      "              precision    recall  f1-score   support\n",
      "\n",
      "           0       0.98      0.91      0.94      1130\n",
      "           1       0.49      0.82      0.61       120\n",
      "\n",
      "    accuracy                           0.90      1250\n",
      "   macro avg       0.73      0.86      0.78      1250\n",
      "weighted avg       0.93      0.90      0.91      1250\n",
      "\n"
     ]
    }
   ],
   "source": [
    "# Classification report title print statement \n",
    "print(\"SMOTE Classification Report:\")\n",
    "\n",
    "# Create the classification report\n",
    "smote_report = (classification_report(y_test, y_pred))\n",
    "print(smote_report)"
   ]
  },
  {
   "cell_type": "markdown",
   "metadata": {},
   "source": [
    "#### 4. F-Beta Score"
   ]
  },
  {
   "cell_type": "code",
   "execution_count": 21,
   "metadata": {},
   "outputs": [
    {
     "name": "stdout",
     "output_type": "stream",
     "text": [
      "F1 Beta Score: 0.532609\n"
     ]
    }
   ],
   "source": [
    "# Calculate Beta F1 Score\n",
    "fbeta = fbeta_score(y_test, y_pred,beta=0.5)\n",
    "\n",
    "# Print the F1 score results\n",
    "print(\"F1 Beta Score: %f\" % (fbeta))"
   ]
  },
  {
   "cell_type": "markdown",
   "metadata": {},
   "source": [
    "#### 5. ROC-AUC"
   ]
  },
  {
   "cell_type": "code",
   "execution_count": 22,
   "metadata": {},
   "outputs": [
    {
     "data": {
      "image/png": "[encoded data removed]",
      "text/plain": [
       "<Figure size 432x288 with 1 Axes>"
      ]
     },
     "metadata": {
      "needs_background": "light"
     },
     "output_type": "display_data"
    },
    {
     "name": "stdout",
     "output_type": "stream",
     "text": [
      "SMOTE Data Model: ROC-AUC Score: 0.8632005899705015\n"
     ]
    }
   ],
   "source": [
    "# Create the ROC curve \n",
    "roc_model_curve = plot_roc_curve(model, X_test_scaled, y_test)\n",
    "\n",
    "# Set plot labels\n",
    "plt.title(\"SMOTE Data Model: Logistic Regression ROC\")\n",
    "\n",
    "# Plot the ROC curve\n",
    "plt.show()\n",
    "\n",
    "# Print the ROC-AUC Score\n",
    "print(\"SMOTE Data Model: ROC-AUC Score:\", roc_auc_score(y_test, y_pred))"
   ]
  },
  {
   "cell_type": "markdown",
   "metadata": {},
   "source": [
    "---\n",
    "\n",
    "## Logistical Regression Model + Random Oversampling (ROS)\n",
    "\n",
    "The third part of the Logistical Regression notebook uses the ROS training and testing data to develop a predictive model."
   ]
  },
  {
   "cell_type": "markdown",
   "metadata": {},
   "source": [
    "#### To evaluate the model the following metrics will be applied:\n",
    "\n",
    "1. Balanced Accuracy & Accuracy Score\n",
    "2. Confusion Matrix\n",
    "3. Classification Report\n",
    "4. Mean-Squared-Error & Root Mean-Squared-Error\n",
    "5. ROC-AUC"
   ]
  },
  {
   "cell_type": "markdown",
   "metadata": {},
   "source": [
    "#### Fit (train) or model using the training data"
   ]
  },
  {
   "cell_type": "code",
   "execution_count": 23,
   "metadata": {},
   "outputs": [
    {
     "data": {
      "text/plain": [
       "LogisticRegression(random_state=42)"
      ]
     },
     "execution_count": 23,
     "metadata": {},
     "output_type": "execute_result"
    }
   ],
   "source": [
    "model.fit(X_train_ros, y_train_ros)"
   ]
  },
  {
   "cell_type": "markdown",
   "metadata": {},
   "source": [
    "#### Make Predictions"
   ]
  },
  {
   "cell_type": "code",
   "execution_count": 24,
   "metadata": {},
   "outputs": [
    {
     "data": {
      "text/html": [
       "<div>\n",
       "<style scoped>\n",
       "    .dataframe tbody tr th:only-of-type {\n",
       "        vertical-align: middle;\n",
       "    }\n",
       "\n",
       "    .dataframe tbody tr th {\n",
       "        vertical-align: top;\n",
       "    }\n",
       "\n",
       "    .dataframe thead th {\n",
       "        text-align: right;\n",
       "    }\n",
       "</style>\n",
       "<table border=\"1\" class=\"dataframe\">\n",
       "  <thead>\n",
       "    <tr style=\"text-align: right;\">\n",
       "      <th></th>\n",
       "      <th>Prediction</th>\n",
       "      <th>Actual</th>\n",
       "    </tr>\n",
       "  </thead>\n",
       "  <tbody>\n",
       "    <tr>\n",
       "      <th>0</th>\n",
       "      <td>0</td>\n",
       "      <td>0</td>\n",
       "    </tr>\n",
       "    <tr>\n",
       "      <th>1</th>\n",
       "      <td>0</td>\n",
       "      <td>0</td>\n",
       "    </tr>\n",
       "    <tr>\n",
       "      <th>2</th>\n",
       "      <td>0</td>\n",
       "      <td>0</td>\n",
       "    </tr>\n",
       "    <tr>\n",
       "      <th>3</th>\n",
       "      <td>0</td>\n",
       "      <td>0</td>\n",
       "    </tr>\n",
       "    <tr>\n",
       "      <th>4</th>\n",
       "      <td>1</td>\n",
       "      <td>0</td>\n",
       "    </tr>\n",
       "  </tbody>\n",
       "</table>\n",
       "</div>"
      ],
      "text/plain": [
       "   Prediction  Actual\n",
       "0           0       0\n",
       "1           0       0\n",
       "2           0       0\n",
       "3           0       0\n",
       "4           1       0"
      ]
     },
     "execution_count": 24,
     "metadata": {},
     "output_type": "execute_result"
    }
   ],
   "source": [
    "ros_y_pred = model.predict(X_test_scaled)\n",
    "results = pd.DataFrame({\"Prediction\": ros_y_pred, \"Actual\": y_test}).reset_index(drop=True)\n",
    "results.head()"
   ]
  },
  {
   "cell_type": "markdown",
   "metadata": {},
   "source": [
    "#### 1. Balanced Accuracy Score & Accuracy Score"
   ]
  },
  {
   "cell_type": "code",
   "execution_count": 25,
   "metadata": {},
   "outputs": [
    {
     "data": {
      "text/plain": [
       "0.8632005899705015"
      ]
     },
     "execution_count": 25,
     "metadata": {},
     "output_type": "execute_result"
    }
   ],
   "source": [
    "# Evaluate the predict model through the Balanced Accuracy Score metric\n",
    "# from sklearn.metrics import balanced_accuracy_score\n",
    "balanced_accuracy_score(y_test, y_pred)"
   ]
  },
  {
   "cell_type": "code",
   "execution_count": 26,
   "metadata": {},
   "outputs": [
    {
     "data": {
      "text/plain": [
       "0.9008"
      ]
     },
     "execution_count": 26,
     "metadata": {},
     "output_type": "execute_result"
    }
   ],
   "source": [
    "# Evaluate the predict model through the Accuracy Score metric\n",
    "# from sklearn.metrics import accuracy_score\n",
    "accuracy_score(y_test, y_pred)\n"
   ]
  },
  {
   "cell_type": "markdown",
   "metadata": {},
   "source": [
    "#### 2. Confusion Matrix"
   ]
  },
  {
   "cell_type": "code",
   "execution_count": 27,
   "metadata": {},
   "outputs": [
    {
     "data": {
      "text/plain": [
       "Text(33.0, 0.5, 'Predicted')"
      ]
     },
     "execution_count": 27,
     "metadata": {},
     "output_type": "execute_result"
    },
    {
     "data": {
      "image/png": "[encoded data removed]",
      "text/plain": [
       "<Figure size 432x288 with 2 Axes>"
      ]
     },
     "metadata": {
      "needs_background": "light"
     },
     "output_type": "display_data"
    }
   ],
   "source": [
    "cm = confusion_matrix(y_test, y_pred)\n",
    "\n",
    "# Display the confusion matrix\n",
    "sns.heatmap(cm,\n",
    "            cmap = 'Reds', \n",
    "            fmt = '', \n",
    "            annot = True)\n",
    "\n",
    "# Set plot labels \n",
    "plt.title(\"Scaled Model: Confusion Matrix\")\n",
    "plt.xlabel(\"Actual\")\n",
    "plt.ylabel(\"Predicted\")"
   ]
  },
  {
   "cell_type": "markdown",
   "metadata": {},
   "source": [
    "#### 3. Classification Report"
   ]
  },
  {
   "cell_type": "code",
   "execution_count": 29,
   "metadata": {},
   "outputs": [
    {
     "name": "stdout",
     "output_type": "stream",
     "text": [
      "ROS Classification Report:\n",
      "              precision    recall  f1-score   support\n",
      "\n",
      "           0       0.98      0.91      0.94      1130\n",
      "           1       0.49      0.82      0.61       120\n",
      "\n",
      "    accuracy                           0.90      1250\n",
      "   macro avg       0.73      0.86      0.78      1250\n",
      "weighted avg       0.93      0.90      0.91      1250\n",
      "\n"
     ]
    }
   ],
   "source": [
    "# Classification report title print statement \n",
    "print(\"ROS Classification Report:\")\n",
    "\n",
    "# Create the classification report\n",
    "\n",
    "ros_report = (classification_report(y_test, y_pred))\n",
    "print(ros_report)"
   ]
  },
  {
   "cell_type": "markdown",
   "metadata": {},
   "source": [
    "#### 4. F-Beta Score"
   ]
  },
  {
   "cell_type": "code",
   "execution_count": null,
   "metadata": {},
   "outputs": [],
   "source": [
    "# Calculate Beta F1 Score\n",
    "fbeta = fbeta_score(y_test, y_pred,beta=0.5)\n",
    "\n",
    "# Print the F1 score results\n",
    "print(\"F1 Beta Score: %f\" % (fbeta))"
   ]
  },
  {
   "cell_type": "markdown",
   "metadata": {},
   "source": [
    "#### 5. ROC-AUC"
   ]
  },
  {
   "cell_type": "code",
   "execution_count": null,
   "metadata": {},
   "outputs": [],
   "source": [
    "# Create the ROC curve \n",
    "roc_model_curve = plot_roc_curve(model, X_test_scaled, y_test)\n",
    "\n",
    "# Set plot labels\n",
    "plt.title(\"SMOTE Data Model: Logistic Regression ROC\")\n",
    "\n",
    "# Plot the ROC curve\n",
    "plt.show()\n",
    "\n",
    "# Print the ROC-AUC Score\n",
    "print(\"SMOTE Data Model: ROC-AUC Score:\", roc_auc_score(y_test, y_pred))"
   ]
  },
  {
   "cell_type": "markdown",
   "metadata": {},
   "source": [
    "---\n",
    "\n",
    "### Logistic Model: Model Comparison & Conclusions"
   ]
  },
  {
   "cell_type": "markdown",
   "metadata": {},
   "source": [
    "#### Accuracy Scores"
   ]
  },
  {
   "cell_type": "code",
   "execution_count": null,
   "metadata": {},
   "outputs": [],
   "source": [
    "# Create the model accuracy scores dataframe\n",
    "accuracy_scores = pd.DataFrame({\n",
    "    \"Model Dataset\" : [\"Scaled Balanced Accuracy Score\", \n",
    "                       \"Scaled Accuracy Score\", \n",
    "                       \"SMOTE Balanced Accuracy Score\", \n",
    "                       \"SMOTE Accuracy Score\", \n",
    "                       \"ROS Balanced Accuracy Score\", \n",
    "                       \"ROS Accuracy Score\"],\n",
    "    \"Score\" : [0.7220, 0.9472, 0.8632, 0.9008, 0.8232, 0.9008]\n",
    "})\n",
    "\n",
    "# Display the dataframe\n",
    "accuracy_scores"
   ]
  },
  {
   "cell_type": "markdown",
   "metadata": {},
   "source": [
    "##### Balanced Accuracy & Accuracy Score Conclusions: \n",
    "\n",
    "Based on an equal weighting of model accuracy and balanced accuracy score, the model that produces more effective scores in compared to the other results is the SMOTE Logistic model. \n",
    "\n",
    "**SMOTE Logistic Model:**\n",
    "\n",
    "* Balanced Accuracy Score: 86.32\n",
    "* Accuracy Score: 90.08"
   ]
  },
  {
   "cell_type": "markdown",
   "metadata": {},
   "source": [
    "#### Classification Reports"
   ]
  },
  {
   "cell_type": "code",
   "execution_count": null,
   "metadata": {},
   "outputs": [],
   "source": [
    "# Scaled Mode:\n",
    "print(\"Scaled Classification Report:\")\n",
    "print(classification_report)\n",
    "\n",
    "# SMOTE Model:\n",
    "print(\"SMOTE Classification Report:\")\n",
    "print(smote_report)\n",
    "\n",
    "# ROS Model:\n",
    "print(\"ROS Classification Report:\")\n",
    "print(ros_report)"
   ]
  },
  {
   "cell_type": "markdown",
   "metadata": {},
   "source": [
    "##### Classification Report Conclusions: \n",
    "\n",
    "Based on the porject objective, the null hypothesis scores are evaluated to determine which model performs the best in regards to the following three metrics; \n",
    "\n",
    "**Model with Optimal Precision:** ROS XGBoost model\n",
    "\n",
    "**Model with Optimal Recall:** Each model performs well\n",
    "\n",
    "**Model with Optimal F1-Score:** Each model performs well"
   ]
  },
  {
   "cell_type": "markdown",
   "metadata": {},
   "source": [
    "#### F-Beta Scores"
   ]
  },
  {
   "cell_type": "code",
   "execution_count": null,
   "metadata": {},
   "outputs": [],
   "source": [
    "# Create the model for F1 Scores & F1 Beta Scores dataframe\n",
    "f_scores = pd.DataFrame({\n",
    "    \"Model Dataset\" : [\"Scaled F1 Beta\",  \n",
    "                       \"SMOTE F1 Beta\", \n",
    "                       \"ROS F1 Beta\"], \n",
    "    \"Score\" : [0.7500, 0.5326, 0.5326]\n",
    "})\n",
    "\n",
    "# Display the dataframe\n",
    "f_scores"
   ]
  },
  {
   "cell_type": "markdown",
   "metadata": {},
   "source": [
    "##### F-Beta Scores Conclusions:\n",
    "\n",
    "In regards to the porject objective, *determining a model that has optimal predictive abilities to determine the liklihood an account holder at Thera Bank is to take out a personal loan*, placing a greater weight on recall rather than equal weight to preicsion and recall is required. \n",
    "\n",
    "Weighted F1 scores place a greater weight on recall, thus the model with a higher F-Beta score is the Scaled XGBoost model.\n",
    "\n",
    "**Scaled Result:** 75.00\n",
    "    \n",
    "Unbalanced Data***"
   ]
  },
  {
   "cell_type": "markdown",
   "metadata": {},
   "source": [
    "#### ROC - AUC"
   ]
  },
  {
   "cell_type": "code",
   "execution_count": null,
   "metadata": {},
   "outputs": [],
   "source": [
    "# Create the model ROC-AUC dataframe\n",
    "roc_auc_scores = pd.DataFrame({\n",
    "    \"Model Dataset\" : [\"Scaled ROC-AUC\", \n",
    "                       \"SMOTE ROC-AUC\", \n",
    "                       \"ROS ROC-AUC\"], \n",
    "    \"Score\" : [0.7920, 0.8632, 0.8632]\n",
    "})\n",
    "\n",
    "# Display the dataframe\n",
    "roc_auc_scores"
   ]
  },
  {
   "cell_type": "markdown",
   "metadata": {},
   "source": [
    "##### ROC-AUC Conclusions:\n",
    "\n",
    "Of the three trained datasets, the logistic regression model that provides the best results for the ROC-AUC is the both the SMOTE and Random Oversampled (ROS) model. \n",
    "\n",
    "**SMOTE & Random Oversampled Logistic Regression Model:**\n",
    "\n",
    "* ROC-AUC : 86.32"
   ]
  },
  {
   "cell_type": "markdown",
   "metadata": {},
   "source": [
    "### Final Analysis:"
   ]
  },
  {
   "cell_type": "code",
   "execution_count": null,
   "metadata": {},
   "outputs": [],
   "source": [
    "The purpose of the model is to provide optimized predictions regardining a Thera Bank account holder's likelihood of taking out a personal loan. In the original dataset, the promotion campaign Thera Bank employed to increase the amount of customers with a personal loan indicated many account holders were liability customers (i.e. despositors). The goal of the campaign is to increase the amount of asset customers (i.e. borrowers). Therefore, our model places greater empahsis on recall, as there is a signficantly lower percentage of asset customers in relation to liability customers. \n",
    "\n",
    "Thus understanding the principle of the data is highly improtant in identfying the evaluation metrics that are best suited to measure the XGBoost's model performance. Recall has the ability to best identify the samples that were classified correctly, minimizing the potential for false negatives. Due to the fact Thera Bank is greatly intrested in growing their consumer base, a model that indeitfies acocunt holders as customers that did take out a personal loan when in fact they did not would skew the data. Therefore, mitigating the risk for potential error is a key factor in selecting the final model. \n",
    "\n",
    "Therefore, model recall and model F-Beta scores are the key evaluation metrics analyzed in determining which trained and tested dataset predictions are best to use. Additionally, to ensure all model features have an optimal performance precision and accuracy score are evaluated as secondary conditions. *The determined model to use is based on a comparison of all characterisitcs. This is an important note because the three models produce a good recall score.*\n",
    "\n",
    "**Model Selected:** Random Oversampled (ROS) XGBoost Model \n",
    "\n",
    "* Recall: 99%\n",
    "* Weighted F1 Score: 91.77\n",
    "* Accuracy Score: 98.72\n",
    "* Balanced Accuracy Score: 97.70\n",
    "* ROC-AUC: 96.74\n",
    "\n",
    "---"
   ]
  }
 ],
 "metadata": {
  "kernelspec": {
   "display_name": "Python 3",
   "language": "python",
   "name": "python3"
  },
  "language_info": {
   "codemirror_mode": {
    "name": "ipython",
    "version": 3
   },
   "file_extension": ".py",
   "mimetype": "text/x-python",
   "name": "python",
   "nbconvert_exporter": "python",
   "pygments_lexer": "ipython3",
   "version": "3.8.3"
  }
 },
 "nbformat": 4,
 "nbformat_minor": 4
}
