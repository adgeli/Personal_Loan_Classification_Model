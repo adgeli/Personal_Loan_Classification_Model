{
 "cells": [
  {
   "cell_type": "markdown",
   "metadata": {
    "slideshow": {
     "slide_type": "fragment"
    }
   },
   "source": [
    "# Data Prep Notebook"
   ]
  },
  {
   "cell_type": "markdown",
   "metadata": {},
   "source": [
    "This notebook contains the code used to prepare dataset for analysis in the machine learning models; \n",
    "\n",
    "- profitable_stock.csv - inital data file\n",
    "- top_profitable_stock.csv - top 10 profitable stocks\n",
    "- top_prof_stock_prices.csv - top 10 profitable stocks with closing prices - SP index appended\n",
    "- sample_moving_amzn.csv - sample Amazon file closing prices with 50 and 100 moving avg appended\n",
    "\n",
    "that are used to conduct a data analysis and visualizations in the *insert notebook name here* notebook.\n",
    "\n",
    "yFinance API was attempted but during initial data pulls, blank / empty data rows were found that were affecting results.  Switch was made to use the Yahoo finance library"
   ]
  },
  {
   "cell_type": "code",
   "execution_count": 12,
   "metadata": {},
   "outputs": [],
   "source": [
    "# Initial imports\n",
    "import os\n",
    "import requests\n",
    "import datetime\n",
    "import calendar\n",
    "import json\n",
    "import pandas as pd\n",
    "import numpy as np\n",
    "from pathlib import Path\n",
    "from dotenv import load_dotenv\n",
    "import matplotlib.pyplot as plt\n",
    "import plotly.express as px\n",
    "import pandas_datareader.data as web\n",
    "%matplotlib inline"
   ]
  },
  {
   "cell_type": "code",
   "execution_count": 14,
   "metadata": {},
   "outputs": [],
   "source": [
    "# Initialize the Panel Extensions (for Plotly)\n",
    "import panel as pn\n",
    "pn.extension(\"plotly\")"
   ]
  },
  {
   "cell_type": "code",
   "execution_count": 15,
   "metadata": {},
   "outputs": [],
   "source": [
    "# Import hvplot.pandas after pn.extension\n",
    "# This avoids plotly initialization failure\n",
    "import hvplot.pandas"
   ]
  },
  {
   "cell_type": "markdown",
   "metadata": {},
   "source": [
    "## Notebook Functions"
   ]
  },
  {
   "cell_type": "code",
   "execution_count": 16,
   "metadata": {},
   "outputs": [],
   "source": [
    "def generate_stock_prices(stock):\n",
    "\n",
    "    \"\"\"\n",
    "    Funtion returns dataframe containing the closing prices and date for supplied stock symbol between\n",
    "    July 26, 2015 and July 24, 2020.\n",
    "    \"\"\"\n",
    "    \n",
    "    # Create empty dataframe for closing prices\n",
    "    data = []\n",
    "    \n",
    "    # Pull data for specified stock symbol and dates\n",
    "    stock_prices = pd.DataFrame(columns = [\"date\", \"close\"])\n",
    "    data = web.DataReader(stock, \"yahoo\",\"2015-07-26\",\"2020-07-24\" )\n",
    "        \n",
    "    # drop all rows with any NaN and NaT values\n",
    "    data = data.dropna()\n",
    "    \n",
    "    data = data.reset_index()\n",
    "    data = data.sort_values(by = ['Date'], ascending=True)\n",
    "    \n",
    "    #Loop through stock data and pull only date and close price\n",
    "    for key, value in data.iterrows():\n",
    "        \n",
    "        if value.empty:\n",
    "            print(key)\n",
    "        \n",
    "        stock_prices = stock_prices.append({'date': value['Date'], \n",
    "                                'close': round(value['Close'],2)}, \n",
    "                                    ignore_index=True)\n",
    "    return stock_prices\n",
    "\n",
    "\n",
    "\n",
    "def calculate_stock_profit(dataframe):\n",
    "\n",
    "    \"\"\"\n",
    "    Funtion appends the 50 and 100 moving average to the supplied stock dataframe.  Determines the when the averages cross calculating\n",
    "    when to buy and sell.  Profit is cummulated based on an intial investment of 1000.00\n",
    "    \"\"\"\n",
    "    \n",
    "    day_num=0\n",
    "    curr_pos=0\n",
    "    curr_bal=0\n",
    "    profit=0\n",
    "    acum_profit=0\n",
    "    \n",
    "    stock_profit = dataframe.set_index(dataframe['date'])  # drop = true\n",
    "\n",
    "    stock_profit['100ma'] = stock_profit['close'].rolling(window=100,min_periods=0).mean()\n",
    "    stock_profit['50ma'] = stock_profit['close'].rolling(window=50,min_periods=0).mean()\n",
    "\n",
    "\n",
    "    for day_num in range(len(stock_profit)):\n",
    "        if day_num>0:\n",
    "            ma_100 = round(stock_profit.iloc[day_num]['100ma'],2)\n",
    "            ma_50 = round(stock_profit.iloc[day_num]['50ma'],2)\n",
    "            pre_ma_100 = round(stock_profit.iloc[day_num-1]['100ma'],2)\n",
    "            pre_ma_50 = round(stock_profit.iloc[day_num-1]['50ma'],2)\n",
    "\n",
    "\n",
    "            trade=trader(pre_ma_100,pre_ma_50,ma_100,ma_50)\n",
    "\n",
    "\n",
    "            if trade==\"BUY\": \n",
    "                \n",
    "                curr_pos = curr_pos+1000\n",
    "                curr_bal = curr_pos*stock_profit.iloc[day_num]['close']\n",
    "                \n",
    "            elif trade==\"SELL\":    \n",
    "               \n",
    "                new_bal = curr_pos*stock_profit.iloc[day_num]['close']\n",
    "                profit = +new_bal-curr_bal\n",
    "                acum_profit = acum_profit+profit\n",
    "                curr_pos = curr_pos-1000\n",
    "                curr_bal = 0\n",
    "               \n",
    "\n",
    "    return acum_profit\n",
    "\n",
    "\n",
    "\n",
    "\n",
    "def trader(pre_ma_100, pre_ma_50, ma_100, ma_50):\n",
    "\n",
    "    \"\"\"\n",
    "    Funtion determines the when the averages cross calculating and returns a \n",
    "    when to buy or sell flag.  \n",
    "    \"\"\"\n",
    "\n",
    "    if(pre_ma_50<pre_ma_100 and ma_50>ma_100):        \n",
    "        order=\"BUY\"\n",
    "    elif(pre_ma_50>pre_ma_100 and ma_50<ma_100):        \n",
    "        order=\"SELL\"\n",
    "    else: order=\"Do Nothing\"\n",
    "    \n",
    "    return order"
   ]
  },
  {
   "cell_type": "markdown",
   "metadata": {},
   "source": [
    "### Profitable Stock Builder"
   ]
  },
  {
   "cell_type": "code",
   "execution_count": 26,
   "metadata": {
    "tags": []
   },
   "outputs": [
    {
     "name": "stdout",
     "output_type": "stream",
     "text": [
      "MMM\n",
      "AOS\n",
      "ABT\n",
      "ABBV\n",
      "ABMD\n",
      "ACN\n",
      "ATVI\n",
      "ADBE\n",
      "AAP\n",
      "AMD\n",
      "AES\n",
      "AFL\n",
      "A\n",
      "APD\n",
      "AKAM\n",
      "ALK\n",
      "ALB\n",
      "ARE\n",
      "ALXN\n",
      "ALGN\n",
      "ALLE\n",
      "LNT\n",
      "ALL\n",
      "GOOGL\n",
      "GOOG\n",
      "MO\n",
      "AMZN\n",
      "AMCR\n",
      "AEE\n",
      "AAL\n",
      "AEP\n",
      "AXP\n",
      "AIG\n",
      "AMT\n",
      "AWK\n",
      "AMP\n",
      "ABC\n",
      "AME\n",
      "AMGN\n",
      "APH\n",
      "ADI\n",
      "ANSS\n",
      "ANTM\n",
      "AON\n",
      "APA\n",
      "AIV\n",
      "AAPL\n",
      "AMAT\n",
      "APTV\n",
      "ADM\n",
      "ANET\n",
      "AJG\n",
      "AIZ\n",
      "T\n",
      "ATO\n",
      "ADSK\n",
      "ADP\n",
      "AZO\n",
      "AVB\n",
      "AVY\n",
      "BKR\n",
      "BLL\n",
      "BAC\n",
      "BAX\n",
      "BDX\n",
      "BBY\n",
      "BIO\n",
      "BIIB\n",
      "BLK\n",
      "BA\n",
      "BKNG\n",
      "BWA\n",
      "BXP\n",
      "BSX\n",
      "BMY\n",
      "AVGO\n",
      "BR\n",
      "CHRW\n",
      "COG\n",
      "CDNS\n",
      "CPB\n",
      "COF\n",
      "CAH\n",
      "KMX\n",
      "CCL\n",
      "CARR\n",
      "CAT\n",
      "CBOE\n",
      "CBRE\n",
      "CDW\n",
      "CE\n",
      "CNC\n",
      "CNP\n",
      "CTL\n",
      "CERN\n",
      "CF\n",
      "SCHW\n",
      "CHTR\n",
      "CVX\n",
      "CMG\n",
      "CB\n",
      "CHD\n",
      "CI\n",
      "CINF\n",
      "CTAS\n",
      "CSCO\n",
      "C\n",
      "CFG\n",
      "CTXS\n",
      "CME\n",
      "CMS\n",
      "KO\n",
      "CTSH\n",
      "CL\n",
      "CMCSA\n",
      "CMA\n",
      "CAG\n",
      "CXO\n",
      "COP\n",
      "ED\n",
      "STZ\n",
      "CPRT\n",
      "GLW\n",
      "CTVA\n",
      "COST\n",
      "COTY\n",
      "CCI\n",
      "CSX\n",
      "CMI\n",
      "CVS\n",
      "DHI\n",
      "DHR\n",
      "DRI\n",
      "DVA\n",
      "DE\n",
      "DAL\n",
      "XRAY\n",
      "DVN\n",
      "DXCM\n",
      "FANG\n",
      "DLR\n",
      "DFS\n",
      "DISCA\n",
      "DISCK\n",
      "DISH\n",
      "DG\n",
      "DLTR\n",
      "D\n",
      "DPZ\n",
      "DOV\n",
      "DOW\n",
      "DTE\n",
      "DUK\n",
      "DRE\n",
      "DD\n",
      "DXC\n",
      "ETFC\n",
      "EMN\n",
      "ETN\n",
      "EBAY\n",
      "ECL\n",
      "EIX\n",
      "EW\n",
      "EA\n",
      "EMR\n",
      "ETR\n",
      "EOG\n",
      "EFX\n",
      "EQIX\n",
      "EQR\n",
      "ESS\n",
      "EL\n",
      "RE\n",
      "EVRG\n",
      "ES\n",
      "EXC\n",
      "EXPE\n",
      "EXPD\n",
      "EXR\n",
      "XOM\n",
      "FFIV\n",
      "FB\n",
      "FAST\n",
      "FRT\n",
      "FDX\n",
      "FIS\n",
      "FITB\n",
      "FRC\n",
      "FE\n",
      "FISV\n",
      "FLT\n",
      "FLIR\n",
      "FLS\n",
      "FMC\n",
      "F\n",
      "FTNT\n",
      "FTV\n",
      "FBHS\n",
      "FOXA\n",
      "FOX\n",
      "BEN\n",
      "FCX\n",
      "GPS\n",
      "GRMN\n",
      "IT\n",
      "GD\n",
      "GE\n",
      "GIS\n",
      "GM\n",
      "GPC\n",
      "GILD\n",
      "GPN\n",
      "GL\n",
      "GS\n",
      "GWW\n",
      "HRB\n",
      "HAL\n",
      "HBI\n",
      "HIG\n",
      "HAS\n",
      "HCA\n",
      "PEAK\n",
      "HSIC\n",
      "HES\n",
      "HPE\n",
      "HLT\n",
      "HFC\n",
      "HOLX\n",
      "HD\n",
      "HON\n",
      "HRL\n",
      "HST\n",
      "HWM\n",
      "HPQ\n",
      "HUM\n",
      "HBAN\n",
      "HII\n",
      "IEX\n",
      "IDXX\n",
      "INFO\n",
      "ITW\n",
      "ILMN\n",
      "INCY\n",
      "IR\n",
      "INTC\n",
      "ICE\n",
      "IBM\n",
      "IP\n",
      "IPG\n",
      "IFF\n",
      "INTU\n",
      "ISRG\n",
      "IVZ\n",
      "IPGP\n",
      "IQV\n",
      "IRM\n",
      "JBHT\n",
      "JKHY\n",
      "J\n",
      "SJM\n",
      "JNJ\n",
      "JCI\n",
      "JPM\n",
      "JNPR\n",
      "KSU\n",
      "K\n",
      "KEY\n",
      "KEYS\n",
      "KMB\n",
      "KIM\n",
      "KMI\n",
      "KLAC\n",
      "KSS\n",
      "KHC\n",
      "KR\n",
      "LB\n",
      "LHX\n",
      "LH\n",
      "LRCX\n",
      "LW\n",
      "LVS\n",
      "LEG\n",
      "LDOS\n",
      "LEN\n",
      "LLY\n",
      "LNC\n",
      "LIN\n",
      "LYV\n",
      "LKQ\n",
      "LMT\n",
      "L\n",
      "LOW\n",
      "LYB\n",
      "MTB\n",
      "MRO\n",
      "MPC\n",
      "MKTX\n",
      "MAR\n",
      "MMC\n",
      "MLM\n",
      "MAS\n",
      "MA\n",
      "MXIM\n",
      "MKC\n",
      "MCD\n",
      "MCK\n",
      "MDT\n",
      "MRK\n",
      "MET\n",
      "MTD\n",
      "MGM\n",
      "MCHP\n",
      "MU\n",
      "MSFT\n",
      "MAA\n",
      "MHK\n",
      "TAP\n",
      "MDLZ\n",
      "MNST\n",
      "MCO\n",
      "MS\n",
      "MSI\n",
      "MSCI\n",
      "MYL\n",
      "NDAQ\n",
      "NOV\n",
      "NTAP\n",
      "NFLX\n",
      "NWL\n",
      "NEM\n",
      "NWSA\n",
      "NWS\n",
      "NEE\n",
      "NLSN\n",
      "NKE\n",
      "NI\n",
      "NBL\n",
      "NSC\n",
      "NTRS\n",
      "NOC\n",
      "NLOK\n",
      "NCLH\n",
      "NRG\n",
      "NUE\n",
      "NVDA\n",
      "NVR\n",
      "ORLY\n",
      "OXY\n",
      "ODFL\n",
      "OMC\n",
      "OKE\n",
      "ORCL\n",
      "OTIS\n",
      "PCAR\n",
      "PKG\n",
      "PH\n",
      "PAYX\n",
      "PAYC\n",
      "PYPL\n",
      "PNR\n",
      "PBCT\n",
      "PEP\n",
      "PKI\n",
      "PRGO\n",
      "PFE\n",
      "PM\n",
      "PSX\n",
      "PNW\n",
      "PXD\n",
      "PNC\n",
      "PPG\n",
      "PPL\n",
      "PFG\n",
      "PG\n",
      "PGR\n",
      "PLD\n",
      "PRU\n",
      "PEG\n",
      "PSA\n",
      "PHM\n",
      "PVH\n",
      "QRVO\n",
      "QCOM\n",
      "PWR\n",
      "DGX\n",
      "RL\n",
      "RJF\n",
      "RTX\n",
      "O\n",
      "REG\n",
      "REGN\n",
      "RF\n",
      "RSG\n",
      "RMD\n",
      "RHI\n",
      "ROK\n",
      "ROL\n",
      "ROP\n",
      "ROST\n",
      "RCL\n",
      "SPGI\n",
      "CRM\n",
      "SBAC\n",
      "SLB\n",
      "STX\n",
      "SEE\n",
      "SRE\n",
      "NOW\n",
      "SHW\n",
      "SPG\n",
      "SWKS\n",
      "SLG\n",
      "SNA\n",
      "SO\n",
      "LUV\n",
      "SWK\n",
      "SBUX\n",
      "STT\n",
      "STE\n",
      "SYK\n",
      "SIVB\n",
      "SYF\n",
      "SNPS\n",
      "SYY\n",
      "TMUS\n",
      "TROW\n",
      "TTWO\n",
      "TPR\n",
      "TGT\n",
      "TEL\n",
      "FTI\n",
      "TDY\n",
      "TFX\n",
      "TXN\n",
      "TXT\n",
      "BK\n",
      "CLX\n",
      "COO\n",
      "HSY\n",
      "MOS\n",
      "TRV\n",
      "DIS\n",
      "TMO\n",
      "TIF\n",
      "TJX\n",
      "TSCO\n",
      "TT\n",
      "TDG\n",
      "TFC\n",
      "TWTR\n",
      "TYL\n",
      "TSN\n",
      "USB\n",
      "UDR\n",
      "ULTA\n",
      "UAA\n",
      "UA\n",
      "UNP\n",
      "UAL\n",
      "UNH\n",
      "UPS\n",
      "URI\n",
      "UHS\n",
      "UNM\n",
      "VFC\n",
      "VLO\n",
      "VAR\n",
      "VTR\n",
      "VRSN\n",
      "VRSK\n",
      "VZ\n",
      "VRTX\n",
      "VIAC\n",
      "V\n",
      "VNO\n",
      "VMC\n",
      "WRB\n",
      "WAB\n",
      "WBA\n",
      "WMT\n",
      "WM\n",
      "WAT\n",
      "WEC\n",
      "WFC\n",
      "WELL\n",
      "WST\n",
      "WDC\n",
      "WU\n",
      "WRK\n",
      "WY\n",
      "WHR\n",
      "WMB\n",
      "WLTW\n",
      "WYNN\n",
      "XEL\n",
      "XRX\n",
      "XLNX\n",
      "XYL\n",
      "YUM\n",
      "ZBRA\n",
      "ZBH\n",
      "ZION\n",
      "ZTS\n"
     ]
    },
    {
     "data": {
      "text/html": [
       "<div>\n",
       "<style scoped>\n",
       "    .dataframe tbody tr th:only-of-type {\n",
       "        vertical-align: middle;\n",
       "    }\n",
       "\n",
       "    .dataframe tbody tr th {\n",
       "        vertical-align: top;\n",
       "    }\n",
       "\n",
       "    .dataframe thead th {\n",
       "        text-align: right;\n",
       "    }\n",
       "</style>\n",
       "<table border=\"1\" class=\"dataframe\">\n",
       "  <thead>\n",
       "    <tr style=\"text-align: right;\">\n",
       "      <th></th>\n",
       "      <th>symbol</th>\n",
       "      <th>profit</th>\n",
       "      <th>sector</th>\n",
       "    </tr>\n",
       "  </thead>\n",
       "  <tbody>\n",
       "    <tr>\n",
       "      <th>0</th>\n",
       "      <td>MMM</td>\n",
       "      <td>-7670.0</td>\n",
       "      <td>Industrials</td>\n",
       "    </tr>\n",
       "    <tr>\n",
       "      <th>1</th>\n",
       "      <td>AOS</td>\n",
       "      <td>6450.0</td>\n",
       "      <td>Industrials</td>\n",
       "    </tr>\n",
       "    <tr>\n",
       "      <th>2</th>\n",
       "      <td>ABT</td>\n",
       "      <td>4630.0</td>\n",
       "      <td>Health Care</td>\n",
       "    </tr>\n",
       "    <tr>\n",
       "      <th>3</th>\n",
       "      <td>ABBV</td>\n",
       "      <td>59140.0</td>\n",
       "      <td>Health Care</td>\n",
       "    </tr>\n",
       "    <tr>\n",
       "      <th>4</th>\n",
       "      <td>ABMD</td>\n",
       "      <td>-306210.0</td>\n",
       "      <td>Health Care</td>\n",
       "    </tr>\n",
       "  </tbody>\n",
       "</table>\n",
       "</div>"
      ],
      "text/plain": [
       "  symbol    profit       sector\n",
       "0    MMM   -7670.0  Industrials\n",
       "1    AOS    6450.0  Industrials\n",
       "2    ABT    4630.0  Health Care\n",
       "3   ABBV   59140.0  Health Care\n",
       "4   ABMD -306210.0  Health Care"
      ]
     },
     "execution_count": 26,
     "metadata": {},
     "output_type": "execute_result"
    }
   ],
   "source": [
    "# Setup input and output files and locations\n",
    "filepath = Path(\"resources/stock_symbols.csv\")\n",
    "output = Path(\"resources/profitable_stock.csv\")\n",
    "\n",
    "stock_df = pd.read_csv(filepath)\n",
    "\n",
    "#Define profitable stock dataframe\n",
    "profitable_stock_df = pd.DataFrame(columns = [\"symbol\", \"profit\", \"sector\"])\n",
    "\n",
    "# Loop through S&P 500 stock symbols\n",
    "for key, value in stock_df.iterrows():\n",
    "\n",
    "    print(value['Symbol'])\n",
    "    \n",
    "    #Pull closing prices for each stock in S&P 500 symbols \n",
    "    stock_df = generate_stock_prices(value['Symbol'])\n",
    "    \n",
    "    # Call function to calculate stock profitability\n",
    "    profitable_stock_df = profitable_stock_df.append({'symbol': value['Symbol'],\n",
    "                                                      'profit': round(calculate_stock_profit(stock_df),2),\n",
    "                                                      'sector': value['Sector']},ignore_index=True)\n",
    "# Output profitable stocks to csv file\n",
    "profitable_stock_df.to_csv(output)\n",
    "\n",
    "profitable_stock_df.head()"
   ]
  },
  {
   "cell_type": "markdown",
   "metadata": {},
   "source": [
    "### Generate top 10 profitable from the SP 500 stocks"
   ]
  },
  {
   "cell_type": "code",
   "execution_count": 27,
   "metadata": {},
   "outputs": [],
   "source": [
    "# Setup inputoutput files and locations\n",
    "output = Path(\"resources/top_profitable_stock.csv\")\n",
    "\n",
    "# Determine top 10 profitable stocks\n",
    "top_profitable_stock_df = profitable_stock_df.sort_values(by = ['profit'], ascending=False).head(10)\n",
    "\n",
    "# Output top 10 to file\n",
    "top_profitable_stock_df.to_csv(output)"
   ]
  },
  {
   "cell_type": "markdown",
   "metadata": {},
   "source": [
    "### Capture closing prices for top 10 stocks from SP 500"
   ]
  },
  {
   "cell_type": "code",
   "execution_count": 29,
   "metadata": {
    "tags": []
   },
   "outputs": [
    {
     "name": "stdout",
     "output_type": "stream",
     "text": [
      "AMZN\n",
      "BIO\n",
      "NOW\n",
      "MSCI\n",
      "IPGP\n",
      "SPGI\n",
      "NFLX\n",
      "TDY\n",
      "PNC\n",
      "MKTX\n",
      "SPY\n"
     ]
    },
    {
     "data": {
      "text/html": [
       "<div>\n",
       "<style scoped>\n",
       "    .dataframe tbody tr th:only-of-type {\n",
       "        vertical-align: middle;\n",
       "    }\n",
       "\n",
       "    .dataframe tbody tr th {\n",
       "        vertical-align: top;\n",
       "    }\n",
       "\n",
       "    .dataframe thead th {\n",
       "        text-align: right;\n",
       "    }\n",
       "</style>\n",
       "<table border=\"1\" class=\"dataframe\">\n",
       "  <thead>\n",
       "    <tr style=\"text-align: right;\">\n",
       "      <th></th>\n",
       "      <th>SPY</th>\n",
       "      <th>MKTX</th>\n",
       "      <th>PNC</th>\n",
       "      <th>TDY</th>\n",
       "      <th>NFLX</th>\n",
       "      <th>SPGI</th>\n",
       "      <th>IPGP</th>\n",
       "      <th>MSCI</th>\n",
       "      <th>NOW</th>\n",
       "      <th>BIO</th>\n",
       "      <th>AMZN</th>\n",
       "    </tr>\n",
       "    <tr>\n",
       "      <th>date</th>\n",
       "      <th></th>\n",
       "      <th></th>\n",
       "      <th></th>\n",
       "      <th></th>\n",
       "      <th></th>\n",
       "      <th></th>\n",
       "      <th></th>\n",
       "      <th></th>\n",
       "      <th></th>\n",
       "      <th></th>\n",
       "      <th></th>\n",
       "    </tr>\n",
       "  </thead>\n",
       "  <tbody>\n",
       "    <tr>\n",
       "      <th>2015-07-27</th>\n",
       "      <td>206.79</td>\n",
       "      <td>97.95</td>\n",
       "      <td>97.51</td>\n",
       "      <td>102.67</td>\n",
       "      <td>106.43</td>\n",
       "      <td>99.59</td>\n",
       "      <td>79.86</td>\n",
       "      <td>65.73</td>\n",
       "      <td>76.34</td>\n",
       "      <td>146.45</td>\n",
       "      <td>531.41</td>\n",
       "    </tr>\n",
       "    <tr>\n",
       "      <th>2015-07-28</th>\n",
       "      <td>209.33</td>\n",
       "      <td>97.66</td>\n",
       "      <td>98.14</td>\n",
       "      <td>103.67</td>\n",
       "      <td>106.90</td>\n",
       "      <td>98.40</td>\n",
       "      <td>89.71</td>\n",
       "      <td>66.00</td>\n",
       "      <td>78.63</td>\n",
       "      <td>149.45</td>\n",
       "      <td>526.03</td>\n",
       "    </tr>\n",
       "    <tr>\n",
       "      <th>2015-07-29</th>\n",
       "      <td>210.77</td>\n",
       "      <td>98.16</td>\n",
       "      <td>98.55</td>\n",
       "      <td>104.99</td>\n",
       "      <td>107.08</td>\n",
       "      <td>101.48</td>\n",
       "      <td>93.30</td>\n",
       "      <td>66.91</td>\n",
       "      <td>77.98</td>\n",
       "      <td>150.46</td>\n",
       "      <td>529.00</td>\n",
       "    </tr>\n",
       "    <tr>\n",
       "      <th>2015-07-30</th>\n",
       "      <td>210.82</td>\n",
       "      <td>97.07</td>\n",
       "      <td>98.67</td>\n",
       "      <td>103.70</td>\n",
       "      <td>111.56</td>\n",
       "      <td>102.84</td>\n",
       "      <td>92.56</td>\n",
       "      <td>67.97</td>\n",
       "      <td>81.03</td>\n",
       "      <td>150.81</td>\n",
       "      <td>536.76</td>\n",
       "    </tr>\n",
       "    <tr>\n",
       "      <th>2015-07-31</th>\n",
       "      <td>210.50</td>\n",
       "      <td>97.80</td>\n",
       "      <td>98.18</td>\n",
       "      <td>103.67</td>\n",
       "      <td>114.31</td>\n",
       "      <td>101.75</td>\n",
       "      <td>92.22</td>\n",
       "      <td>68.16</td>\n",
       "      <td>80.50</td>\n",
       "      <td>150.74</td>\n",
       "      <td>536.15</td>\n",
       "    </tr>\n",
       "  </tbody>\n",
       "</table>\n",
       "</div>"
      ],
      "text/plain": [
       "               SPY   MKTX    PNC     TDY    NFLX    SPGI   IPGP   MSCI    NOW  \\\n",
       "date                                                                            \n",
       "2015-07-27  206.79  97.95  97.51  102.67  106.43   99.59  79.86  65.73  76.34   \n",
       "2015-07-28  209.33  97.66  98.14  103.67  106.90   98.40  89.71  66.00  78.63   \n",
       "2015-07-29  210.77  98.16  98.55  104.99  107.08  101.48  93.30  66.91  77.98   \n",
       "2015-07-30  210.82  97.07  98.67  103.70  111.56  102.84  92.56  67.97  81.03   \n",
       "2015-07-31  210.50  97.80  98.18  103.67  114.31  101.75  92.22  68.16  80.50   \n",
       "\n",
       "               BIO    AMZN  \n",
       "date                        \n",
       "2015-07-27  146.45  531.41  \n",
       "2015-07-28  149.45  526.03  \n",
       "2015-07-29  150.46  529.00  \n",
       "2015-07-30  150.81  536.76  \n",
       "2015-07-31  150.74  536.15  "
      ]
     },
     "execution_count": 29,
     "metadata": {},
     "output_type": "execute_result"
    }
   ],
   "source": [
    "# Setup inputoutput files and locations\n",
    "output = Path(\"resources/top_prof_stock_prices.csv\")\n",
    "\n",
    "# Setup prices dataframe\n",
    "top_stock_prices_df = pd.DataFrame()\n",
    "\n",
    "# Add S&P 500 index symbol to list for analysis\n",
    "top_prof_stock_df = top_profitable_stock_df.append({'symbol': 'SPY',\n",
    "                                                      'profit': 0.0,\n",
    "                                                      'sector': 'Index'},ignore_index=True)\n",
    "# Loop through top 10 stock symbols\n",
    "for key, value in top_prof_stock_df.iterrows():\n",
    "\n",
    "    print(value['symbol'])\n",
    "    \n",
    "    # Pull closing prices for each top 10 stock symbols\n",
    "    df = generate_stock_prices(value['symbol'])\n",
    "    \n",
    "    # Setup up dataframe with close price column, set date as index\n",
    "    df = df.rename(columns ={\"close\": value['symbol']})\n",
    "    df = df.set_index(df['date'])\n",
    "    df = df.drop(columns=['date'])\n",
    "    \n",
    "    # Check if the dataframe is empty and set up append\n",
    "    if top_stock_prices_df.shape[0] == True:\n",
    "        top_stock_prices_df = df\n",
    "    else:\n",
    "        # Append price dataframe to total dataframe\n",
    "        top_stock_prices_df = pd.concat([df,top_stock_prices_df],axis=\"columns\")\n",
    "\n",
    "# Output close prices to file\n",
    "top_stock_prices_df.to_csv(output)\n",
    "\n",
    "top_stock_prices_df.head()"
   ]
  },
  {
   "cell_type": "markdown",
   "metadata": {},
   "source": [
    "### Create 50 and 100 moving avg dataframe with close prices"
   ]
  },
  {
   "cell_type": "code",
   "execution_count": 33,
   "metadata": {},
   "outputs": [
    {
     "data": {
      "text/html": [
       "<div>\n",
       "<style scoped>\n",
       "    .dataframe tbody tr th:only-of-type {\n",
       "        vertical-align: middle;\n",
       "    }\n",
       "\n",
       "    .dataframe tbody tr th {\n",
       "        vertical-align: top;\n",
       "    }\n",
       "\n",
       "    .dataframe thead th {\n",
       "        text-align: right;\n",
       "    }\n",
       "</style>\n",
       "<table border=\"1\" class=\"dataframe\">\n",
       "  <thead>\n",
       "    <tr style=\"text-align: right;\">\n",
       "      <th></th>\n",
       "      <th>close</th>\n",
       "      <th>50ma</th>\n",
       "      <th>100ma</th>\n",
       "    </tr>\n",
       "    <tr>\n",
       "      <th>date</th>\n",
       "      <th></th>\n",
       "      <th></th>\n",
       "      <th></th>\n",
       "    </tr>\n",
       "  </thead>\n",
       "  <tbody>\n",
       "    <tr>\n",
       "      <th>2015-07-27</th>\n",
       "      <td>531.41</td>\n",
       "      <td>531.410000</td>\n",
       "      <td>531.410000</td>\n",
       "    </tr>\n",
       "    <tr>\n",
       "      <th>2015-07-28</th>\n",
       "      <td>526.03</td>\n",
       "      <td>528.720000</td>\n",
       "      <td>528.720000</td>\n",
       "    </tr>\n",
       "    <tr>\n",
       "      <th>2015-07-29</th>\n",
       "      <td>529.00</td>\n",
       "      <td>528.813333</td>\n",
       "      <td>528.813333</td>\n",
       "    </tr>\n",
       "    <tr>\n",
       "      <th>2015-07-30</th>\n",
       "      <td>536.76</td>\n",
       "      <td>530.800000</td>\n",
       "      <td>530.800000</td>\n",
       "    </tr>\n",
       "    <tr>\n",
       "      <th>2015-07-31</th>\n",
       "      <td>536.15</td>\n",
       "      <td>531.870000</td>\n",
       "      <td>531.870000</td>\n",
       "    </tr>\n",
       "  </tbody>\n",
       "</table>\n",
       "</div>"
      ],
      "text/plain": [
       "             close        50ma       100ma\n",
       "date                                      \n",
       "2015-07-27  531.41  531.410000  531.410000\n",
       "2015-07-28  526.03  528.720000  528.720000\n",
       "2015-07-29  529.00  528.813333  528.813333\n",
       "2015-07-30  536.76  530.800000  530.800000\n",
       "2015-07-31  536.15  531.870000  531.870000"
      ]
     },
     "execution_count": 33,
     "metadata": {},
     "output_type": "execute_result"
    }
   ],
   "source": [
    "# Create sample csv file with prices and moving average prices to generate sample graph\n",
    "\n",
    "# Setup inputoutput files and locations\n",
    "output = Path(\"resources/sample_moving_amzn.csv\")\n",
    "\n",
    "\n",
    "# Pull closing prices stock AMZN\n",
    "sample_moving_price = generate_stock_prices('AMZN')\n",
    "\n",
    "# Set date as index\n",
    "sample_moving_result = sample_moving_price.set_index(sample_moving_price['date'])  # drop = true\n",
    "sample_moving_result = sample_moving_result.drop(columns=['date'])\n",
    "\n",
    "# Append\n",
    "sample_moving_result['50ma'] = sample_moving_result['close'].rolling(window=50,min_periods=0).mean()\n",
    "sample_moving_result['100ma'] = sample_moving_result['close'].rolling(window=100,min_periods=0).mean()\n",
    "\n",
    "# Output close prices to file\n",
    "sample_moving_result.to_csv(output)\n",
    "\n",
    "sample_moving_result.head()"
   ]
  },
  {
   "cell_type": "markdown",
   "metadata": {},
   "source": [
    "## Data Clean and Analysis\n",
    "\n",
    "Prior to pulling data from yahoo, each stocks dataframe was checked for nulls and they were removed.  Although we are looking for the top profitable stock from the SP 500 following box plot shows the profit distribution of all 500 stocks."
   ]
  },
  {
   "cell_type": "code",
   "execution_count": 31,
   "metadata": {},
   "outputs": [
    {
     "data": {
      "application/vnd.plotly.v1+json": {
       "config": {
        "plotlyServerURL": "https://plot.ly"
       },
       "data": [
        {
         "alignmentgroup": "True",
         "boxpoints": "all",
         "hovertemplate": "Profit=%{x}<br>Stock=%{y}<extra></extra>",
         "legendgroup": "",
         "marker": {
          "color": "#636efa"
         },
         "name": "",
         "notched": false,
         "offsetgroup": "",
         "orientation": "h",
         "showlegend": false,
         "type": "box",
         "x": [
          -7670,
          6450,
          4630,
          59140,
          -306210,
          -6700,
          -45720,
          0,
          0,
          51230,
          5160,
          3890,
          -520,
          0,
          0,
          -65630,
          9190,
          -23330,
          -143970,
          24780,
          97470,
          -39290,
          -63870,
          21760,
          0,
          -34450,
          791870,
          400,
          -73510,
          -3500,
          42320,
          0,
          -13960,
          94870,
          0,
          -110360,
          -51370,
          -50780,
          -106400,
          -6930,
          -73310,
          0,
          -82650,
          -5960,
          -40060,
          -160220,
          64130,
          18460,
          0,
          -13480,
          171300,
          92210,
          -81760,
          6680,
          -23640,
          -13310,
          -50120,
          0,
          -187620,
          11800,
          -5410,
          14320,
          18880,
          14480,
          -25020,
          0,
          512990,
          -138190,
          -81540,
          -19760,
          0,
          -23920,
          -125940,
          -11700,
          -88090,
          96080,
          35110,
          -56280,
          -12630,
          22570,
          -54890,
          -78500,
          -28600,
          -67420,
          -24620,
          0,
          12720,
          30130,
          -8270,
          44760,
          -12310,
          90090,
          -4740,
          -6110,
          10300,
          3240,
          53500,
          0,
          -13680,
          38670,
          0,
          -200330,
          -112320,
          0,
          0,
          17380,
          -34340,
          -23940,
          -11430,
          -74460,
          10870,
          -9500,
          -57010,
          -214700,
          -17590,
          1010,
          -10160,
          -27540,
          -33740,
          -217380,
          0,
          83800,
          1500,
          -8790,
          -6640,
          -199510,
          -104560,
          24270,
          11830,
          -27120,
          0,
          -15000,
          3720,
          -4070,
          41300,
          0,
          -111820,
          -12940,
          -82400,
          -10680,
          20590,
          -57470,
          -9740,
          -25050,
          -25770,
          78990,
          -1690,
          7490,
          58660,
          -39210,
          -12040,
          14120,
          -11410,
          3220,
          -63890,
          -14430,
          -56940,
          4800,
          71290,
          -6110,
          50,
          -34450,
          9580,
          11230,
          -42220,
          99910,
          -39210,
          0,
          0,
          -86230,
          43830,
          15570,
          -29870,
          -42560,
          34420,
          0,
          -79280,
          -52710,
          0,
          -86070,
          56540,
          -33810,
          -1320,
          -9810,
          -114210,
          0,
          -8460,
          -21100,
          310,
          0,
          0,
          -5450,
          3210,
          4500,
          -7230,
          28780,
          13240,
          0,
          -12760,
          0,
          -45300,
          5790,
          -9420,
          -67060,
          -50890,
          -140690,
          0,
          -12570,
          -10430,
          -51360,
          -62150,
          0,
          0,
          -57740,
          -8620,
          -21190,
          -48840,
          -9450,
          -61370,
          -6510,
          -35860,
          0,
          -7360,
          -17450,
          -1820,
          21700,
          0,
          -31120,
          0,
          -800,
          0,
          -3270,
          0,
          2100,
          0,
          -14130,
          0,
          830,
          -555360,
          -39860,
          41380,
          42950,
          -23220,
          -4050,
          -44860,
          11820,
          -70230,
          -30940,
          -111930,
          -55040,
          59860,
          97050,
          10260,
          265020,
          -113260,
          -11160,
          0,
          0,
          0,
          0,
          11260,
          2140,
          23620,
          -21930,
          0,
          0,
          26940,
          0,
          109540,
          0,
          960,
          -7670,
          -4720,
          -36160,
          2100,
          -14930,
          25110,
          4990,
          -6670,
          0,
          -7260,
          -15640,
          34910,
          -6830,
          13330,
          -176740,
          -165780,
          -38310,
          -3350,
          0,
          -42430,
          -31350,
          -47740,
          -100960,
          -25530,
          2020,
          176950,
          -16340,
          -22930,
          0,
          -9590,
          60260,
          0,
          0,
          -45630,
          -26060,
          93390,
          -2530,
          -41920,
          154580,
          -55780,
          37760,
          40260,
          -3420,
          -84670,
          -14590,
          -37910,
          -36960,
          -8880,
          110540,
          -27770,
          -57280,
          309330,
          -14780,
          0,
          1520,
          -59270,
          242020,
          -9630,
          -27240,
          -72580,
          0,
          0,
          -22680,
          0,
          5700,
          -23620,
          7600,
          -1480,
          0,
          -4580,
          -28590,
          8200,
          2190,
          107600,
          0,
          -388180,
          -30690,
          38780,
          -41330,
          -25720,
          -37910,
          0,
          -56320,
          47740,
          -9690,
          -53320,
          0,
          42980,
          -6480,
          -4380,
          -48030,
          -9430,
          -8020,
          -91500,
          -34310,
          0,
          -56050,
          0,
          181710,
          -35550,
          -33090,
          -59980,
          32640,
          14170,
          -59840,
          -40930,
          -5860,
          -3160,
          -2970,
          0,
          -33430,
          -29770,
          -26210,
          8060,
          -35030,
          -5410,
          -21100,
          13100,
          -16020,
          -234660,
          24800,
          15600,
          122170,
          2630,
          15180,
          -11120,
          59620,
          13000,
          0,
          247000,
          3970,
          99850,
          -32440,
          0,
          -6110,
          68880,
          315080,
          174900,
          -35120,
          -4060,
          -86050,
          0,
          -4850,
          -50020,
          -62850,
          -9610,
          95630,
          61920,
          -190,
          -90990,
          -1040,
          -117320,
          -69680,
          20130,
          -38970,
          50850,
          -17050,
          7000,
          7460,
          30910,
          182080,
          22680,
          5150,
          -1340,
          -48930,
          -4970,
          28740,
          -660240,
          -30290,
          -1330,
          -31600,
          81960,
          9030,
          -116730,
          -1230,
          0,
          0,
          0,
          7340,
          0,
          0,
          40,
          -48390,
          -183580,
          -28070,
          -28060,
          25580,
          -67110,
          -127150,
          -80040,
          0,
          -54140,
          -7610,
          9530,
          35180,
          129550,
          830,
          0,
          16170,
          1460,
          -99300,
          0,
          85490,
          -36570,
          0,
          -62430,
          -14920,
          24640,
          36790,
          740,
          17520,
          40090,
          -58510,
          5330,
          -29020,
          -72510,
          -78590,
          18550,
          -31570,
          -102220,
          -1070,
          22630,
          23150,
          76230,
          7640,
          -81160,
          9810,
          15430,
          80140,
          -151560,
          9560,
          -14590
         ],
         "x0": " ",
         "xaxis": "x",
         "y": [
          "profit",
          "profit",
          "profit",
          "profit",
          "profit",
          "profit",
          "profit",
          "profit",
          "profit",
          "profit",
          "profit",
          "profit",
          "profit",
          "profit",
          "profit",
          "profit",
          "profit",
          "profit",
          "profit",
          "profit",
          "profit",
          "profit",
          "profit",
          "profit",
          "profit",
          "profit",
          "profit",
          "profit",
          "profit",
          "profit",
          "profit",
          "profit",
          "profit",
          "profit",
          "profit",
          "profit",
          "profit",
          "profit",
          "profit",
          "profit",
          "profit",
          "profit",
          "profit",
          "profit",
          "profit",
          "profit",
          "profit",
          "profit",
          "profit",
          "profit",
          "profit",
          "profit",
          "profit",
          "profit",
          "profit",
          "profit",
          "profit",
          "profit",
          "profit",
          "profit",
          "profit",
          "profit",
          "profit",
          "profit",
          "profit",
          "profit",
          "profit",
          "profit",
          "profit",
          "profit",
          "profit",
          "profit",
          "profit",
          "profit",
          "profit",
          "profit",
          "profit",
          "profit",
          "profit",
          "profit",
          "profit",
          "profit",
          "profit",
          "profit",
          "profit",
          "profit",
          "profit",
          "profit",
          "profit",
          "profit",
          "profit",
          "profit",
          "profit",
          "profit",
          "profit",
          "profit",
          "profit",
          "profit",
          "profit",
          "profit",
          "profit",
          "profit",
          "profit",
          "profit",
          "profit",
          "profit",
          "profit",
          "profit",
          "profit",
          "profit",
          "profit",
          "profit",
          "profit",
          "profit",
          "profit",
          "profit",
          "profit",
          "profit",
          "profit",
          "profit",
          "profit",
          "profit",
          "profit",
          "profit",
          "profit",
          "profit",
          "profit",
          "profit",
          "profit",
          "profit",
          "profit",
          "profit",
          "profit",
          "profit",
          "profit",
          "profit",
          "profit",
          "profit",
          "profit",
          "profit",
          "profit",
          "profit",
          "profit",
          "profit",
          "profit",
          "profit",
          "profit",
          "profit",
          "profit",
          "profit",
          "profit",
          "profit",
          "profit",
          "profit",
          "profit",
          "profit",
          "profit",
          "profit",
          "profit",
          "profit",
          "profit",
          "profit",
          "profit",
          "profit",
          "profit",
          "profit",
          "profit",
          "profit",
          "profit",
          "profit",
          "profit",
          "profit",
          "profit",
          "profit",
          "profit",
          "profit",
          "profit",
          "profit",
          "profit",
          "profit",
          "profit",
          "profit",
          "profit",
          "profit",
          "profit",
          "profit",
          "profit",
          "profit",
          "profit",
          "profit",
          "profit",
          "profit",
          "profit",
          "profit",
          "profit",
          "profit",
          "profit",
          "profit",
          "profit",
          "profit",
          "profit",
          "profit",
          "profit",
          "profit",
          "profit",
          "profit",
          "profit",
          "profit",
          "profit",
          "profit",
          "profit",
          "profit",
          "profit",
          "profit",
          "profit",
          "profit",
          "profit",
          "profit",
          "profit",
          "profit",
          "profit",
          "profit",
          "profit",
          "profit",
          "profit",
          "profit",
          "profit",
          "profit",
          "profit",
          "profit",
          "profit",
          "profit",
          "profit",
          "profit",
          "profit",
          "profit",
          "profit",
          "profit",
          "profit",
          "profit",
          "profit",
          "profit",
          "profit",
          "profit",
          "profit",
          "profit",
          "profit",
          "profit",
          "profit",
          "profit",
          "profit",
          "profit",
          "profit",
          "profit",
          "profit",
          "profit",
          "profit",
          "profit",
          "profit",
          "profit",
          "profit",
          "profit",
          "profit",
          "profit",
          "profit",
          "profit",
          "profit",
          "profit",
          "profit",
          "profit",
          "profit",
          "profit",
          "profit",
          "profit",
          "profit",
          "profit",
          "profit",
          "profit",
          "profit",
          "profit",
          "profit",
          "profit",
          "profit",
          "profit",
          "profit",
          "profit",
          "profit",
          "profit",
          "profit",
          "profit",
          "profit",
          "profit",
          "profit",
          "profit",
          "profit",
          "profit",
          "profit",
          "profit",
          "profit",
          "profit",
          "profit",
          "profit",
          "profit",
          "profit",
          "profit",
          "profit",
          "profit",
          "profit",
          "profit",
          "profit",
          "profit",
          "profit",
          "profit",
          "profit",
          "profit",
          "profit",
          "profit",
          "profit",
          "profit",
          "profit",
          "profit",
          "profit",
          "profit",
          "profit",
          "profit",
          "profit",
          "profit",
          "profit",
          "profit",
          "profit",
          "profit",
          "profit",
          "profit",
          "profit",
          "profit",
          "profit",
          "profit",
          "profit",
          "profit",
          "profit",
          "profit",
          "profit",
          "profit",
          "profit",
          "profit",
          "profit",
          "profit",
          "profit",
          "profit",
          "profit",
          "profit",
          "profit",
          "profit",
          "profit",
          "profit",
          "profit",
          "profit",
          "profit",
          "profit",
          "profit",
          "profit",
          "profit",
          "profit",
          "profit",
          "profit",
          "profit",
          "profit",
          "profit",
          "profit",
          "profit",
          "profit",
          "profit",
          "profit",
          "profit",
          "profit",
          "profit",
          "profit",
          "profit",
          "profit",
          "profit",
          "profit",
          "profit",
          "profit",
          "profit",
          "profit",
          "profit",
          "profit",
          "profit",
          "profit",
          "profit",
          "profit",
          "profit",
          "profit",
          "profit",
          "profit",
          "profit",
          "profit",
          "profit",
          "profit",
          "profit",
          "profit",
          "profit",
          "profit",
          "profit",
          "profit",
          "profit",
          "profit",
          "profit",
          "profit",
          "profit",
          "profit",
          "profit",
          "profit",
          "profit",
          "profit",
          "profit",
          "profit",
          "profit",
          "profit",
          "profit",
          "profit",
          "profit",
          "profit",
          "profit",
          "profit",
          "profit",
          "profit",
          "profit",
          "profit",
          "profit",
          "profit",
          "profit",
          "profit",
          "profit",
          "profit",
          "profit",
          "profit",
          "profit",
          "profit",
          "profit",
          "profit",
          "profit",
          "profit",
          "profit",
          "profit",
          "profit",
          "profit",
          "profit",
          "profit",
          "profit",
          "profit",
          "profit",
          "profit",
          "profit",
          "profit",
          "profit",
          "profit",
          "profit",
          "profit",
          "profit",
          "profit",
          "profit",
          "profit",
          "profit",
          "profit",
          "profit",
          "profit",
          "profit",
          "profit",
          "profit",
          "profit",
          "profit",
          "profit",
          "profit",
          "profit",
          "profit",
          "profit",
          "profit",
          "profit",
          "profit",
          "profit",
          "profit",
          "profit",
          "profit",
          "profit",
          "profit",
          "profit",
          "profit",
          "profit",
          "profit",
          "profit",
          "profit",
          "profit",
          "profit",
          "profit",
          "profit",
          "profit",
          "profit",
          "profit",
          "profit",
          "profit",
          "profit",
          "profit"
         ],
         "y0": " ",
         "yaxis": "y"
        }
       ],
       "layout": {
        "boxmode": "group",
        "legend": {
         "tracegroupgap": 0
        },
        "template": {
         "data": {
          "bar": [
           {
            "error_x": {
             "color": "#2a3f5f"
            },
            "error_y": {
             "color": "#2a3f5f"
            },
            "marker": {
             "line": {
              "color": "#E5ECF6",
              "width": 0.5
             }
            },
            "type": "bar"
           }
          ],
          "barpolar": [
           {
            "marker": {
             "line": {
              "color": "#E5ECF6",
              "width": 0.5
             }
            },
            "type": "barpolar"
           }
          ],
          "carpet": [
           {
            "aaxis": {
             "endlinecolor": "#2a3f5f",
             "gridcolor": "white",
             "linecolor": "white",
             "minorgridcolor": "white",
             "startlinecolor": "#2a3f5f"
            },
            "baxis": {
             "endlinecolor": "#2a3f5f",
             "gridcolor": "white",
             "linecolor": "white",
             "minorgridcolor": "white",
             "startlinecolor": "#2a3f5f"
            },
            "type": "carpet"
           }
          ],
          "choropleth": [
           {
            "colorbar": {
             "outlinewidth": 0,
             "ticks": ""
            },
            "type": "choropleth"
           }
          ],
          "contour": [
           {
            "colorbar": {
             "outlinewidth": 0,
             "ticks": ""
            },
            "colorscale": [
             [
              0,
              "#0d0887"
             ],
             [
              0.1111111111111111,
              "#46039f"
             ],
             [
              0.2222222222222222,
              "#7201a8"
             ],
             [
              0.3333333333333333,
              "#9c179e"
             ],
             [
              0.4444444444444444,
              "#bd3786"
             ],
             [
              0.5555555555555556,
              "#d8576b"
             ],
             [
              0.6666666666666666,
              "#ed7953"
             ],
             [
              0.7777777777777778,
              "#fb9f3a"
             ],
             [
              0.8888888888888888,
              "#fdca26"
             ],
             [
              1,
              "#f0f921"
             ]
            ],
            "type": "contour"
           }
          ],
          "contourcarpet": [
           {
            "colorbar": {
             "outlinewidth": 0,
             "ticks": ""
            },
            "type": "contourcarpet"
           }
          ],
          "heatmap": [
           {
            "colorbar": {
             "outlinewidth": 0,
             "ticks": ""
            },
            "colorscale": [
             [
              0,
              "#0d0887"
             ],
             [
              0.1111111111111111,
              "#46039f"
             ],
             [
              0.2222222222222222,
              "#7201a8"
             ],
             [
              0.3333333333333333,
              "#9c179e"
             ],
             [
              0.4444444444444444,
              "#bd3786"
             ],
             [
              0.5555555555555556,
              "#d8576b"
             ],
             [
              0.6666666666666666,
              "#ed7953"
             ],
             [
              0.7777777777777778,
              "#fb9f3a"
             ],
             [
              0.8888888888888888,
              "#fdca26"
             ],
             [
              1,
              "#f0f921"
             ]
            ],
            "type": "heatmap"
           }
          ],
          "heatmapgl": [
           {
            "colorbar": {
             "outlinewidth": 0,
             "ticks": ""
            },
            "colorscale": [
             [
              0,
              "#0d0887"
             ],
             [
              0.1111111111111111,
              "#46039f"
             ],
             [
              0.2222222222222222,
              "#7201a8"
             ],
             [
              0.3333333333333333,
              "#9c179e"
             ],
             [
              0.4444444444444444,
              "#bd3786"
             ],
             [
              0.5555555555555556,
              "#d8576b"
             ],
             [
              0.6666666666666666,
              "#ed7953"
             ],
             [
              0.7777777777777778,
              "#fb9f3a"
             ],
             [
              0.8888888888888888,
              "#fdca26"
             ],
             [
              1,
              "#f0f921"
             ]
            ],
            "type": "heatmapgl"
           }
          ],
          "histogram": [
           {
            "marker": {
             "colorbar": {
              "outlinewidth": 0,
              "ticks": ""
             }
            },
            "type": "histogram"
           }
          ],
          "histogram2d": [
           {
            "colorbar": {
             "outlinewidth": 0,
             "ticks": ""
            },
            "colorscale": [
             [
              0,
              "#0d0887"
             ],
             [
              0.1111111111111111,
              "#46039f"
             ],
             [
              0.2222222222222222,
              "#7201a8"
             ],
             [
              0.3333333333333333,
              "#9c179e"
             ],
             [
              0.4444444444444444,
              "#bd3786"
             ],
             [
              0.5555555555555556,
              "#d8576b"
             ],
             [
              0.6666666666666666,
              "#ed7953"
             ],
             [
              0.7777777777777778,
              "#fb9f3a"
             ],
             [
              0.8888888888888888,
              "#fdca26"
             ],
             [
              1,
              "#f0f921"
             ]
            ],
            "type": "histogram2d"
           }
          ],
          "histogram2dcontour": [
           {
            "colorbar": {
             "outlinewidth": 0,
             "ticks": ""
            },
            "colorscale": [
             [
              0,
              "#0d0887"
             ],
             [
              0.1111111111111111,
              "#46039f"
             ],
             [
              0.2222222222222222,
              "#7201a8"
             ],
             [
              0.3333333333333333,
              "#9c179e"
             ],
             [
              0.4444444444444444,
              "#bd3786"
             ],
             [
              0.5555555555555556,
              "#d8576b"
             ],
             [
              0.6666666666666666,
              "#ed7953"
             ],
             [
              0.7777777777777778,
              "#fb9f3a"
             ],
             [
              0.8888888888888888,
              "#fdca26"
             ],
             [
              1,
              "#f0f921"
             ]
            ],
            "type": "histogram2dcontour"
           }
          ],
          "mesh3d": [
           {
            "colorbar": {
             "outlinewidth": 0,
             "ticks": ""
            },
            "type": "mesh3d"
           }
          ],
          "parcoords": [
           {
            "line": {
             "colorbar": {
              "outlinewidth": 0,
              "ticks": ""
             }
            },
            "type": "parcoords"
           }
          ],
          "pie": [
           {
            "automargin": true,
            "type": "pie"
           }
          ],
          "scatter": [
           {
            "marker": {
             "colorbar": {
              "outlinewidth": 0,
              "ticks": ""
             }
            },
            "type": "scatter"
           }
          ],
          "scatter3d": [
           {
            "line": {
             "colorbar": {
              "outlinewidth": 0,
              "ticks": ""
             }
            },
            "marker": {
             "colorbar": {
              "outlinewidth": 0,
              "ticks": ""
             }
            },
            "type": "scatter3d"
           }
          ],
          "scattercarpet": [
           {
            "marker": {
             "colorbar": {
              "outlinewidth": 0,
              "ticks": ""
             }
            },
            "type": "scattercarpet"
           }
          ],
          "scattergeo": [
           {
            "marker": {
             "colorbar": {
              "outlinewidth": 0,
              "ticks": ""
             }
            },
            "type": "scattergeo"
           }
          ],
          "scattergl": [
           {
            "marker": {
             "colorbar": {
              "outlinewidth": 0,
              "ticks": ""
             }
            },
            "type": "scattergl"
           }
          ],
          "scattermapbox": [
           {
            "marker": {
             "colorbar": {
              "outlinewidth": 0,
              "ticks": ""
             }
            },
            "type": "scattermapbox"
           }
          ],
          "scatterpolar": [
           {
            "marker": {
             "colorbar": {
              "outlinewidth": 0,
              "ticks": ""
             }
            },
            "type": "scatterpolar"
           }
          ],
          "scatterpolargl": [
           {
            "marker": {
             "colorbar": {
              "outlinewidth": 0,
              "ticks": ""
             }
            },
            "type": "scatterpolargl"
           }
          ],
          "scatterternary": [
           {
            "marker": {
             "colorbar": {
              "outlinewidth": 0,
              "ticks": ""
             }
            },
            "type": "scatterternary"
           }
          ],
          "surface": [
           {
            "colorbar": {
             "outlinewidth": 0,
             "ticks": ""
            },
            "colorscale": [
             [
              0,
              "#0d0887"
             ],
             [
              0.1111111111111111,
              "#46039f"
             ],
             [
              0.2222222222222222,
              "#7201a8"
             ],
             [
              0.3333333333333333,
              "#9c179e"
             ],
             [
              0.4444444444444444,
              "#bd3786"
             ],
             [
              0.5555555555555556,
              "#d8576b"
             ],
             [
              0.6666666666666666,
              "#ed7953"
             ],
             [
              0.7777777777777778,
              "#fb9f3a"
             ],
             [
              0.8888888888888888,
              "#fdca26"
             ],
             [
              1,
              "#f0f921"
             ]
            ],
            "type": "surface"
           }
          ],
          "table": [
           {
            "cells": {
             "fill": {
              "color": "#EBF0F8"
             },
             "line": {
              "color": "white"
             }
            },
            "header": {
             "fill": {
              "color": "#C8D4E3"
             },
             "line": {
              "color": "white"
             }
            },
            "type": "table"
           }
          ]
         },
         "layout": {
          "annotationdefaults": {
           "arrowcolor": "#2a3f5f",
           "arrowhead": 0,
           "arrowwidth": 1
          },
          "coloraxis": {
           "colorbar": {
            "outlinewidth": 0,
            "ticks": ""
           }
          },
          "colorscale": {
           "diverging": [
            [
             0,
             "#8e0152"
            ],
            [
             0.1,
             "#c51b7d"
            ],
            [
             0.2,
             "#de77ae"
            ],
            [
             0.3,
             "#f1b6da"
            ],
            [
             0.4,
             "#fde0ef"
            ],
            [
             0.5,
             "#f7f7f7"
            ],
            [
             0.6,
             "#e6f5d0"
            ],
            [
             0.7,
             "#b8e186"
            ],
            [
             0.8,
             "#7fbc41"
            ],
            [
             0.9,
             "#4d9221"
            ],
            [
             1,
             "#276419"
            ]
           ],
           "sequential": [
            [
             0,
             "#0d0887"
            ],
            [
             0.1111111111111111,
             "#46039f"
            ],
            [
             0.2222222222222222,
             "#7201a8"
            ],
            [
             0.3333333333333333,
             "#9c179e"
            ],
            [
             0.4444444444444444,
             "#bd3786"
            ],
            [
             0.5555555555555556,
             "#d8576b"
            ],
            [
             0.6666666666666666,
             "#ed7953"
            ],
            [
             0.7777777777777778,
             "#fb9f3a"
            ],
            [
             0.8888888888888888,
             "#fdca26"
            ],
            [
             1,
             "#f0f921"
            ]
           ],
           "sequentialminus": [
            [
             0,
             "#0d0887"
            ],
            [
             0.1111111111111111,
             "#46039f"
            ],
            [
             0.2222222222222222,
             "#7201a8"
            ],
            [
             0.3333333333333333,
             "#9c179e"
            ],
            [
             0.4444444444444444,
             "#bd3786"
            ],
            [
             0.5555555555555556,
             "#d8576b"
            ],
            [
             0.6666666666666666,
             "#ed7953"
            ],
            [
             0.7777777777777778,
             "#fb9f3a"
            ],
            [
             0.8888888888888888,
             "#fdca26"
            ],
            [
             1,
             "#f0f921"
            ]
           ]
          },
          "colorway": [
           "#636efa",
           "#EF553B",
           "#00cc96",
           "#ab63fa",
           "#FFA15A",
           "#19d3f3",
           "#FF6692",
           "#B6E880",
           "#FF97FF",
           "#FECB52"
          ],
          "font": {
           "color": "#2a3f5f"
          },
          "geo": {
           "bgcolor": "white",
           "lakecolor": "white",
           "landcolor": "#E5ECF6",
           "showlakes": true,
           "showland": true,
           "subunitcolor": "white"
          },
          "hoverlabel": {
           "align": "left"
          },
          "hovermode": "closest",
          "mapbox": {
           "style": "light"
          },
          "paper_bgcolor": "white",
          "plot_bgcolor": "#E5ECF6",
          "polar": {
           "angularaxis": {
            "gridcolor": "white",
            "linecolor": "white",
            "ticks": ""
           },
           "bgcolor": "#E5ECF6",
           "radialaxis": {
            "gridcolor": "white",
            "linecolor": "white",
            "ticks": ""
           }
          },
          "scene": {
           "xaxis": {
            "backgroundcolor": "#E5ECF6",
            "gridcolor": "white",
            "gridwidth": 2,
            "linecolor": "white",
            "showbackground": true,
            "ticks": "",
            "zerolinecolor": "white"
           },
           "yaxis": {
            "backgroundcolor": "#E5ECF6",
            "gridcolor": "white",
            "gridwidth": 2,
            "linecolor": "white",
            "showbackground": true,
            "ticks": "",
            "zerolinecolor": "white"
           },
           "zaxis": {
            "backgroundcolor": "#E5ECF6",
            "gridcolor": "white",
            "gridwidth": 2,
            "linecolor": "white",
            "showbackground": true,
            "ticks": "",
            "zerolinecolor": "white"
           }
          },
          "shapedefaults": {
           "line": {
            "color": "#2a3f5f"
           }
          },
          "ternary": {
           "aaxis": {
            "gridcolor": "white",
            "linecolor": "white",
            "ticks": ""
           },
           "baxis": {
            "gridcolor": "white",
            "linecolor": "white",
            "ticks": ""
           },
           "bgcolor": "#E5ECF6",
           "caxis": {
            "gridcolor": "white",
            "linecolor": "white",
            "ticks": ""
           }
          },
          "title": {
           "x": 0.05
          },
          "xaxis": {
           "automargin": true,
           "gridcolor": "white",
           "linecolor": "white",
           "ticks": "",
           "title": {
            "standoff": 15
           },
           "zerolinecolor": "white",
           "zerolinewidth": 2
          },
          "yaxis": {
           "automargin": true,
           "gridcolor": "white",
           "linecolor": "white",
           "ticks": "",
           "title": {
            "standoff": 15
           },
           "zerolinecolor": "white",
           "zerolinewidth": 2
          }
         }
        },
        "title": {
         "text": "Distribution of SP 500 Stock Profit"
        },
        "xaxis": {
         "anchor": "y",
         "domain": [
          0,
          1
         ],
         "title": {
          "text": "Profit"
         }
        },
        "yaxis": {
         "anchor": "x",
         "domain": [
          0,
          1
         ],
         "title": {
          "text": "Stock"
         }
        }
       }
      }
     },
     "metadata": {},
     "output_type": "display_data"
    },
    {
     "data": {
      "application/vnd.plotly.v1+json": {
       "config": {
        "plotlyServerURL": "https://plot.ly"
       },
       "data": [
        {
         "alignmentgroup": "True",
         "boxpoints": "all",
         "hovertemplate": "color=Loss<br>Profit=%{x}<br>Stock=%{y}<extra></extra>",
         "legendgroup": "Loss",
         "marker": {
          "color": "red"
         },
         "name": "Loss",
         "notched": false,
         "offsetgroup": "Loss",
         "orientation": "h",
         "showlegend": true,
         "type": "box",
         "x": [
          -7670,
          -306210,
          -6700,
          -45720,
          0,
          0,
          -520,
          0,
          0,
          -65630,
          -23330,
          -143970,
          -39290,
          -63870,
          0,
          -34450,
          -73510,
          -3500,
          0,
          -13960,
          0,
          -110360,
          -51370,
          -50780,
          -106400,
          -6930,
          -73310,
          0,
          -82650,
          -5960,
          -40060,
          -160220,
          0,
          -13480,
          -81760,
          -23640,
          -13310,
          -50120,
          0,
          -187620,
          -5410,
          -25020,
          0,
          -138190,
          -81540,
          -19760,
          0,
          -23920,
          -125940,
          -11700,
          -88090,
          -56280,
          -12630,
          -54890,
          -78500,
          -28600,
          -67420,
          -24620,
          0,
          -8270,
          -12310,
          -4740,
          -6110,
          0,
          -13680,
          0,
          -200330,
          -112320,
          0,
          0,
          -34340,
          -23940,
          -11430,
          -74460,
          -9500,
          -57010,
          -214700,
          -17590,
          -10160,
          -27540,
          -33740,
          -217380,
          0,
          -8790,
          -6640,
          -199510,
          -104560,
          -27120,
          0,
          -15000,
          -4070,
          0,
          -111820,
          -12940,
          -82400,
          -10680,
          -57470,
          -9740,
          -25050,
          -25770,
          -1690,
          -39210,
          -12040,
          -11410,
          -63890,
          -14430,
          -56940,
          -6110,
          -34450,
          -42220,
          -39210,
          0,
          0,
          -86230,
          -29870,
          -42560,
          0,
          -79280,
          -52710,
          0,
          -86070,
          -33810,
          -1320,
          -9810,
          -114210,
          0,
          -8460,
          -21100,
          0,
          0,
          -5450,
          -7230,
          0,
          -12760,
          0,
          -45300,
          -9420,
          -67060,
          -50890,
          -140690,
          0,
          -12570,
          -10430,
          -51360,
          -62150,
          0,
          0,
          -57740,
          -8620,
          -21190,
          -48840,
          -9450,
          -61370,
          -6510,
          -35860,
          0,
          -7360,
          -17450,
          -1820,
          0,
          -31120,
          0,
          -800,
          0,
          -3270,
          0,
          0,
          -14130,
          0,
          -555360,
          -39860,
          -23220,
          -4050,
          -44860,
          -70230,
          -30940,
          -111930,
          -55040,
          -113260,
          -11160,
          0,
          0,
          0,
          0,
          -21930,
          0,
          0,
          0,
          0,
          -7670,
          -4720,
          -36160,
          -14930,
          -6670,
          0,
          -7260,
          -15640,
          -6830,
          -176740,
          -165780,
          -38310,
          -3350,
          0,
          -42430,
          -31350,
          -47740,
          -100960,
          -25530,
          -16340,
          -22930,
          0,
          -9590,
          0,
          0,
          -45630,
          -26060,
          -2530,
          -41920,
          -55780,
          -3420,
          -84670,
          -14590,
          -37910,
          -36960,
          -8880,
          -27770,
          -57280,
          -14780,
          0,
          -59270,
          -9630,
          -27240,
          -72580,
          0,
          0,
          -22680,
          0,
          -23620,
          -1480,
          0,
          -4580,
          -28590,
          0,
          -388180,
          -30690,
          -41330,
          -25720,
          -37910,
          0,
          -56320,
          -9690,
          -53320,
          0,
          -6480,
          -4380,
          -48030,
          -9430,
          -8020,
          -91500,
          -34310,
          0,
          -56050,
          0,
          -35550,
          -33090,
          -59980,
          -59840,
          -40930,
          -5860,
          -3160,
          -2970,
          0,
          -33430,
          -29770,
          -26210,
          -35030,
          -5410,
          -21100,
          -16020,
          -234660,
          -11120,
          0,
          -32440,
          0,
          -6110,
          -35120,
          -4060,
          -86050,
          0,
          -4850,
          -50020,
          -62850,
          -9610,
          -190,
          -90990,
          -1040,
          -117320,
          -69680,
          -38970,
          -17050,
          -1340,
          -48930,
          -4970,
          -660240,
          -30290,
          -1330,
          -31600,
          -116730,
          -1230,
          0,
          0,
          0,
          0,
          0,
          -48390,
          -183580,
          -28070,
          -28060,
          -67110,
          -127150,
          -80040,
          0,
          -54140,
          -7610,
          0,
          -99300,
          0,
          -36570,
          0,
          -62430,
          -14920,
          -58510,
          -29020,
          -72510,
          -78590,
          -31570,
          -102220,
          -1070,
          -81160,
          -151560,
          -14590
         ],
         "x0": " ",
         "xaxis": "x",
         "y": [
          "profit",
          "profit",
          "profit",
          "profit",
          "profit",
          "profit",
          "profit",
          "profit",
          "profit",
          "profit",
          "profit",
          "profit",
          "profit",
          "profit",
          "profit",
          "profit",
          "profit",
          "profit",
          "profit",
          "profit",
          "profit",
          "profit",
          "profit",
          "profit",
          "profit",
          "profit",
          "profit",
          "profit",
          "profit",
          "profit",
          "profit",
          "profit",
          "profit",
          "profit",
          "profit",
          "profit",
          "profit",
          "profit",
          "profit",
          "profit",
          "profit",
          "profit",
          "profit",
          "profit",
          "profit",
          "profit",
          "profit",
          "profit",
          "profit",
          "profit",
          "profit",
          "profit",
          "profit",
          "profit",
          "profit",
          "profit",
          "profit",
          "profit",
          "profit",
          "profit",
          "profit",
          "profit",
          "profit",
          "profit",
          "profit",
          "profit",
          "profit",
          "profit",
          "profit",
          "profit",
          "profit",
          "profit",
          "profit",
          "profit",
          "profit",
          "profit",
          "profit",
          "profit",
          "profit",
          "profit",
          "profit",
          "profit",
          "profit",
          "profit",
          "profit",
          "profit",
          "profit",
          "profit",
          "profit",
          "profit",
          "profit",
          "profit",
          "profit",
          "profit",
          "profit",
          "profit",
          "profit",
          "profit",
          "profit",
          "profit",
          "profit",
          "profit",
          "profit",
          "profit",
          "profit",
          "profit",
          "profit",
          "profit",
          "profit",
          "profit",
          "profit",
          "profit",
          "profit",
          "profit",
          "profit",
          "profit",
          "profit",
          "profit",
          "profit",
          "profit",
          "profit",
          "profit",
          "profit",
          "profit",
          "profit",
          "profit",
          "profit",
          "profit",
          "profit",
          "profit",
          "profit",
          "profit",
          "profit",
          "profit",
          "profit",
          "profit",
          "profit",
          "profit",
          "profit",
          "profit",
          "profit",
          "profit",
          "profit",
          "profit",
          "profit",
          "profit",
          "profit",
          "profit",
          "profit",
          "profit",
          "profit",
          "profit",
          "profit",
          "profit",
          "profit",
          "profit",
          "profit",
          "profit",
          "profit",
          "profit",
          "profit",
          "profit",
          "profit",
          "profit",
          "profit",
          "profit",
          "profit",
          "profit",
          "profit",
          "profit",
          "profit",
          "profit",
          "profit",
          "profit",
          "profit",
          "profit",
          "profit",
          "profit",
          "profit",
          "profit",
          "profit",
          "profit",
          "profit",
          "profit",
          "profit",
          "profit",
          "profit",
          "profit",
          "profit",
          "profit",
          "profit",
          "profit",
          "profit",
          "profit",
          "profit",
          "profit",
          "profit",
          "profit",
          "profit",
          "profit",
          "profit",
          "profit",
          "profit",
          "profit",
          "profit",
          "profit",
          "profit",
          "profit",
          "profit",
          "profit",
          "profit",
          "profit",
          "profit",
          "profit",
          "profit",
          "profit",
          "profit",
          "profit",
          "profit",
          "profit",
          "profit",
          "profit",
          "profit",
          "profit",
          "profit",
          "profit",
          "profit",
          "profit",
          "profit",
          "profit",
          "profit",
          "profit",
          "profit",
          "profit",
          "profit",
          "profit",
          "profit",
          "profit",
          "profit",
          "profit",
          "profit",
          "profit",
          "profit",
          "profit",
          "profit",
          "profit",
          "profit",
          "profit",
          "profit",
          "profit",
          "profit",
          "profit",
          "profit",
          "profit",
          "profit",
          "profit",
          "profit",
          "profit",
          "profit",
          "profit",
          "profit",
          "profit",
          "profit",
          "profit",
          "profit",
          "profit",
          "profit",
          "profit",
          "profit",
          "profit",
          "profit",
          "profit",
          "profit",
          "profit",
          "profit",
          "profit",
          "profit",
          "profit",
          "profit",
          "profit",
          "profit",
          "profit",
          "profit",
          "profit",
          "profit",
          "profit",
          "profit",
          "profit",
          "profit",
          "profit",
          "profit",
          "profit",
          "profit",
          "profit",
          "profit",
          "profit",
          "profit",
          "profit",
          "profit",
          "profit",
          "profit",
          "profit",
          "profit",
          "profit",
          "profit",
          "profit",
          "profit",
          "profit",
          "profit",
          "profit",
          "profit",
          "profit",
          "profit",
          "profit",
          "profit",
          "profit",
          "profit",
          "profit",
          "profit",
          "profit",
          "profit",
          "profit",
          "profit",
          "profit",
          "profit",
          "profit",
          "profit",
          "profit",
          "profit",
          "profit",
          "profit",
          "profit",
          "profit",
          "profit",
          "profit",
          "profit",
          "profit",
          "profit",
          "profit",
          "profit",
          "profit"
         ],
         "y0": " ",
         "yaxis": "y"
        },
        {
         "alignmentgroup": "True",
         "boxpoints": "all",
         "hovertemplate": "color=Gain<br>Profit=%{x}<br>Stock=%{y}<extra></extra>",
         "legendgroup": "Gain",
         "marker": {
          "color": "green"
         },
         "name": "Gain",
         "notched": false,
         "offsetgroup": "Gain",
         "orientation": "h",
         "showlegend": true,
         "type": "box",
         "x": [
          6450,
          4630,
          59140,
          51230,
          5160,
          3890,
          9190,
          24780,
          97470,
          21760,
          791870,
          400,
          42320,
          94870,
          64130,
          18460,
          171300,
          92210,
          6680,
          11800,
          14320,
          18880,
          14480,
          512990,
          96080,
          35110,
          22570,
          12720,
          30130,
          44760,
          90090,
          10300,
          3240,
          53500,
          38670,
          17380,
          10870,
          1010,
          83800,
          1500,
          24270,
          11830,
          3720,
          41300,
          20590,
          78990,
          7490,
          58660,
          14120,
          3220,
          4800,
          71290,
          50,
          9580,
          11230,
          99910,
          43830,
          15570,
          34420,
          56540,
          310,
          3210,
          4500,
          28780,
          13240,
          5790,
          21700,
          2100,
          830,
          41380,
          42950,
          11820,
          59860,
          97050,
          10260,
          265020,
          11260,
          2140,
          23620,
          26940,
          109540,
          960,
          2100,
          25110,
          4990,
          34910,
          13330,
          2020,
          176950,
          60260,
          93390,
          154580,
          37760,
          40260,
          110540,
          309330,
          1520,
          242020,
          5700,
          7600,
          8200,
          2190,
          107600,
          38780,
          47740,
          42980,
          181710,
          32640,
          14170,
          8060,
          13100,
          24800,
          15600,
          122170,
          2630,
          15180,
          59620,
          13000,
          247000,
          3970,
          99850,
          68880,
          315080,
          174900,
          95630,
          61920,
          20130,
          50850,
          7000,
          7460,
          30910,
          182080,
          22680,
          5150,
          28740,
          81960,
          9030,
          7340,
          40,
          25580,
          9530,
          35180,
          129550,
          830,
          16170,
          1460,
          85490,
          24640,
          36790,
          740,
          17520,
          40090,
          5330,
          18550,
          22630,
          23150,
          76230,
          7640,
          9810,
          15430,
          80140,
          9560
         ],
         "x0": " ",
         "xaxis": "x",
         "y": [
          "profit",
          "profit",
          "profit",
          "profit",
          "profit",
          "profit",
          "profit",
          "profit",
          "profit",
          "profit",
          "profit",
          "profit",
          "profit",
          "profit",
          "profit",
          "profit",
          "profit",
          "profit",
          "profit",
          "profit",
          "profit",
          "profit",
          "profit",
          "profit",
          "profit",
          "profit",
          "profit",
          "profit",
          "profit",
          "profit",
          "profit",
          "profit",
          "profit",
          "profit",
          "profit",
          "profit",
          "profit",
          "profit",
          "profit",
          "profit",
          "profit",
          "profit",
          "profit",
          "profit",
          "profit",
          "profit",
          "profit",
          "profit",
          "profit",
          "profit",
          "profit",
          "profit",
          "profit",
          "profit",
          "profit",
          "profit",
          "profit",
          "profit",
          "profit",
          "profit",
          "profit",
          "profit",
          "profit",
          "profit",
          "profit",
          "profit",
          "profit",
          "profit",
          "profit",
          "profit",
          "profit",
          "profit",
          "profit",
          "profit",
          "profit",
          "profit",
          "profit",
          "profit",
          "profit",
          "profit",
          "profit",
          "profit",
          "profit",
          "profit",
          "profit",
          "profit",
          "profit",
          "profit",
          "profit",
          "profit",
          "profit",
          "profit",
          "profit",
          "profit",
          "profit",
          "profit",
          "profit",
          "profit",
          "profit",
          "profit",
          "profit",
          "profit",
          "profit",
          "profit",
          "profit",
          "profit",
          "profit",
          "profit",
          "profit",
          "profit",
          "profit",
          "profit",
          "profit",
          "profit",
          "profit",
          "profit",
          "profit",
          "profit",
          "profit",
          "profit",
          "profit",
          "profit",
          "profit",
          "profit",
          "profit",
          "profit",
          "profit",
          "profit",
          "profit",
          "profit",
          "profit",
          "profit",
          "profit",
          "profit",
          "profit",
          "profit",
          "profit",
          "profit",
          "profit",
          "profit",
          "profit",
          "profit",
          "profit",
          "profit",
          "profit",
          "profit",
          "profit",
          "profit",
          "profit",
          "profit",
          "profit",
          "profit",
          "profit",
          "profit",
          "profit",
          "profit",
          "profit",
          "profit",
          "profit",
          "profit",
          "profit",
          "profit"
         ],
         "y0": " ",
         "yaxis": "y"
        }
       ],
       "layout": {
        "boxmode": "group",
        "legend": {
         "title": {
          "text": "color"
         },
         "tracegroupgap": 0
        },
        "template": {
         "data": {
          "bar": [
           {
            "error_x": {
             "color": "#2a3f5f"
            },
            "error_y": {
             "color": "#2a3f5f"
            },
            "marker": {
             "line": {
              "color": "#E5ECF6",
              "width": 0.5
             }
            },
            "type": "bar"
           }
          ],
          "barpolar": [
           {
            "marker": {
             "line": {
              "color": "#E5ECF6",
              "width": 0.5
             }
            },
            "type": "barpolar"
           }
          ],
          "carpet": [
           {
            "aaxis": {
             "endlinecolor": "#2a3f5f",
             "gridcolor": "white",
             "linecolor": "white",
             "minorgridcolor": "white",
             "startlinecolor": "#2a3f5f"
            },
            "baxis": {
             "endlinecolor": "#2a3f5f",
             "gridcolor": "white",
             "linecolor": "white",
             "minorgridcolor": "white",
             "startlinecolor": "#2a3f5f"
            },
            "type": "carpet"
           }
          ],
          "choropleth": [
           {
            "colorbar": {
             "outlinewidth": 0,
             "ticks": ""
            },
            "type": "choropleth"
           }
          ],
          "contour": [
           {
            "colorbar": {
             "outlinewidth": 0,
             "ticks": ""
            },
            "colorscale": [
             [
              0,
              "#0d0887"
             ],
             [
              0.1111111111111111,
              "#46039f"
             ],
             [
              0.2222222222222222,
              "#7201a8"
             ],
             [
              0.3333333333333333,
              "#9c179e"
             ],
             [
              0.4444444444444444,
              "#bd3786"
             ],
             [
              0.5555555555555556,
              "#d8576b"
             ],
             [
              0.6666666666666666,
              "#ed7953"
             ],
             [
              0.7777777777777778,
              "#fb9f3a"
             ],
             [
              0.8888888888888888,
              "#fdca26"
             ],
             [
              1,
              "#f0f921"
             ]
            ],
            "type": "contour"
           }
          ],
          "contourcarpet": [
           {
            "colorbar": {
             "outlinewidth": 0,
             "ticks": ""
            },
            "type": "contourcarpet"
           }
          ],
          "heatmap": [
           {
            "colorbar": {
             "outlinewidth": 0,
             "ticks": ""
            },
            "colorscale": [
             [
              0,
              "#0d0887"
             ],
             [
              0.1111111111111111,
              "#46039f"
             ],
             [
              0.2222222222222222,
              "#7201a8"
             ],
             [
              0.3333333333333333,
              "#9c179e"
             ],
             [
              0.4444444444444444,
              "#bd3786"
             ],
             [
              0.5555555555555556,
              "#d8576b"
             ],
             [
              0.6666666666666666,
              "#ed7953"
             ],
             [
              0.7777777777777778,
              "#fb9f3a"
             ],
             [
              0.8888888888888888,
              "#fdca26"
             ],
             [
              1,
              "#f0f921"
             ]
            ],
            "type": "heatmap"
           }
          ],
          "heatmapgl": [
           {
            "colorbar": {
             "outlinewidth": 0,
             "ticks": ""
            },
            "colorscale": [
             [
              0,
              "#0d0887"
             ],
             [
              0.1111111111111111,
              "#46039f"
             ],
             [
              0.2222222222222222,
              "#7201a8"
             ],
             [
              0.3333333333333333,
              "#9c179e"
             ],
             [
              0.4444444444444444,
              "#bd3786"
             ],
             [
              0.5555555555555556,
              "#d8576b"
             ],
             [
              0.6666666666666666,
              "#ed7953"
             ],
             [
              0.7777777777777778,
              "#fb9f3a"
             ],
             [
              0.8888888888888888,
              "#fdca26"
             ],
             [
              1,
              "#f0f921"
             ]
            ],
            "type": "heatmapgl"
           }
          ],
          "histogram": [
           {
            "marker": {
             "colorbar": {
              "outlinewidth": 0,
              "ticks": ""
             }
            },
            "type": "histogram"
           }
          ],
          "histogram2d": [
           {
            "colorbar": {
             "outlinewidth": 0,
             "ticks": ""
            },
            "colorscale": [
             [
              0,
              "#0d0887"
             ],
             [
              0.1111111111111111,
              "#46039f"
             ],
             [
              0.2222222222222222,
              "#7201a8"
             ],
             [
              0.3333333333333333,
              "#9c179e"
             ],
             [
              0.4444444444444444,
              "#bd3786"
             ],
             [
              0.5555555555555556,
              "#d8576b"
             ],
             [
              0.6666666666666666,
              "#ed7953"
             ],
             [
              0.7777777777777778,
              "#fb9f3a"
             ],
             [
              0.8888888888888888,
              "#fdca26"
             ],
             [
              1,
              "#f0f921"
             ]
            ],
            "type": "histogram2d"
           }
          ],
          "histogram2dcontour": [
           {
            "colorbar": {
             "outlinewidth": 0,
             "ticks": ""
            },
            "colorscale": [
             [
              0,
              "#0d0887"
             ],
             [
              0.1111111111111111,
              "#46039f"
             ],
             [
              0.2222222222222222,
              "#7201a8"
             ],
             [
              0.3333333333333333,
              "#9c179e"
             ],
             [
              0.4444444444444444,
              "#bd3786"
             ],
             [
              0.5555555555555556,
              "#d8576b"
             ],
             [
              0.6666666666666666,
              "#ed7953"
             ],
             [
              0.7777777777777778,
              "#fb9f3a"
             ],
             [
              0.8888888888888888,
              "#fdca26"
             ],
             [
              1,
              "#f0f921"
             ]
            ],
            "type": "histogram2dcontour"
           }
          ],
          "mesh3d": [
           {
            "colorbar": {
             "outlinewidth": 0,
             "ticks": ""
            },
            "type": "mesh3d"
           }
          ],
          "parcoords": [
           {
            "line": {
             "colorbar": {
              "outlinewidth": 0,
              "ticks": ""
             }
            },
            "type": "parcoords"
           }
          ],
          "pie": [
           {
            "automargin": true,
            "type": "pie"
           }
          ],
          "scatter": [
           {
            "marker": {
             "colorbar": {
              "outlinewidth": 0,
              "ticks": ""
             }
            },
            "type": "scatter"
           }
          ],
          "scatter3d": [
           {
            "line": {
             "colorbar": {
              "outlinewidth": 0,
              "ticks": ""
             }
            },
            "marker": {
             "colorbar": {
              "outlinewidth": 0,
              "ticks": ""
             }
            },
            "type": "scatter3d"
           }
          ],
          "scattercarpet": [
           {
            "marker": {
             "colorbar": {
              "outlinewidth": 0,
              "ticks": ""
             }
            },
            "type": "scattercarpet"
           }
          ],
          "scattergeo": [
           {
            "marker": {
             "colorbar": {
              "outlinewidth": 0,
              "ticks": ""
             }
            },
            "type": "scattergeo"
           }
          ],
          "scattergl": [
           {
            "marker": {
             "colorbar": {
              "outlinewidth": 0,
              "ticks": ""
             }
            },
            "type": "scattergl"
           }
          ],
          "scattermapbox": [
           {
            "marker": {
             "colorbar": {
              "outlinewidth": 0,
              "ticks": ""
             }
            },
            "type": "scattermapbox"
           }
          ],
          "scatterpolar": [
           {
            "marker": {
             "colorbar": {
              "outlinewidth": 0,
              "ticks": ""
             }
            },
            "type": "scatterpolar"
           }
          ],
          "scatterpolargl": [
           {
            "marker": {
             "colorbar": {
              "outlinewidth": 0,
              "ticks": ""
             }
            },
            "type": "scatterpolargl"
           }
          ],
          "scatterternary": [
           {
            "marker": {
             "colorbar": {
              "outlinewidth": 0,
              "ticks": ""
             }
            },
            "type": "scatterternary"
           }
          ],
          "surface": [
           {
            "colorbar": {
             "outlinewidth": 0,
             "ticks": ""
            },
            "colorscale": [
             [
              0,
              "#0d0887"
             ],
             [
              0.1111111111111111,
              "#46039f"
             ],
             [
              0.2222222222222222,
              "#7201a8"
             ],
             [
              0.3333333333333333,
              "#9c179e"
             ],
             [
              0.4444444444444444,
              "#bd3786"
             ],
             [
              0.5555555555555556,
              "#d8576b"
             ],
             [
              0.6666666666666666,
              "#ed7953"
             ],
             [
              0.7777777777777778,
              "#fb9f3a"
             ],
             [
              0.8888888888888888,
              "#fdca26"
             ],
             [
              1,
              "#f0f921"
             ]
            ],
            "type": "surface"
           }
          ],
          "table": [
           {
            "cells": {
             "fill": {
              "color": "#EBF0F8"
             },
             "line": {
              "color": "white"
             }
            },
            "header": {
             "fill": {
              "color": "#C8D4E3"
             },
             "line": {
              "color": "white"
             }
            },
            "type": "table"
           }
          ]
         },
         "layout": {
          "annotationdefaults": {
           "arrowcolor": "#2a3f5f",
           "arrowhead": 0,
           "arrowwidth": 1
          },
          "coloraxis": {
           "colorbar": {
            "outlinewidth": 0,
            "ticks": ""
           }
          },
          "colorscale": {
           "diverging": [
            [
             0,
             "#8e0152"
            ],
            [
             0.1,
             "#c51b7d"
            ],
            [
             0.2,
             "#de77ae"
            ],
            [
             0.3,
             "#f1b6da"
            ],
            [
             0.4,
             "#fde0ef"
            ],
            [
             0.5,
             "#f7f7f7"
            ],
            [
             0.6,
             "#e6f5d0"
            ],
            [
             0.7,
             "#b8e186"
            ],
            [
             0.8,
             "#7fbc41"
            ],
            [
             0.9,
             "#4d9221"
            ],
            [
             1,
             "#276419"
            ]
           ],
           "sequential": [
            [
             0,
             "#0d0887"
            ],
            [
             0.1111111111111111,
             "#46039f"
            ],
            [
             0.2222222222222222,
             "#7201a8"
            ],
            [
             0.3333333333333333,
             "#9c179e"
            ],
            [
             0.4444444444444444,
             "#bd3786"
            ],
            [
             0.5555555555555556,
             "#d8576b"
            ],
            [
             0.6666666666666666,
             "#ed7953"
            ],
            [
             0.7777777777777778,
             "#fb9f3a"
            ],
            [
             0.8888888888888888,
             "#fdca26"
            ],
            [
             1,
             "#f0f921"
            ]
           ],
           "sequentialminus": [
            [
             0,
             "#0d0887"
            ],
            [
             0.1111111111111111,
             "#46039f"
            ],
            [
             0.2222222222222222,
             "#7201a8"
            ],
            [
             0.3333333333333333,
             "#9c179e"
            ],
            [
             0.4444444444444444,
             "#bd3786"
            ],
            [
             0.5555555555555556,
             "#d8576b"
            ],
            [
             0.6666666666666666,
             "#ed7953"
            ],
            [
             0.7777777777777778,
             "#fb9f3a"
            ],
            [
             0.8888888888888888,
             "#fdca26"
            ],
            [
             1,
             "#f0f921"
            ]
           ]
          },
          "colorway": [
           "#636efa",
           "#EF553B",
           "#00cc96",
           "#ab63fa",
           "#FFA15A",
           "#19d3f3",
           "#FF6692",
           "#B6E880",
           "#FF97FF",
           "#FECB52"
          ],
          "font": {
           "color": "#2a3f5f"
          },
          "geo": {
           "bgcolor": "white",
           "lakecolor": "white",
           "landcolor": "#E5ECF6",
           "showlakes": true,
           "showland": true,
           "subunitcolor": "white"
          },
          "hoverlabel": {
           "align": "left"
          },
          "hovermode": "closest",
          "mapbox": {
           "style": "light"
          },
          "paper_bgcolor": "white",
          "plot_bgcolor": "#E5ECF6",
          "polar": {
           "angularaxis": {
            "gridcolor": "white",
            "linecolor": "white",
            "ticks": ""
           },
           "bgcolor": "#E5ECF6",
           "radialaxis": {
            "gridcolor": "white",
            "linecolor": "white",
            "ticks": ""
           }
          },
          "scene": {
           "xaxis": {
            "backgroundcolor": "#E5ECF6",
            "gridcolor": "white",
            "gridwidth": 2,
            "linecolor": "white",
            "showbackground": true,
            "ticks": "",
            "zerolinecolor": "white"
           },
           "yaxis": {
            "backgroundcolor": "#E5ECF6",
            "gridcolor": "white",
            "gridwidth": 2,
            "linecolor": "white",
            "showbackground": true,
            "ticks": "",
            "zerolinecolor": "white"
           },
           "zaxis": {
            "backgroundcolor": "#E5ECF6",
            "gridcolor": "white",
            "gridwidth": 2,
            "linecolor": "white",
            "showbackground": true,
            "ticks": "",
            "zerolinecolor": "white"
           }
          },
          "shapedefaults": {
           "line": {
            "color": "#2a3f5f"
           }
          },
          "ternary": {
           "aaxis": {
            "gridcolor": "white",
            "linecolor": "white",
            "ticks": ""
           },
           "baxis": {
            "gridcolor": "white",
            "linecolor": "white",
            "ticks": ""
           },
           "bgcolor": "#E5ECF6",
           "caxis": {
            "gridcolor": "white",
            "linecolor": "white",
            "ticks": ""
           }
          },
          "title": {
           "x": 0.05
          },
          "xaxis": {
           "automargin": true,
           "gridcolor": "white",
           "linecolor": "white",
           "ticks": "",
           "title": {
            "standoff": 15
           },
           "zerolinecolor": "white",
           "zerolinewidth": 2
          },
          "yaxis": {
           "automargin": true,
           "gridcolor": "white",
           "linecolor": "white",
           "ticks": "",
           "title": {
            "standoff": 15
           },
           "zerolinecolor": "white",
           "zerolinewidth": 2
          }
         }
        },
        "title": {
         "text": "Distribution of SP 500 Stock Profit/Loss"
        },
        "xaxis": {
         "anchor": "y",
         "domain": [
          0,
          1
         ],
         "title": {
          "text": "Profit"
         }
        },
        "yaxis": {
         "anchor": "x",
         "domain": [
          0,
          1
         ],
         "title": {
          "text": "Stock"
         }
        }
       }
      }
     },
     "metadata": {},
     "output_type": "display_data"
    }
   ],
   "source": [
    "#Generate box plot of all 500 stocks\n",
    "path = Path(\"resources/profitable_stock.csv\")\n",
    "\n",
    "profitable_portfolio_df = pd.read_csv(path, index_col=0)\n",
    "\n",
    "all_profit_plot = px.box(profitable_portfolio_df[\"profit\"], orientation='h', points='all', \n",
    "                                    title=\"Distribution of SP 500 Stock Profit\",\n",
    "                                    labels = {'variable':'Stock','value':'Profit'})\n",
    "\n",
    "profit_plot = px.box(profitable_portfolio_df[\"profit\"], orientation='h', points='all', \n",
    "                                    title=\"Distribution of SP 500 Stock Profit/Loss\",\n",
    "                                    labels = {'variable':'Stock','value':'Profit'},\n",
    "                                    color_discrete_sequence=[\"red\", \"green\"],\n",
    "                                    color=(profitable_portfolio_df['profit'] > 0).map({False: 'Loss',\n",
    "                                                    True: 'Gain'}),)\n",
    "all_profit_plot.show()\n",
    "profit_plot.show()"
   ]
  },
  {
   "cell_type": "code",
   "execution_count": null,
   "metadata": {},
   "outputs": [],
   "source": []
  }
 ],
 "metadata": {
  "kernelspec": {
   "display_name": "Python 3.7.7 64-bit ('pyvizenv': conda)",
   "language": "python",
   "name": "python37764bitpyvizenvconda594889b1a87949ab9fc74bcf250df1c0"
  },
  "language_info": {
   "codemirror_mode": {
    "name": "ipython",
    "version": 3
   },
   "file_extension": ".py",
   "mimetype": "text/x-python",
   "name": "python",
   "nbconvert_exporter": "python",
   "pygments_lexer": "ipython3",
   "version": "3.7.7"
  }
 },
 "nbformat": 4,
 "nbformat_minor": 4
}
