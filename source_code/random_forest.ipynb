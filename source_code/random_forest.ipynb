{
 "cells": [
  {
   "cell_type": "markdown",
   "metadata": {},
   "source": [
    "# Random Forest"
   ]
  },
  {
   "cell_type": "code",
   "execution_count": 31,
   "metadata": {},
   "outputs": [],
   "source": [
    "import csv\n",
    "import numpy as np\n",
    "import pandas as pd\n",
    "import seaborn as sns\n",
    "from pathlib import Path\n",
    "from sklearn.ensemble import RandomForestClassifier\n",
    "from sklearn.metrics import confusion_matrix, accuracy_score \n",
    "from sklearn.metrics import classification_report, mean_squared_error \n",
    "from sklearn.metrics import plot_roc_curve\n",
    "from sklearn.metrics import roc_auc_score\n",
    "from sklearn.metrics import f1_score, fbeta_score\n",
    "from joblib import dump, load\n",
    "\n",
    "import matplotlib.pyplot as plt\n",
    "%matplotlib inline\n",
    "\n",
    "# Needed for decision tree visualization\n",
    "import pydotplus\n",
    "from IPython.display import Image\n"
   ]
  },
  {
   "cell_type": "markdown",
   "metadata": {},
   "source": [
    "## Loading Data"
   ]
  },
  {
   "cell_type": "code",
   "execution_count": 32,
   "metadata": {},
   "outputs": [],
   "source": [
    "filepath = \"resources/\"\n",
    "\n",
    "# Loading scaled data\n",
    "X_train_scaled = np.loadtxt(filepath + 'X_train_scaled.csv', delimiter=',')\n",
    "X_test_scaled = np.loadtxt(filepath + 'X_test_scaled.csv', delimiter=',')\n",
    "\n",
    "# Import SMOTE & Random Over Sampled data\n",
    "# To import the X_train_smote, X_train_ros\n",
    "X_train_smote = np.loadtxt(filepath + 'X_train_smote.csv', delimiter=',')\n",
    "X_train_ros = np.loadtxt(filepath + 'X_train_ros.csv', delimiter=',')\n",
    "\n",
    "# Import SMOTE & Random Over Sampled dataset Traget\n",
    "# To import y_train_smote, y_train_ros\n",
    "y_train_smote = pd.read_csv(filepath + 'y_train_smote.csv', sep=',', header=0, squeeze=True)\n",
    "y_train_ros = pd.read_csv(filepath + 'y_train_ros.csv', sep=',', header=0, squeeze=True)\n",
    "\n",
    "# Import raw target dataset\n",
    "# To import y_train, y_test\n",
    "y_train = pd.read_csv(filepath + 'y_train.csv', sep=',', header=0, squeeze=True, index_col=0)\n",
    "y_test = pd.read_csv(filepath + 'y_test.csv', sep=',', header=0, squeeze=True, index_col=0)\n",
    "\n",
    "# Importing feature headers\n",
    "features = pd.read_csv(filepath + 'features.csv').drop(columns='Unnamed: 0')"
   ]
  },
  {
   "cell_type": "markdown",
   "metadata": {},
   "source": [
    "---\n",
    "\n",
    "\n",
    "## Fitting the Random Forest Model with scaled data"
   ]
  },
  {
   "cell_type": "code",
   "execution_count": 33,
   "metadata": {},
   "outputs": [
    {
     "data": {
      "text/plain": [
       "<matplotlib.axes._subplots.AxesSubplot at 0x21b5369c3c8>"
      ]
     },
     "execution_count": 33,
     "metadata": {},
     "output_type": "execute_result"
    },
    {
     "data": {
      "image/png": "[encoded data removed]",
      "text/plain": [
       "<Figure size 432x288 with 1 Axes>"
      ]
     },
     "metadata": {
      "needs_background": "light"
     },
     "output_type": "display_data"
    }
   ],
   "source": [
    "# Create a random forest classifier\n",
    "\n",
    "''' \n",
    "We tested the model with different number of estimators to see the difference in accuracy:\n",
    "With 500 estimators Acc 0.9864\n",
    "With 1000 estimators Acc 0.9864\n",
    "With 2000 estimators Acc 0.9872\n",
    "With 3000 estimators Acc 0.9872\n",
    "With 5000 estimators Acc 0.9864\n",
    "With 10000 estimators Acc 0.9864\n",
    "For this excercise we will use 2000 asi is the one with better \n",
    "accuracy with less estimators and a random_state of 42 to make \n",
    "the outcome consistent across calls\n",
    "'''\n",
    "\n",
    "est_dict = {\n",
    "    \"500 est\": 0.9864,\n",
    "    \"1000 est\": 0.9864,\n",
    "    \"2000 est\": 0.9872,\n",
    "    \"3000 est\": 0.9872,\n",
    "    \"5000 est\": 0.9864,\n",
    "    \"10000 est\": 0.9872\n",
    "}\n",
    "\n",
    "est_df = pd.DataFrame.from_dict(est_dict, orient='index')\n",
    "est_df.columns = ['Acc.']\n",
    "est_df.plot()"
   ]
  },
  {
   "cell_type": "code",
   "execution_count": 34,
   "metadata": {},
   "outputs": [],
   "source": [
    "rf_model = RandomForestClassifier(n_estimators=2000, random_state=42)"
   ]
  },
  {
   "cell_type": "code",
   "execution_count": 35,
   "metadata": {},
   "outputs": [],
   "source": [
    "# Fitting the model\n",
    "rf_model = rf_model.fit(X_train_scaled, y_train)"
   ]
  },
  {
   "cell_type": "markdown",
   "metadata": {},
   "source": [
    "#### Making Predictions Using the Decsion Tree Model"
   ]
  },
  {
   "cell_type": "code",
   "execution_count": 36,
   "metadata": {},
   "outputs": [],
   "source": [
    "# Making predictions using the testing data\n",
    "predictions = rf_model.predict(X_test_scaled)"
   ]
  },
  {
   "cell_type": "markdown",
   "metadata": {},
   "source": [
    "#### Model Evaluation"
   ]
  },
  {
   "cell_type": "code",
   "execution_count": 37,
   "metadata": {},
   "outputs": [],
   "source": [
    "# Calculating the confusion matrix\n",
    "\n",
    "cm = confusion_matrix(y_test, predictions)\n",
    "cm_df_scaled = pd.DataFrame(\n",
    "    cm, index=[\"Actual 0\", \"Actual 1\"], columns=[\"Predicted 0\", \"Predicted 1\"]\n",
    ")\n",
    "\n",
    "# Calculating the accuracy score\n",
    "acc_score_scaled = accuracy_score(y_test, predictions)"
   ]
  },
  {
   "cell_type": "code",
   "execution_count": 38,
   "metadata": {},
   "outputs": [
    {
     "data": {
      "text/plain": [
       "Text(33.0, 0.5, 'Predicted')"
      ]
     },
     "execution_count": 38,
     "metadata": {},
     "output_type": "execute_result"
    },
    {
     "data": {
      "image/png": "[encoded data removed]",
      "text/plain": [
       "<Figure size 432x288 with 2 Axes>"
      ]
     },
     "metadata": {
      "needs_background": "light"
     },
     "output_type": "display_data"
    }
   ],
   "source": [
    "# Displaying results\n",
    "\n",
    "# Display the confusion matrix\n",
    "sns.heatmap(cm_df_scaled,\n",
    "            cmap = 'Greens', \n",
    "            fmt = '', \n",
    "            annot = True)\n",
    "\n",
    "# Set plot labels \n",
    "plt.title(\"Random Forest Model: Confusion Matrix\")\n",
    "plt.xlabel(\"Actual\")\n",
    "plt.ylabel(\"Predicted\")\n"
   ]
  },
  {
   "cell_type": "code",
   "execution_count": 39,
   "metadata": {},
   "outputs": [
    {
     "name": "stdout",
     "output_type": "stream",
     "text": [
      "Accuracy Score : 0.9872\n",
      "Classification Report\n",
      "              precision    recall  f1-score   support\n",
      "\n",
      "           0       0.99      1.00      0.99      1130\n",
      "           1       0.98      0.88      0.93       120\n",
      "\n",
      "    accuracy                           0.99      1250\n",
      "   macro avg       0.98      0.94      0.96      1250\n",
      "weighted avg       0.99      0.99      0.99      1250\n",
      "\n"
     ]
    }
   ],
   "source": [
    "print(f\"Accuracy Score : {acc_score_scaled}\")\n",
    "print(\"Classification Report\")\n",
    "rf_cassrep_scaled = classification_report(y_test, predictions)\n",
    "print(rf_cassrep_scaled)"
   ]
  },
  {
   "cell_type": "markdown",
   "metadata": {},
   "source": [
    "#### Scaled F-Beta Score"
   ]
  },
  {
   "cell_type": "code",
   "execution_count": 40,
   "metadata": {},
   "outputs": [
    {
     "name": "stdout",
     "output_type": "stream",
     "text": [
      "F1 Beta Score: 0.960145\n"
     ]
    }
   ],
   "source": [
    "# Calculate Beta F1 Score\n",
    "fbeta_scaled = fbeta_score(y_test, predictions,beta=0.5)\n",
    "\n",
    "# Print the F1 score results\n",
    "print(\"F1 Beta Score: %f\" % (fbeta_scaled))"
   ]
  },
  {
   "cell_type": "markdown",
   "metadata": {},
   "source": [
    "#### Feature Importance"
   ]
  },
  {
   "cell_type": "code",
   "execution_count": 41,
   "metadata": {},
   "outputs": [],
   "source": [
    "# Random Forests in sklearn will automatically calculate feature importance\n",
    "importances = rf_model.feature_importances_"
   ]
  },
  {
   "cell_type": "code",
   "execution_count": 42,
   "metadata": {},
   "outputs": [
    {
     "data": {
      "text/plain": [
       "[(0.35297266061659477, 'Income'),\n",
       " (0.216468260753183, 'Education'),\n",
       " (0.15563830654690194, 'CCAvg'),\n",
       " (0.12157345183389277, 'Family'),\n",
       " (0.04908007565762149, 'CD Account'),\n",
       " (0.04638067248850292, 'Age'),\n",
       " (0.03534810821093613, 'Mortgage'),\n",
       " (0.009030149357119575, 'CreditCard'),\n",
       " (0.008417421281698933, 'Online'),\n",
       " (0.005090893253548486, 'Securities Account')]"
      ]
     },
     "execution_count": 42,
     "metadata": {},
     "output_type": "execute_result"
    }
   ],
   "source": [
    "# Sorting the features by their importance\n",
    "sorted(zip(rf_model.feature_importances_, features), reverse=True)"
   ]
  },
  {
   "cell_type": "code",
   "execution_count": 43,
   "metadata": {},
   "outputs": [
    {
     "data": {
      "image/png": "[encoded data removed]",
      "text/plain": [
       "<Figure size 432x288 with 1 Axes>"
      ]
     },
     "metadata": {
      "needs_background": "light"
     },
     "output_type": "display_data"
    }
   ],
   "source": [
    "# Visualize the features by importance\n",
    "importances_df = pd.DataFrame(sorted(zip(rf_model.feature_importances_, features), reverse=True))\n",
    "importances_df.set_index(importances_df[1], inplace=True)\n",
    "importances_df.drop(columns=1, inplace=True)\n",
    "importances_df.rename(columns={0: 'Feature Importances'}, inplace=True)\n",
    "importances_sorted = importances_df.sort_values(by='Feature Importances')\n",
    "importances_sorted.plot(kind='barh', color='green', title= 'Features Importances', legend=False)\n",
    "plt.tight_layout()\n",
    "plt.savefig('images/rf_feat_scale.png')"
   ]
  },
  {
   "cell_type": "markdown",
   "metadata": {},
   "source": [
    "#### MSE"
   ]
  },
  {
   "cell_type": "code",
   "execution_count": 44,
   "metadata": {},
   "outputs": [
    {
     "name": "stdout",
     "output_type": "stream",
     "text": [
      "0.0128\n"
     ]
    }
   ],
   "source": [
    "mse_scaled = mean_squared_error(y_test, predictions)\n",
    "print(mse_scaled)"
   ]
  },
  {
   "cell_type": "markdown",
   "metadata": {},
   "source": [
    "#### ROC curve"
   ]
  },
  {
   "cell_type": "code",
   "execution_count": 45,
   "metadata": {},
   "outputs": [
    {
     "data": {
      "image/png": "[encoded data removed]",
      "text/plain": [
       "<Figure size 432x288 with 1 Axes>"
      ]
     },
     "metadata": {
      "needs_background": "light"
     },
     "output_type": "display_data"
    },
    {
     "name": "stdout",
     "output_type": "stream",
     "text": [
      "Scaled data Model: ROC-AUC Score: 0.9407817109144543\n"
     ]
    }
   ],
   "source": [
    "# ROC curve\n",
    "svc_disp_scaled = plot_roc_curve(rf_model, X_test_scaled, y_test)\n",
    "plt.show()\n",
    "\n",
    "# Print the ROC-AUC Score\n",
    "print(\"Scaled data Model: ROC-AUC Score:\", roc_auc_score(y_test, predictions))"
   ]
  },
  {
   "cell_type": "code",
   "execution_count": 46,
   "metadata": {},
   "outputs": [
    {
     "data": {
      "text/plain": [
       "['models/rf_scaled_model.joblib']"
      ]
     },
     "execution_count": 46,
     "metadata": {},
     "output_type": "execute_result"
    }
   ],
   "source": [
    "# Export model for load to dashboard\n",
    "dump(rf_model, 'models/rf_scaled_model.joblib')"
   ]
  },
  {
   "cell_type": "markdown",
   "metadata": {},
   "source": [
    "---\n",
    "\n",
    "\n",
    "## Fitting the Random Forest Model with SMOTE data"
   ]
  },
  {
   "cell_type": "code",
   "execution_count": 47,
   "metadata": {},
   "outputs": [
    {
     "data": {
      "text/plain": [
       "Text(33.0, 0.5, 'Predicted')"
      ]
     },
     "execution_count": 47,
     "metadata": {},
     "output_type": "execute_result"
    },
    {
     "data": {
      "image/png": "[encoded data removed]",
      "text/plain": [
       "<Figure size 432x288 with 2 Axes>"
      ]
     },
     "metadata": {
      "needs_background": "light"
     },
     "output_type": "display_data"
    }
   ],
   "source": [
    "# Fitting the model\n",
    "rf_model = rf_model.fit(X_train_smote, y_train_smote)\n",
    "# Making predictions using the testing data\n",
    "predictions = rf_model.predict(X_test_scaled)\n",
    "# Calculating the confusion matrix\n",
    "cm = confusion_matrix(y_test, predictions)\n",
    "cm_df_smote = pd.DataFrame(\n",
    "    cm, index=[\"Actual 0\", \"Actual 1\"], columns=[\"Predicted 0\", \"Predicted 1\"]\n",
    ")\n",
    "# Calculating the accuracy score\n",
    "acc_score_smote = accuracy_score(y_test, predictions)\n",
    "# Displaying results\n",
    "# Display the confusion matrix\n",
    "sns.heatmap(cm_df_smote,\n",
    "            cmap = 'Greens', \n",
    "            fmt = '', \n",
    "            annot = True)\n",
    "\n",
    "# Set plot labels \n",
    "plt.title(\"Random Forest Model: Confusion Matrix\")\n",
    "plt.xlabel(\"Actual\")\n",
    "plt.ylabel(\"Predicted\")\n"
   ]
  },
  {
   "cell_type": "code",
   "execution_count": 48,
   "metadata": {},
   "outputs": [
    {
     "name": "stdout",
     "output_type": "stream",
     "text": [
      "Accuracy Score : 0.9848\n",
      "Classification Report\n",
      "              precision    recall  f1-score   support\n",
      "\n",
      "           0       0.99      0.99      0.99      1130\n",
      "           1       0.91      0.93      0.92       120\n",
      "\n",
      "    accuracy                           0.98      1250\n",
      "   macro avg       0.95      0.96      0.96      1250\n",
      "weighted avg       0.98      0.98      0.98      1250\n",
      "\n"
     ]
    }
   ],
   "source": [
    "print(f\"Accuracy Score : {acc_score_smote}\")\n",
    "print(\"Classification Report\")\n",
    "rf_cassrep_smote = classification_report(y_test, predictions)\n",
    "print(rf_cassrep_smote)"
   ]
  },
  {
   "cell_type": "markdown",
   "metadata": {},
   "source": [
    "#### SMOTE F1 Beta"
   ]
  },
  {
   "cell_type": "code",
   "execution_count": 49,
   "metadata": {},
   "outputs": [
    {
     "name": "stdout",
     "output_type": "stream",
     "text": [
      "F1 Beta Score: 0.915033\n"
     ]
    }
   ],
   "source": [
    "# Calculate Beta F1 Score\n",
    "fbeta_SMOTE = fbeta_score(y_test, predictions,beta=0.5)\n",
    "\n",
    "# Print the F1 score results\n",
    "print(\"F1 Beta Score: %f\" % (fbeta_SMOTE))"
   ]
  },
  {
   "cell_type": "markdown",
   "metadata": {},
   "source": [
    "#### Feature Importance SMOTE"
   ]
  },
  {
   "cell_type": "code",
   "execution_count": 50,
   "metadata": {},
   "outputs": [
    {
     "data": {
      "image/png": "[encoded data removed]",
      "text/plain": [
       "<Figure size 432x288 with 1 Axes>"
      ]
     },
     "metadata": {
      "needs_background": "light"
     },
     "output_type": "display_data"
    }
   ],
   "source": [
    "# Random Forests in sklearn will automatically calculate feature importance\n",
    "importances = rf_model.feature_importances_\n",
    "# Sorting the features by their importance\n",
    "sorted(zip(rf_model.feature_importances_, features), reverse=True)\n",
    "# Visualize the features by importance\n",
    "importances_df = pd.DataFrame(sorted(zip(rf_model.feature_importances_, features), reverse=True))\n",
    "importances_df.set_index(importances_df[1], inplace=True)\n",
    "importances_df.drop(columns=1, inplace=True)\n",
    "importances_df.rename(columns={0: 'Feature Importances'}, inplace=True)\n",
    "importances_sorted = importances_df.sort_values(by='Feature Importances')\n",
    "importances_sorted.plot(kind='barh', color='green', title= 'Features Importances', legend=False)\n",
    "plt.tight_layout()\n",
    "plt.savefig('images/rf_feat_smote.png')"
   ]
  },
  {
   "cell_type": "markdown",
   "metadata": {},
   "source": [
    "#### MSE SMOTE"
   ]
  },
  {
   "cell_type": "code",
   "execution_count": 51,
   "metadata": {},
   "outputs": [
    {
     "name": "stdout",
     "output_type": "stream",
     "text": [
      "0.0152\n"
     ]
    }
   ],
   "source": [
    "mse_smote = mean_squared_error(y_test, predictions)\n",
    "print(mse_smote)"
   ]
  },
  {
   "cell_type": "markdown",
   "metadata": {},
   "source": [
    "#### ROC curve SMOTE"
   ]
  },
  {
   "cell_type": "code",
   "execution_count": 52,
   "metadata": {},
   "outputs": [
    {
     "data": {
      "image/png": "[encoded data removed]",
      "text/plain": [
       "<Figure size 432x288 with 1 Axes>"
      ]
     },
     "metadata": {
      "needs_background": "light"
     },
     "output_type": "display_data"
    },
    {
     "name": "stdout",
     "output_type": "stream",
     "text": [
      "SMOTE Model: ROC-AUC Score: 0.9617994100294985\n"
     ]
    }
   ],
   "source": [
    "# Create ROC curve\n",
    "svc_disp_smote = plot_roc_curve(rf_model, X_test_scaled, y_test)\n",
    "plt.show()\n",
    "\n",
    "# Print the ROC-AUC Score\n",
    "print(\"SMOTE Model: ROC-AUC Score:\", roc_auc_score(y_test, predictions))"
   ]
  },
  {
   "cell_type": "code",
   "execution_count": 53,
   "metadata": {},
   "outputs": [
    {
     "data": {
      "text/plain": [
       "['models/rf_smote_model.joblib']"
      ]
     },
     "execution_count": 53,
     "metadata": {},
     "output_type": "execute_result"
    }
   ],
   "source": [
    "# Export model for load to dashboard\n",
    "dump(rf_model, 'models/rf_smote_model.joblib')"
   ]
  },
  {
   "cell_type": "markdown",
   "metadata": {},
   "source": [
    "---\n",
    "\n",
    "\n",
    "## Fitting the Random Forest Model with ROS data"
   ]
  },
  {
   "cell_type": "code",
   "execution_count": 54,
   "metadata": {},
   "outputs": [
    {
     "data": {
      "text/plain": [
       "Text(33.0, 0.5, 'Predicted')"
      ]
     },
     "execution_count": 54,
     "metadata": {},
     "output_type": "execute_result"
    },
    {
     "data": {
      "image/png": "[encoded data removed]",
      "text/plain": [
       "<Figure size 432x288 with 2 Axes>"
      ]
     },
     "metadata": {
      "needs_background": "light"
     },
     "output_type": "display_data"
    }
   ],
   "source": [
    "# Fitting the model\n",
    "rf_model = rf_model.fit(X_train_ros, y_train_ros)\n",
    "# Making predictions using the testing data\n",
    "predictions = rf_model.predict(X_test_scaled)\n",
    "# Calculating the confusion matrix\n",
    "cm = confusion_matrix(y_test, predictions)\n",
    "cm_df_ros = pd.DataFrame(\n",
    "    cm, index=[\"Actual 0\", \"Actual 1\"], columns=[\"Predicted 0\", \"Predicted 1\"]\n",
    ")\n",
    "# Calculating the accuracy score\n",
    "acc_score_ros = accuracy_score(y_test, predictions)\n",
    "# Displaying results\n",
    "# Display the confusion matrix\n",
    "sns.heatmap(cm_df_ros,\n",
    "            cmap = 'Greens', \n",
    "            fmt = '', \n",
    "            annot = True)\n",
    "\n",
    "# Set plot labels \n",
    "plt.title(\"Random Forest Model: Confusion Matrix\")\n",
    "plt.xlabel(\"Actual\")\n",
    "plt.ylabel(\"Predicted\")\n"
   ]
  },
  {
   "cell_type": "code",
   "execution_count": 55,
   "metadata": {},
   "outputs": [
    {
     "name": "stdout",
     "output_type": "stream",
     "text": [
      "Accuracy Score : 0.9848\n",
      "Classification Report\n",
      "              precision    recall  f1-score   support\n",
      "\n",
      "           0       0.99      0.99      0.99      1130\n",
      "           1       0.93      0.91      0.92       120\n",
      "\n",
      "    accuracy                           0.98      1250\n",
      "   macro avg       0.96      0.95      0.96      1250\n",
      "weighted avg       0.98      0.98      0.98      1250\n",
      "\n"
     ]
    }
   ],
   "source": [
    "print(f\"Accuracy Score : {acc_score_ros}\")\n",
    "print(\"Classification Report\")\n",
    "rf_cassrep_ros = classification_report(y_test, predictions)\n",
    "print(rf_cassrep_ros)"
   ]
  },
  {
   "cell_type": "markdown",
   "metadata": {},
   "source": [
    "#### ROS F1 Beta"
   ]
  },
  {
   "cell_type": "code",
   "execution_count": 56,
   "metadata": {},
   "outputs": [
    {
     "name": "stdout",
     "output_type": "stream",
     "text": [
      "F1 Beta Score: 0.926871\n"
     ]
    }
   ],
   "source": [
    "# Calculate Beta F1 Score\n",
    "fbeta_ROS = fbeta_score(y_test, predictions,beta=0.5)\n",
    "\n",
    "# Print the F1 score results\n",
    "print(\"F1 Beta Score: %f\" % (fbeta_ROS))"
   ]
  },
  {
   "cell_type": "markdown",
   "metadata": {},
   "source": [
    "#### Feature Importance ROS"
   ]
  },
  {
   "cell_type": "code",
   "execution_count": 57,
   "metadata": {},
   "outputs": [
    {
     "data": {
      "image/png": "[encoded data removed]",
      "text/plain": [
       "<Figure size 432x288 with 1 Axes>"
      ]
     },
     "metadata": {
      "needs_background": "light"
     },
     "output_type": "display_data"
    }
   ],
   "source": [
    "# Random Forests in sklearn will automatically calculate feature importance\n",
    "importances = rf_model.feature_importances_\n",
    "# Sorting the features by their importance\n",
    "sorted(zip(rf_model.feature_importances_, features), reverse=True)\n",
    "# Visualize the features by importance\n",
    "importances_df = pd.DataFrame(sorted(zip(rf_model.feature_importances_, features), reverse=True))\n",
    "importances_df.set_index(importances_df[1], inplace=True)\n",
    "importances_df.drop(columns=1, inplace=True)\n",
    "importances_df.rename(columns={0: 'Feature Importances'}, inplace=True)\n",
    "importances_sorted = importances_df.sort_values(by='Feature Importances')\n",
    "importances_sorted.plot(kind='barh', color='green', title= 'Features Importances', legend=False)\n",
    "plt.tight_layout()\n",
    "plt.savefig('images/rf_feat_ros.png')"
   ]
  },
  {
   "cell_type": "markdown",
   "metadata": {},
   "source": [
    "#### MSE ROS"
   ]
  },
  {
   "cell_type": "code",
   "execution_count": 58,
   "metadata": {},
   "outputs": [
    {
     "name": "stdout",
     "output_type": "stream",
     "text": [
      "0.0152\n"
     ]
    }
   ],
   "source": [
    "mse_ros = mean_squared_error(y_test, predictions)\n",
    "print(mse_ros)"
   ]
  },
  {
   "cell_type": "markdown",
   "metadata": {},
   "source": [
    "#### ROC - AUC curve ROS"
   ]
  },
  {
   "cell_type": "code",
   "execution_count": 59,
   "metadata": {},
   "outputs": [
    {
     "data": {
      "image/png": "[encoded data removed]",
      "text/plain": [
       "<Figure size 432x288 with 1 Axes>"
      ]
     },
     "metadata": {
      "needs_background": "light"
     },
     "output_type": "display_data"
    },
    {
     "name": "stdout",
     "output_type": "stream",
     "text": [
      "ROS Model: ROC-AUC Score: 0.9506268436578169\n"
     ]
    }
   ],
   "source": [
    "# Create the ROC curve\n",
    "svc_disp_ros = plot_roc_curve(rf_model, X_test_scaled, y_test)\n",
    "plt.show()\n",
    "\n",
    "# Print the ROC-AUC Score\n",
    "print(\"ROS Model: ROC-AUC Score:\", roc_auc_score(y_test, predictions))"
   ]
  },
  {
   "cell_type": "code",
   "execution_count": 60,
   "metadata": {},
   "outputs": [
    {
     "data": {
      "text/plain": [
       "['models/rf_ros_model.joblib']"
      ]
     },
     "execution_count": 60,
     "metadata": {},
     "output_type": "execute_result"
    }
   ],
   "source": [
    "# Export model for load to dashboard\n",
    "dump(rf_model, 'models/rf_ros_model.joblib')"
   ]
  },
  {
   "cell_type": "markdown",
   "metadata": {},
   "source": [
    "---\n",
    "\n",
    "### Random Forest: Model Comparison & Conclusions"
   ]
  },
  {
   "cell_type": "markdown",
   "metadata": {},
   "source": [
    "#### Accuracy Scores"
   ]
  },
  {
   "cell_type": "code",
   "execution_count": 62,
   "metadata": {},
   "outputs": [
    {
     "data": {
      "text/html": [
       "<div>\n",
       "<style scoped>\n",
       "    .dataframe tbody tr th:only-of-type {\n",
       "        vertical-align: middle;\n",
       "    }\n",
       "\n",
       "    .dataframe tbody tr th {\n",
       "        vertical-align: top;\n",
       "    }\n",
       "\n",
       "    .dataframe thead th {\n",
       "        text-align: right;\n",
       "    }\n",
       "</style>\n",
       "<table border=\"1\" class=\"dataframe\">\n",
       "  <thead>\n",
       "    <tr style=\"text-align: right;\">\n",
       "      <th></th>\n",
       "      <th>Model Dataset</th>\n",
       "      <th>Score</th>\n",
       "    </tr>\n",
       "  </thead>\n",
       "  <tbody>\n",
       "    <tr>\n",
       "      <th>0</th>\n",
       "      <td>Scaled Accuracy Score</td>\n",
       "      <td>0.9872</td>\n",
       "    </tr>\n",
       "    <tr>\n",
       "      <th>1</th>\n",
       "      <td>SMOTE Accuracy Score</td>\n",
       "      <td>0.9848</td>\n",
       "    </tr>\n",
       "    <tr>\n",
       "      <th>2</th>\n",
       "      <td>ROS Accuracy Score</td>\n",
       "      <td>0.9848</td>\n",
       "    </tr>\n",
       "  </tbody>\n",
       "</table>\n",
       "</div>"
      ],
      "text/plain": [
       "           Model Dataset   Score\n",
       "0  Scaled Accuracy Score  0.9872\n",
       "1   SMOTE Accuracy Score  0.9848\n",
       "2     ROS Accuracy Score  0.9848"
      ]
     },
     "execution_count": 62,
     "metadata": {},
     "output_type": "execute_result"
    }
   ],
   "source": [
    "# Create the model accuracy scores dataframe\n",
    "accuracy_scores_model = pd.DataFrame({\n",
    "    \"Model Dataset\" : [\"Scaled Accuracy Score\",\n",
    "                       \"SMOTE Accuracy Score\",\n",
    "                       \"ROS Accuracy Score\"],\n",
    "    \"Score\" : [acc_score_scaled,acc_score_smote,acc_score_ros]\n",
    "})\n",
    "\n",
    "# Display the accuracy scores dataframe\n",
    "accuracy_scores_model"
   ]
  },
  {
   "cell_type": "markdown",
   "metadata": {},
   "source": [
    "##### Accuracy Score Conclusions \n",
    "\n",
    "We are not considering the model with the scaled data as the scaled data is inbalanced. The model with SMOTE data produces a higher accuracy score."
   ]
  },
  {
   "cell_type": "markdown",
   "metadata": {},
   "source": [
    "#### Confusion Matrix"
   ]
  },
  {
   "cell_type": "markdown",
   "metadata": {},
   "source": [
    "##### Scaled Data"
   ]
  },
  {
   "cell_type": "code",
   "execution_count": 63,
   "metadata": {},
   "outputs": [
    {
     "data": {
      "text/plain": [
       "Text(33.0, 0.5, 'Predicted')"
      ]
     },
     "execution_count": 63,
     "metadata": {},
     "output_type": "execute_result"
    },
    {
     "data": {
      "image/png": "[encoded data removed]",
      "text/plain": [
       "<Figure size 432x288 with 2 Axes>"
      ]
     },
     "metadata": {
      "needs_background": "light"
     },
     "output_type": "display_data"
    }
   ],
   "source": [
    "# Display the confusion matrix\n",
    "sns.heatmap(cm_df_scaled,\n",
    "            cmap = 'Greens', \n",
    "            fmt = '', \n",
    "            annot = True)\n",
    "\n",
    "# Set plot labels \n",
    "plt.title(\"Random Forest Model: Confusion Matrix\")\n",
    "plt.xlabel(\"Actual\")\n",
    "plt.ylabel(\"Predicted\")"
   ]
  },
  {
   "cell_type": "markdown",
   "metadata": {},
   "source": [
    "##### SMOTE"
   ]
  },
  {
   "cell_type": "code",
   "execution_count": 64,
   "metadata": {},
   "outputs": [
    {
     "data": {
      "text/plain": [
       "Text(33.0, 0.5, 'Predicted')"
      ]
     },
     "execution_count": 64,
     "metadata": {},
     "output_type": "execute_result"
    },
    {
     "data": {
      "image/png": "[encoded data removed]",
      "text/plain": [
       "<Figure size 432x288 with 2 Axes>"
      ]
     },
     "metadata": {
      "needs_background": "light"
     },
     "output_type": "display_data"
    }
   ],
   "source": [
    "# Display the confusion matrix\n",
    "sns.heatmap(cm_df_smote,\n",
    "            cmap = 'Greens', \n",
    "            fmt = '', \n",
    "            annot = True)\n",
    "\n",
    "# Set plot labels \n",
    "plt.title(\"Random Forest Model: Confusion Matrix\")\n",
    "plt.xlabel(\"Actual\")\n",
    "plt.ylabel(\"Predicted\")"
   ]
  },
  {
   "cell_type": "markdown",
   "metadata": {},
   "source": [
    "##### ROS"
   ]
  },
  {
   "cell_type": "code",
   "execution_count": 65,
   "metadata": {},
   "outputs": [
    {
     "data": {
      "text/plain": [
       "Text(33.0, 0.5, 'Predicted')"
      ]
     },
     "execution_count": 65,
     "metadata": {},
     "output_type": "execute_result"
    },
    {
     "data": {
      "image/png": "[encoded data removed]",
      "text/plain": [
       "<Figure size 432x288 with 2 Axes>"
      ]
     },
     "metadata": {
      "needs_background": "light"
     },
     "output_type": "display_data"
    }
   ],
   "source": [
    "# Display the confusion matrix\n",
    "sns.heatmap(cm_df_ros,\n",
    "            cmap = 'Greens', \n",
    "            fmt = '', \n",
    "            annot = True)\n",
    "\n",
    "# Set plot labels \n",
    "plt.title(\"Random Forest Model: Confusion Matrix\")\n",
    "plt.xlabel(\"Actual\")\n",
    "plt.ylabel(\"Predicted\")"
   ]
  },
  {
   "cell_type": "markdown",
   "metadata": {},
   "source": [
    "#### Classification Report"
   ]
  },
  {
   "cell_type": "markdown",
   "metadata": {},
   "source": [
    "##### Scaled"
   ]
  },
  {
   "cell_type": "code",
   "execution_count": 66,
   "metadata": {},
   "outputs": [
    {
     "name": "stdout",
     "output_type": "stream",
     "text": [
      "              precision    recall  f1-score   support\n",
      "\n",
      "           0       0.99      1.00      0.99      1130\n",
      "           1       0.98      0.88      0.93       120\n",
      "\n",
      "    accuracy                           0.99      1250\n",
      "   macro avg       0.98      0.94      0.96      1250\n",
      "weighted avg       0.99      0.99      0.99      1250\n",
      "\n"
     ]
    }
   ],
   "source": [
    "print(rf_cassrep_scaled)"
   ]
  },
  {
   "cell_type": "markdown",
   "metadata": {},
   "source": [
    "##### SMOTE"
   ]
  },
  {
   "cell_type": "code",
   "execution_count": 67,
   "metadata": {},
   "outputs": [
    {
     "name": "stdout",
     "output_type": "stream",
     "text": [
      "              precision    recall  f1-score   support\n",
      "\n",
      "           0       0.99      0.99      0.99      1130\n",
      "           1       0.91      0.93      0.92       120\n",
      "\n",
      "    accuracy                           0.98      1250\n",
      "   macro avg       0.95      0.96      0.96      1250\n",
      "weighted avg       0.98      0.98      0.98      1250\n",
      "\n"
     ]
    }
   ],
   "source": [
    "print(rf_cassrep_smote)"
   ]
  },
  {
   "cell_type": "markdown",
   "metadata": {},
   "source": [
    "##### ROS"
   ]
  },
  {
   "cell_type": "code",
   "execution_count": 68,
   "metadata": {},
   "outputs": [
    {
     "name": "stdout",
     "output_type": "stream",
     "text": [
      "              precision    recall  f1-score   support\n",
      "\n",
      "           0       0.99      0.99      0.99      1130\n",
      "           1       0.93      0.91      0.92       120\n",
      "\n",
      "    accuracy                           0.98      1250\n",
      "   macro avg       0.96      0.95      0.96      1250\n",
      "weighted avg       0.98      0.98      0.98      1250\n",
      "\n"
     ]
    }
   ],
   "source": [
    "print(rf_cassrep_ros)"
   ]
  },
  {
   "cell_type": "markdown",
   "metadata": {},
   "source": [
    "#### MSE"
   ]
  },
  {
   "cell_type": "code",
   "execution_count": 69,
   "metadata": {},
   "outputs": [
    {
     "data": {
      "text/html": [
       "<div>\n",
       "<style scoped>\n",
       "    .dataframe tbody tr th:only-of-type {\n",
       "        vertical-align: middle;\n",
       "    }\n",
       "\n",
       "    .dataframe tbody tr th {\n",
       "        vertical-align: top;\n",
       "    }\n",
       "\n",
       "    .dataframe thead th {\n",
       "        text-align: right;\n",
       "    }\n",
       "</style>\n",
       "<table border=\"1\" class=\"dataframe\">\n",
       "  <thead>\n",
       "    <tr style=\"text-align: right;\">\n",
       "      <th></th>\n",
       "      <th>Model Dataset</th>\n",
       "      <th>Score</th>\n",
       "    </tr>\n",
       "  </thead>\n",
       "  <tbody>\n",
       "    <tr>\n",
       "      <th>0</th>\n",
       "      <td>Scaled MSE</td>\n",
       "      <td>0.0128</td>\n",
       "    </tr>\n",
       "    <tr>\n",
       "      <th>1</th>\n",
       "      <td>SMOTE MSE</td>\n",
       "      <td>0.0152</td>\n",
       "    </tr>\n",
       "    <tr>\n",
       "      <th>2</th>\n",
       "      <td>ROS MSE</td>\n",
       "      <td>0.0152</td>\n",
       "    </tr>\n",
       "  </tbody>\n",
       "</table>\n",
       "</div>"
      ],
      "text/plain": [
       "  Model Dataset   Score\n",
       "0    Scaled MSE  0.0128\n",
       "1     SMOTE MSE  0.0152\n",
       "2       ROS MSE  0.0152"
      ]
     },
     "execution_count": 69,
     "metadata": {},
     "output_type": "execute_result"
    }
   ],
   "source": [
    "# Create the model MSE scores dataframe\n",
    "mse_scores_model = pd.DataFrame({\n",
    "    \"Model Dataset\" : [\"Scaled MSE\",\n",
    "                       \"SMOTE MSE\",\n",
    "                       \"ROS MSE\"],\n",
    "    \"Score\" : [mse_scaled,mse_smote,mse_ros]\n",
    "})\n",
    "\n",
    "# Display the MSE scores dataframe\n",
    "mse_scores_model"
   ]
  },
  {
   "cell_type": "markdown",
   "metadata": {},
   "source": [
    "#### ROC curve"
   ]
  },
  {
   "cell_type": "markdown",
   "metadata": {},
   "source": [
    "##### Scaled"
   ]
  },
  {
   "cell_type": "code",
   "execution_count": 70,
   "metadata": {},
   "outputs": [
    {
     "data": {
      "text/plain": [
       "<sklearn.metrics._plot.roc_curve.RocCurveDisplay at 0x21b5352a848>"
      ]
     },
     "execution_count": 70,
     "metadata": {},
     "output_type": "execute_result"
    },
    {
     "data": {
      "image/png": "[encoded data removed]",
      "text/plain": [
       "<Figure size 432x288 with 1 Axes>"
      ]
     },
     "metadata": {
      "needs_background": "light"
     },
     "output_type": "display_data"
    }
   ],
   "source": [
    "svc_disp_scaled.plot()"
   ]
  },
  {
   "cell_type": "markdown",
   "metadata": {},
   "source": [
    "##### SMOTE"
   ]
  },
  {
   "cell_type": "code",
   "execution_count": 71,
   "metadata": {},
   "outputs": [
    {
     "data": {
      "text/plain": [
       "<sklearn.metrics._plot.roc_curve.RocCurveDisplay at 0x21b53759c08>"
      ]
     },
     "execution_count": 71,
     "metadata": {},
     "output_type": "execute_result"
    },
    {
     "data": {
      "image/png": "[encoded data removed]",
      "text/plain": [
       "<Figure size 432x288 with 1 Axes>"
      ]
     },
     "metadata": {
      "needs_background": "light"
     },
     "output_type": "display_data"
    }
   ],
   "source": [
    "svc_disp_smote.plot()"
   ]
  },
  {
   "cell_type": "markdown",
   "metadata": {},
   "source": [
    "##### ROS"
   ]
  },
  {
   "cell_type": "code",
   "execution_count": 72,
   "metadata": {},
   "outputs": [
    {
     "data": {
      "text/plain": [
       "<sklearn.metrics._plot.roc_curve.RocCurveDisplay at 0x21b53a0fac8>"
      ]
     },
     "execution_count": 72,
     "metadata": {},
     "output_type": "execute_result"
    },
    {
     "data": {
      "image/png": "[encoded data removed]",
      "text/plain": [
       "<Figure size 432x288 with 1 Axes>"
      ]
     },
     "metadata": {
      "needs_background": "light"
     },
     "output_type": "display_data"
    }
   ],
   "source": [
    "svc_disp_ros.plot()"
   ]
  },
  {
   "cell_type": "markdown",
   "metadata": {},
   "source": [
    "#### F-Beta Scores"
   ]
  },
  {
   "cell_type": "code",
   "execution_count": 73,
   "metadata": {},
   "outputs": [
    {
     "data": {
      "text/html": [
       "<div>\n",
       "<style scoped>\n",
       "    .dataframe tbody tr th:only-of-type {\n",
       "        vertical-align: middle;\n",
       "    }\n",
       "\n",
       "    .dataframe tbody tr th {\n",
       "        vertical-align: top;\n",
       "    }\n",
       "\n",
       "    .dataframe thead th {\n",
       "        text-align: right;\n",
       "    }\n",
       "</style>\n",
       "<table border=\"1\" class=\"dataframe\">\n",
       "  <thead>\n",
       "    <tr style=\"text-align: right;\">\n",
       "      <th></th>\n",
       "      <th>Model</th>\n",
       "      <th>Score</th>\n",
       "    </tr>\n",
       "  </thead>\n",
       "  <tbody>\n",
       "    <tr>\n",
       "      <th>0</th>\n",
       "      <td>Scaled</td>\n",
       "      <td>0.960145</td>\n",
       "    </tr>\n",
       "    <tr>\n",
       "      <th>1</th>\n",
       "      <td>SMOTE</td>\n",
       "      <td>0.915033</td>\n",
       "    </tr>\n",
       "    <tr>\n",
       "      <th>2</th>\n",
       "      <td>ROS</td>\n",
       "      <td>0.926871</td>\n",
       "    </tr>\n",
       "  </tbody>\n",
       "</table>\n",
       "</div>"
      ],
      "text/plain": [
       "    Model     Score\n",
       "0  Scaled  0.960145\n",
       "1   SMOTE  0.915033\n",
       "2     ROS  0.926871"
      ]
     },
     "execution_count": 73,
     "metadata": {},
     "output_type": "execute_result"
    }
   ],
   "source": [
    "# Create the model Fbeta\n",
    "fbeta_df = pd.DataFrame({\n",
    "    \"Model\" : [\"Scaled\", \n",
    "                       \"SMOTE\", \n",
    "                       \"ROS\"], \n",
    "    \"Score\" : [fbeta_scaled, fbeta_SMOTE, fbeta_ROS]\n",
    "})\n",
    "\n",
    "# Display the dataframe\n",
    "fbeta_df"
   ]
  },
  {
   "cell_type": "markdown",
   "metadata": {},
   "source": [
    "##### F-Beta Scores Conclusions:"
   ]
  },
  {
   "cell_type": "markdown",
   "metadata": {},
   "source": [
    "F1 Beta weighs higher the recall than the precision. \n",
    "We have identified the recall as the most relevant matric for evaluation thus we are using the F1 Beta score. We are disregarding the model feeded with the scaled only data as it is imbalanced. From the resulting two, the onw with the highest score is the one with ROS data."
   ]
  },
  {
   "cell_type": "markdown",
   "metadata": {},
   "source": [
    "### Final Analysis:"
   ]
  },
  {
   "cell_type": "markdown",
   "metadata": {},
   "source": [
    "Objective: Get predictions regardining the likelihood of a customer taking out a personal loan. \n",
    "\n",
    "Recall and F1 Beta as evaluation metric: We identified Recall as the most relevan metric to compare the models. F1 Beta gives a higher weight to recall thus we are using this metric instead of the regular F1.\n",
    "\n",
    "**Model Selected:** ROS Random Forest Model\n",
    "\n",
    "* Recall: 99%\n",
    "* Weighted F1 Score: 92.68\n",
    "* Accuracy Score: 98\n",
    "* Balanced Accuracy Score: 96\n",
    "* ROC-AUC: 96\n",
    "\n",
    "---\n"
   ]
  }
 ],
 "metadata": {
  "kernelspec": {
   "display_name": "Python 3.7.7 64-bit ('pyvizenv': conda)",
   "language": "python",
   "name": "python37764bitpyvizenvconda594889b1a87949ab9fc74bcf250df1c0"
  },
  "language_info": {
   "codemirror_mode": {
    "name": "ipython",
    "version": 3
   },
   "file_extension": ".py",
   "mimetype": "text/x-python",
   "name": "python",
   "nbconvert_exporter": "python",
   "pygments_lexer": "ipython3",
   "version": "3.7.7"
  }
 },
 "nbformat": 4,
 "nbformat_minor": 4
}