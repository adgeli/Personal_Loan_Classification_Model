{
 "cells": [
  {
   "cell_type": "markdown",
   "metadata": {},
   "source": [
    "# Machine Learning Model: Logistic Regression\n",
    "\n",
    "### Background \n",
    "\n",
    "The following notebook seeks to apply a logistic regression model based on scaled date, random oversampled (ROS) and SMOTE data to determine a predictive model. The results will then be evaluated based on the following metrics; \n",
    "\n",
    "1. Balanced Accuracy Score & Accuracy Score\n",
    "2. Confusion Matrix\n",
    "3. Classification Report \n",
    "4. F-Beta Score\n",
    "5. ROC - AUC\n",
    "\n",
    "\n",
    "### Objective \n",
    "\n",
    "The purpose is to evaluate the machine learning model's predictive capabilities in regards to determining the likelihood account holders of a financial insitution would be to take out a personal loan. Additionally, the models performance will be measured against two other machine learning algorithms; Logistic Regression and Random Forest Classifier. \n",
    "\n",
    "---\n"
   ]
  },
  {
   "cell_type": "markdown",
   "metadata": {},
   "source": [
    "## Initial Imports & Dependencies"
   ]
  },
  {
   "cell_type": "code",
   "execution_count": 1,
   "metadata": {},
   "outputs": [],
   "source": [
    "# Importing Libraries & Dependencies\n",
    "import pandas as pd\n",
    "import seaborn as sns\n",
    "import numpy as np\n",
    "import csv\n",
    "from pathlib import Path\n",
    "\n",
    "import matplotlib.pyplot as plt\n",
    "%matplotlib inline"
   ]
  },
  {
   "cell_type": "code",
   "execution_count": 2,
   "metadata": {},
   "outputs": [],
   "source": [
    "# Import SK-LEARN libraries \n",
    "from sklearn.linear_model import LogisticRegression\n",
    "from sklearn.metrics import balanced_accuracy_score, accuracy_score\n",
    "from sklearn.metrics import confusion_matrix\n",
    "from sklearn.metrics import classification_report\n",
    "from sklearn.metrics import f1_score, fbeta_score\n",
    "from sklearn.metrics import plot_roc_curve\n",
    "from sklearn.metrics import roc_auc_score\n",
    "from joblib import dump, load"
   ]
  },
  {
   "cell_type": "code",
   "execution_count": 3,
   "metadata": {},
   "outputs": [],
   "source": [
    "# Import Warnings\n",
    "import warnings\n",
    "warnings.filterwarnings('ignore')"
   ]
  },
  {
   "cell_type": "markdown",
   "metadata": {},
   "source": [
    "---\n",
    "\n",
    "## Load Datasets"
   ]
  },
  {
   "cell_type": "code",
   "execution_count": 4,
   "metadata": {},
   "outputs": [],
   "source": [
    "\n",
    "# To import the X_train_smote, X_train_ros, X_train_scaled, X_test_scaled\n",
    "X_train_smote = np.loadtxt('resources/X_train_smote.csv', delimiter=',')\n",
    "X_train_ros = np.loadtxt('resources/X_train_ros.csv', delimiter=',')\n",
    "X_train_scaled = np.loadtxt('resources/X_train_scaled.csv', delimiter=',')\n",
    "X_test_scaled = np.loadtxt('resources/X_test_scaled.csv', delimiter=',')\n",
    "\n",
    "# To import y_train_smote, y_train_ros\n",
    "y_train_smote = pd.read_csv('resources/y_train_smote.csv', sep=',', header=0, squeeze=True)\n",
    "y_train_ros = pd.read_csv('resources/y_train_ros.csv', sep=',', header=0, squeeze=True)\n",
    "\n",
    "# To import y_train, y_test\n",
    "y_train = pd.read_csv('resources/y_train.csv', sep=',', header=0, squeeze=True, index_col=0)\n",
    "y_test = pd.read_csv('resources/y_test.csv', sep=',', header=0, squeeze=True, index_col=0)\n"
   ]
  },
  {
   "cell_type": "markdown",
   "metadata": {},
   "source": [
    "---\n",
    "\n",
    "### Simple Logistical Regression\n",
    "\n",
    "The first part of the Logistical Regression notebook uses the scaled training and testing data to develop a predictive model.\n",
    "\n",
    "**To evaluate the model the following metrics will be applied:**\n",
    "\n",
    "1. Balanced Accuracy Score & Accuracy Score\n",
    "2. Confusion Matrix\n",
    "3. Classification Report \n",
    "4. F-Beta Score\n",
    "5. ROC - AUC\n",
    "6. Feature Importance \n",
    "\n",
    "#### Set the Model"
   ]
  },
  {
   "cell_type": "code",
   "execution_count": 5,
   "metadata": {},
   "outputs": [
    {
     "data": {
      "text/plain": [
       "LogisticRegression(random_state=42)"
      ]
     },
     "execution_count": 5,
     "metadata": {},
     "output_type": "execute_result"
    }
   ],
   "source": [
    "model = LogisticRegression(solver='lbfgs', random_state=42)\n",
    "model"
   ]
  },
  {
   "cell_type": "markdown",
   "metadata": {},
   "source": [
    "#### Fit (train) the scaled dataset to the model"
   ]
  },
  {
   "cell_type": "code",
   "execution_count": 6,
   "metadata": {},
   "outputs": [
    {
     "data": {
      "text/plain": [
       "LogisticRegression(random_state=42)"
      ]
     },
     "execution_count": 6,
     "metadata": {},
     "output_type": "execute_result"
    }
   ],
   "source": [
    "model.fit(X_train_scaled, y_train)"
   ]
  },
  {
   "cell_type": "markdown",
   "metadata": {},
   "source": [
    "#### Score the model using the test data"
   ]
  },
  {
   "cell_type": "code",
   "execution_count": 7,
   "metadata": {},
   "outputs": [
    {
     "name": "stdout",
     "output_type": "stream",
     "text": [
      "Training Data Score: 0.9530666666666666\n",
      "Testing Data Score: 0.9472\n"
     ]
    }
   ],
   "source": [
    "print(f\"Training Data Score: {model.score(X_train_scaled, y_train)}\")\n",
    "print(f\"Testing Data Score: {model.score(X_test_scaled, y_test)}\")"
   ]
  },
  {
   "cell_type": "markdown",
   "metadata": {},
   "source": [
    "#### Model Predictions"
   ]
  },
  {
   "cell_type": "code",
   "execution_count": 8,
   "metadata": {},
   "outputs": [
    {
     "data": {
      "text/html": [
       "<div>\n",
       "<style scoped>\n",
       "    .dataframe tbody tr th:only-of-type {\n",
       "        vertical-align: middle;\n",
       "    }\n",
       "\n",
       "    .dataframe tbody tr th {\n",
       "        vertical-align: top;\n",
       "    }\n",
       "\n",
       "    .dataframe thead th {\n",
       "        text-align: right;\n",
       "    }\n",
       "</style>\n",
       "<table border=\"1\" class=\"dataframe\">\n",
       "  <thead>\n",
       "    <tr style=\"text-align: right;\">\n",
       "      <th></th>\n",
       "      <th>Prediction</th>\n",
       "      <th>Actual</th>\n",
       "    </tr>\n",
       "  </thead>\n",
       "  <tbody>\n",
       "    <tr>\n",
       "      <th>0</th>\n",
       "      <td>0</td>\n",
       "      <td>0</td>\n",
       "    </tr>\n",
       "    <tr>\n",
       "      <th>1</th>\n",
       "      <td>0</td>\n",
       "      <td>0</td>\n",
       "    </tr>\n",
       "    <tr>\n",
       "      <th>2</th>\n",
       "      <td>0</td>\n",
       "      <td>0</td>\n",
       "    </tr>\n",
       "    <tr>\n",
       "      <th>3</th>\n",
       "      <td>0</td>\n",
       "      <td>0</td>\n",
       "    </tr>\n",
       "    <tr>\n",
       "      <th>4</th>\n",
       "      <td>0</td>\n",
       "      <td>0</td>\n",
       "    </tr>\n",
       "  </tbody>\n",
       "</table>\n",
       "</div>"
      ],
      "text/plain": [
       "   Prediction  Actual\n",
       "0           0       0\n",
       "1           0       0\n",
       "2           0       0\n",
       "3           0       0\n",
       "4           0       0"
      ]
     },
     "execution_count": 8,
     "metadata": {},
     "output_type": "execute_result"
    }
   ],
   "source": [
    "y_pred_scale = model.predict(X_test_scaled)\n",
    "results = pd.DataFrame({\"Prediction\": y_pred_scale, \"Actual\": y_test}).reset_index(drop=True)\n",
    "results.head()"
   ]
  },
  {
   "cell_type": "markdown",
   "metadata": {},
   "source": [
    "#### 1. Balanced Accuracy Score & Accuracy Score"
   ]
  },
  {
   "cell_type": "code",
   "execution_count": 9,
   "metadata": {},
   "outputs": [
    {
     "name": "stdout",
     "output_type": "stream",
     "text": [
      "Scaled Logistic Regression Balanced Accuracy Score Model is: 0.7920353982300885\n"
     ]
    }
   ],
   "source": [
    "# Evaluate the predict model through the Balanced Accuracy Score metric\n",
    "bas_scale = balanced_accuracy_score(y_test, y_pred_scale)\n",
    "\n",
    "# Evaluate the predict model through the Balanced Accuracy Score metric\n",
    "print(f\"Scaled Logistic Regression Balanced Accuracy Score Model is: {bas_scale}\")"
   ]
  },
  {
   "cell_type": "code",
   "execution_count": 10,
   "metadata": {},
   "outputs": [
    {
     "name": "stdout",
     "output_type": "stream",
     "text": [
      "Scaled Logistic Regression Accuracy Score Model is: 0.9472\n"
     ]
    }
   ],
   "source": [
    "# Evaluate the predict model through the Accuracy Score metric\n",
    "as_scale = accuracy_score(y_test, y_pred_scale)\n",
    "\n",
    "# Evaluate the predict model through the Accuracy Score metric\n",
    "print(f\"Scaled Logistic Regression Accuracy Score Model is: {as_scale}\")"
   ]
  },
  {
   "cell_type": "markdown",
   "metadata": {},
   "source": [
    "#### 2. Confusion Matrix"
   ]
  },
  {
   "cell_type": "code",
   "execution_count": 11,
   "metadata": {},
   "outputs": [
    {
     "data": {
      "text/plain": [
       "Text(33.0, 0.5, 'Predicted')"
      ]
     },
     "execution_count": 11,
     "metadata": {},
     "output_type": "execute_result"
    },
    {
     "data": {
      "image/png": "[encoded data removed]",
      "text/plain": [
       "<Figure size 432x288 with 2 Axes>"
      ]
     },
     "metadata": {
      "needs_background": "light"
     },
     "output_type": "display_data"
    }
   ],
   "source": [
    "cm = confusion_matrix(y_test, y_pred_scale)\n",
    "\n",
    "# Display the confusion matrix\n",
    "sns.heatmap(cm,\n",
    "            cmap = 'Blues', \n",
    "            fmt = '', \n",
    "            annot = True)\n",
    "\n",
    "# Set plot labels \n",
    "plt.title(\"Scaled Model: Confusion Matrix\")\n",
    "plt.xlabel(\"Actual\")\n",
    "plt.ylabel(\"Predicted\")"
   ]
  },
  {
   "cell_type": "markdown",
   "metadata": {},
   "source": [
    "#### 3. Classification Report"
   ]
  },
  {
   "cell_type": "code",
   "execution_count": 12,
   "metadata": {},
   "outputs": [
    {
     "name": "stdout",
     "output_type": "stream",
     "text": [
      "Scaled Classification Report:\n",
      "              precision    recall  f1-score   support\n",
      "\n",
      "           0       0.96      0.98      0.97      1130\n",
      "           1       0.80      0.60      0.69       120\n",
      "\n",
      "    accuracy                           0.95      1250\n",
      "   macro avg       0.88      0.79      0.83      1250\n",
      "weighted avg       0.94      0.95      0.94      1250\n",
      "\n"
     ]
    }
   ],
   "source": [
    "# Classification report title print statement \n",
    "print(\"Scaled Classification Report:\")\n",
    "\n",
    "print(classification_report(y_test, y_pred_scale))\n"
   ]
  },
  {
   "cell_type": "markdown",
   "metadata": {},
   "source": [
    "#### 4. F-Beta Score"
   ]
  },
  {
   "cell_type": "code",
   "execution_count": 13,
   "metadata": {},
   "outputs": [
    {
     "name": "stdout",
     "output_type": "stream",
     "text": [
      "F1 Beta Score: 0.750000\n"
     ]
    }
   ],
   "source": [
    "# Calculate Beta F1 Score\n",
    "fbeta_scale = fbeta_score(y_test, y_pred_scale,beta=0.5)\n",
    "\n",
    "# Print the F1 score results\n",
    "print(\"F1 Beta Score: %f\" % (fbeta_scale))"
   ]
  },
  {
   "cell_type": "markdown",
   "metadata": {},
   "source": [
    "#### 5. ROC-AUC"
   ]
  },
  {
   "cell_type": "code",
   "execution_count": 14,
   "metadata": {},
   "outputs": [
    {
     "data": {
      "image/png": "[encoded data removed]",
      "text/plain": [
       "<Figure size 432x288 with 1 Axes>"
      ]
     },
     "metadata": {
      "needs_background": "light"
     },
     "output_type": "display_data"
    },
    {
     "name": "stdout",
     "output_type": "stream",
     "text": [
      "Scaled Data Model: ROC-AUC Score: 0.7920353982300885\n"
     ]
    }
   ],
   "source": [
    "# Create the ROC curve \n",
    "roc_model_curve = plot_roc_curve(model, X_test_scaled, y_test)\n",
    "roc_auc_scale = roc_auc_score(y_test, y_pred_scale)\n",
    "\n",
    "# Set plot labels\n",
    "plt.title(\"Scaled Data Model: Logistic Regression ROC\")\n",
    "\n",
    "# Plot the ROC curve\n",
    "plt.show()\n",
    "\n",
    "# Print the ROC-AUC Score\n",
    "print(\"Scaled Data Model: ROC-AUC Score:\", roc_auc_scale)"
   ]
  },
  {
   "cell_type": "code",
   "execution_count": 15,
   "metadata": {},
   "outputs": [
    {
     "data": {
      "text/plain": [
       "['models/log_scaled_model.joblib']"
      ]
     },
     "execution_count": 15,
     "metadata": {},
     "output_type": "execute_result"
    }
   ],
   "source": [
    "# Export model for load to dashboard\n",
    "dump(model, 'models/log_scaled_model.joblib')"
   ]
  },
  {
   "cell_type": "markdown",
   "metadata": {},
   "source": [
    "---\n",
    "\n",
    "## Logistical Regression Model + SMOTE\n",
    "\n",
    "The second part of the Logistical Regression notebook uses the SMOTE training and testing data to develop a predictive model."
   ]
  },
  {
   "cell_type": "markdown",
   "metadata": {},
   "source": [
    "#### To evaluate the model the following metrics will be applied:\n",
    "\n",
    "1. Balanced Accuracy & Accuracy Score\n",
    "2. Confusion Matrix\n",
    "3. Classification Report\n",
    "4. F-Beta Score\n",
    "5. ROC-AUC"
   ]
  },
  {
   "cell_type": "markdown",
   "metadata": {},
   "source": [
    "#### Fit (train) or model using the training data"
   ]
  },
  {
   "cell_type": "code",
   "execution_count": 16,
   "metadata": {},
   "outputs": [
    {
     "data": {
      "text/plain": [
       "LogisticRegression(random_state=42)"
      ]
     },
     "execution_count": 16,
     "metadata": {},
     "output_type": "execute_result"
    }
   ],
   "source": [
    "model.fit(X_train_smote, y_train_smote)"
   ]
  },
  {
   "cell_type": "markdown",
   "metadata": {},
   "source": [
    "#### Make Predictions"
   ]
  },
  {
   "cell_type": "code",
   "execution_count": 17,
   "metadata": {},
   "outputs": [
    {
     "data": {
      "text/html": [
       "<div>\n",
       "<style scoped>\n",
       "    .dataframe tbody tr th:only-of-type {\n",
       "        vertical-align: middle;\n",
       "    }\n",
       "\n",
       "    .dataframe tbody tr th {\n",
       "        vertical-align: top;\n",
       "    }\n",
       "\n",
       "    .dataframe thead th {\n",
       "        text-align: right;\n",
       "    }\n",
       "</style>\n",
       "<table border=\"1\" class=\"dataframe\">\n",
       "  <thead>\n",
       "    <tr style=\"text-align: right;\">\n",
       "      <th></th>\n",
       "      <th>Prediction</th>\n",
       "      <th>Actual</th>\n",
       "    </tr>\n",
       "  </thead>\n",
       "  <tbody>\n",
       "    <tr>\n",
       "      <th>0</th>\n",
       "      <td>0</td>\n",
       "      <td>0</td>\n",
       "    </tr>\n",
       "    <tr>\n",
       "      <th>1</th>\n",
       "      <td>0</td>\n",
       "      <td>0</td>\n",
       "    </tr>\n",
       "    <tr>\n",
       "      <th>2</th>\n",
       "      <td>0</td>\n",
       "      <td>0</td>\n",
       "    </tr>\n",
       "    <tr>\n",
       "      <th>3</th>\n",
       "      <td>0</td>\n",
       "      <td>0</td>\n",
       "    </tr>\n",
       "    <tr>\n",
       "      <th>4</th>\n",
       "      <td>1</td>\n",
       "      <td>0</td>\n",
       "    </tr>\n",
       "  </tbody>\n",
       "</table>\n",
       "</div>"
      ],
      "text/plain": [
       "   Prediction  Actual\n",
       "0           0       0\n",
       "1           0       0\n",
       "2           0       0\n",
       "3           0       0\n",
       "4           1       0"
      ]
     },
     "execution_count": 17,
     "metadata": {},
     "output_type": "execute_result"
    }
   ],
   "source": [
    "y_pred_smote = model.predict(X_test_scaled)\n",
    "results = pd.DataFrame({\"Prediction\": y_pred_smote, \"Actual\": y_test}).reset_index(drop=True)\n",
    "results.head()"
   ]
  },
  {
   "cell_type": "markdown",
   "metadata": {},
   "source": [
    "#### 1. Balanced Accuracy Score & Accuracy Score"
   ]
  },
  {
   "cell_type": "code",
   "execution_count": 18,
   "metadata": {},
   "outputs": [
    {
     "name": "stdout",
     "output_type": "stream",
     "text": [
      "SMOTE Logistic Regression Balanced Accuracy Score Model is: 0.8632005899705015\n"
     ]
    }
   ],
   "source": [
    "# Evaluate the predict model through the Balanced Accuracy Score metric\n",
    "bas_smote = balanced_accuracy_score(y_test, y_pred_smote)\n",
    "\n",
    "# Evaluate the predict model through the Balanced Accuracy Score metric\n",
    "print(f\"SMOTE Logistic Regression Balanced Accuracy Score Model is: {bas_smote}\")"
   ]
  },
  {
   "cell_type": "code",
   "execution_count": 19,
   "metadata": {},
   "outputs": [
    {
     "name": "stdout",
     "output_type": "stream",
     "text": [
      "SMOTE Logistic Regression Accuracy Score Model is: 0.9008\n"
     ]
    }
   ],
   "source": [
    "# Evaluate the predict model through the Accuracy Score metric\n",
    "as_smote = accuracy_score(y_test, y_pred_smote)\n",
    "\n",
    "# Evaluate the predict model through the Accuracy Score metric\n",
    "print(f\"SMOTE Logistic Regression Accuracy Score Model is: {as_smote}\")"
   ]
  },
  {
   "cell_type": "markdown",
   "metadata": {},
   "source": [
    "#### 2. Confusion Matrix"
   ]
  },
  {
   "cell_type": "code",
   "execution_count": 20,
   "metadata": {},
   "outputs": [
    {
     "data": {
      "text/plain": [
       "Text(33.0, 0.5, 'Predicted')"
      ]
     },
     "execution_count": 20,
     "metadata": {},
     "output_type": "execute_result"
    },
    {
     "data": {
      "image/png": "[encoded data removed]",
      "text/plain": [
       "<Figure size 432x288 with 2 Axes>"
      ]
     },
     "metadata": {
      "needs_background": "light"
     },
     "output_type": "display_data"
    }
   ],
   "source": [
    "cm = confusion_matrix(y_test, y_pred_smote)\n",
    "\n",
    "# Display the confusion matrix\n",
    "sns.heatmap(cm,\n",
    "            cmap = 'Blues', \n",
    "            fmt = '', \n",
    "            annot = True)\n",
    "\n",
    "# Set plot labels \n",
    "plt.title(\"SMOTE Model: Confusion Matrix\")\n",
    "plt.xlabel(\"Actual\")\n",
    "plt.ylabel(\"Predicted\")"
   ]
  },
  {
   "cell_type": "markdown",
   "metadata": {},
   "source": [
    "#### 3. Classification Report"
   ]
  },
  {
   "cell_type": "code",
   "execution_count": 21,
   "metadata": {},
   "outputs": [
    {
     "name": "stdout",
     "output_type": "stream",
     "text": [
      "SMOTE Classification Report:\n",
      "              precision    recall  f1-score   support\n",
      "\n",
      "           0       0.98      0.91      0.94      1130\n",
      "           1       0.49      0.82      0.61       120\n",
      "\n",
      "    accuracy                           0.90      1250\n",
      "   macro avg       0.73      0.86      0.78      1250\n",
      "weighted avg       0.93      0.90      0.91      1250\n",
      "\n"
     ]
    }
   ],
   "source": [
    "# Classification report title print statement \n",
    "print(\"SMOTE Classification Report:\")\n",
    "\n",
    "# Create the classification report\n",
    "print(classification_report(y_test, y_pred_smote))"
   ]
  },
  {
   "cell_type": "markdown",
   "metadata": {},
   "source": [
    "#### 4. F-Beta Score"
   ]
  },
  {
   "cell_type": "code",
   "execution_count": 22,
   "metadata": {},
   "outputs": [
    {
     "name": "stdout",
     "output_type": "stream",
     "text": [
      "F1 Beta Score: 0.532609\n"
     ]
    }
   ],
   "source": [
    "# Calculate Beta F1 Score\n",
    "fbeta_smote = fbeta_score(y_test, y_pred_smote,beta=0.5)\n",
    "\n",
    "# Print the F1 score results\n",
    "print(\"F1 Beta Score: %f\" % (fbeta_score(y_test, y_pred_smote, beta=0.5)))"
   ]
  },
  {
   "cell_type": "markdown",
   "metadata": {},
   "source": [
    "#### 5. ROC-AUC"
   ]
  },
  {
   "cell_type": "code",
   "execution_count": 23,
   "metadata": {},
   "outputs": [
    {
     "data": {
      "image/png": "[encoded data removed]",
      "text/plain": [
       "<Figure size 432x288 with 1 Axes>"
      ]
     },
     "metadata": {
      "needs_background": "light"
     },
     "output_type": "display_data"
    },
    {
     "name": "stdout",
     "output_type": "stream",
     "text": [
      "SMOTE Data Model: ROC-AUC Score: 0.8632005899705015\n"
     ]
    }
   ],
   "source": [
    "# Create the ROC curve \n",
    "roc_model_curve = plot_roc_curve(model, X_test_scaled, y_test)\n",
    "roc_auc_smote = roc_auc_score(y_test, y_pred_smote)\n",
    "\n",
    "# Set plot labels\n",
    "plt.title(\"SMOTE Data Model: Logistic Regression ROC\")\n",
    "\n",
    "# Plot the ROC curve\n",
    "plt.show()\n",
    "\n",
    "# Print the ROC-AUC Score\n",
    "print(\"SMOTE Data Model: ROC-AUC Score:\", roc_auc_smote)"
   ]
  },
  {
   "cell_type": "code",
   "execution_count": 24,
   "metadata": {},
   "outputs": [
    {
     "data": {
      "text/plain": [
       "['models/log_smote_model.joblib']"
      ]
     },
     "execution_count": 24,
     "metadata": {},
     "output_type": "execute_result"
    }
   ],
   "source": [
    "# Export model for load to dashboard\n",
    "dump(model, 'models/log_smote_model.joblib')"
   ]
  },
  {
   "cell_type": "markdown",
   "metadata": {},
   "source": [
    "---\n",
    "\n",
    "## Logistical Regression Model + Random Oversampling (ROS)\n",
    "\n",
    "The third part of the Logistical Regression notebook uses the ROS training and testing data to develop a predictive model."
   ]
  },
  {
   "cell_type": "markdown",
   "metadata": {},
   "source": [
    "#### To evaluate the model the following metrics will be applied:\n",
    "\n",
    "1. Balanced Accuracy & Accuracy Score\n",
    "2. Confusion Matrix\n",
    "3. Classification Report\n",
    "4. Mean-Squared-Error & Root Mean-Squared-Error\n",
    "5. ROC-AUC"
   ]
  },
  {
   "cell_type": "markdown",
   "metadata": {},
   "source": [
    "#### Fit (train) or model using the training data"
   ]
  },
  {
   "cell_type": "code",
   "execution_count": 25,
   "metadata": {},
   "outputs": [
    {
     "data": {
      "text/plain": [
       "LogisticRegression(random_state=42)"
      ]
     },
     "execution_count": 25,
     "metadata": {},
     "output_type": "execute_result"
    }
   ],
   "source": [
    "model.fit(X_train_ros, y_train_ros)"
   ]
  },
  {
   "cell_type": "markdown",
   "metadata": {},
   "source": [
    "#### Make Predictions"
   ]
  },
  {
   "cell_type": "code",
   "execution_count": 26,
   "metadata": {},
   "outputs": [
    {
     "data": {
      "text/html": [
       "<div>\n",
       "<style scoped>\n",
       "    .dataframe tbody tr th:only-of-type {\n",
       "        vertical-align: middle;\n",
       "    }\n",
       "\n",
       "    .dataframe tbody tr th {\n",
       "        vertical-align: top;\n",
       "    }\n",
       "\n",
       "    .dataframe thead th {\n",
       "        text-align: right;\n",
       "    }\n",
       "</style>\n",
       "<table border=\"1\" class=\"dataframe\">\n",
       "  <thead>\n",
       "    <tr style=\"text-align: right;\">\n",
       "      <th></th>\n",
       "      <th>Prediction</th>\n",
       "      <th>Actual</th>\n",
       "    </tr>\n",
       "  </thead>\n",
       "  <tbody>\n",
       "    <tr>\n",
       "      <th>0</th>\n",
       "      <td>0</td>\n",
       "      <td>0</td>\n",
       "    </tr>\n",
       "    <tr>\n",
       "      <th>1</th>\n",
       "      <td>0</td>\n",
       "      <td>0</td>\n",
       "    </tr>\n",
       "    <tr>\n",
       "      <th>2</th>\n",
       "      <td>0</td>\n",
       "      <td>0</td>\n",
       "    </tr>\n",
       "    <tr>\n",
       "      <th>3</th>\n",
       "      <td>0</td>\n",
       "      <td>0</td>\n",
       "    </tr>\n",
       "    <tr>\n",
       "      <th>4</th>\n",
       "      <td>1</td>\n",
       "      <td>0</td>\n",
       "    </tr>\n",
       "  </tbody>\n",
       "</table>\n",
       "</div>"
      ],
      "text/plain": [
       "   Prediction  Actual\n",
       "0           0       0\n",
       "1           0       0\n",
       "2           0       0\n",
       "3           0       0\n",
       "4           1       0"
      ]
     },
     "execution_count": 26,
     "metadata": {},
     "output_type": "execute_result"
    }
   ],
   "source": [
    "y_pred_ros = model.predict(X_test_scaled)\n",
    "results = pd.DataFrame({\"Prediction\": y_pred_ros, \"Actual\": y_test}).reset_index(drop=True)\n",
    "results.head()"
   ]
  },
  {
   "cell_type": "markdown",
   "metadata": {},
   "source": [
    "#### 1. Balanced Accuracy Score & Accuracy Score"
   ]
  },
  {
   "cell_type": "code",
   "execution_count": 27,
   "metadata": {},
   "outputs": [
    {
     "name": "stdout",
     "output_type": "stream",
     "text": [
      "Scaled Logistic Regression Balanced Accuracy Score Model is: 0.8712758112094395\n"
     ]
    }
   ],
   "source": [
    "# Evaluate the predict model through the Balanced Accuracy Score metric\n",
    "bas_ros = balanced_accuracy_score(y_test, y_pred_ros)\n",
    "\n",
    "# Evaluate the predict model through the Balanced Accuracy Score metric\n",
    "print(f\"Scaled Logistic Regression Balanced Accuracy Score Model is: {bas_ros}\")"
   ]
  },
  {
   "cell_type": "code",
   "execution_count": 28,
   "metadata": {},
   "outputs": [
    {
     "name": "stdout",
     "output_type": "stream",
     "text": [
      "Scaled Logistic Regression Accuracy Score Model is: 0.8952\n"
     ]
    }
   ],
   "source": [
    "# Evaluate the predict model through the Accuracy Score metric\n",
    "as_ros = accuracy_score(y_test, y_pred_ros)\n",
    "\n",
    "# Evaluate the predict model through the Accuracy Score metric\n",
    "print(f\"Scaled Logistic Regression Accuracy Score Model is: {as_ros}\")\n"
   ]
  },
  {
   "cell_type": "markdown",
   "metadata": {},
   "source": [
    "#### 2. Confusion Matrix"
   ]
  },
  {
   "cell_type": "code",
   "execution_count": 29,
   "metadata": {},
   "outputs": [
    {
     "data": {
      "text/plain": [
       "Text(33.0, 0.5, 'Predicted')"
      ]
     },
     "execution_count": 29,
     "metadata": {},
     "output_type": "execute_result"
    },
    {
     "data": {
      "image/png": "[encoded data removed]",
      "text/plain": [
       "<Figure size 432x288 with 2 Axes>"
      ]
     },
     "metadata": {
      "needs_background": "light"
     },
     "output_type": "display_data"
    }
   ],
   "source": [
    "cm = confusion_matrix(y_test, y_pred_ros)\n",
    "\n",
    "# Display the confusion matrix\n",
    "sns.heatmap(cm,\n",
    "            cmap = 'Blues', \n",
    "            fmt = '', \n",
    "            annot = True)\n",
    "\n",
    "# Set plot labels \n",
    "plt.title(\"ROS Model: Confusion Matrix\")\n",
    "plt.xlabel(\"Actual\")\n",
    "plt.ylabel(\"Predicted\")"
   ]
  },
  {
   "cell_type": "markdown",
   "metadata": {},
   "source": [
    "#### 3. Classification Report"
   ]
  },
  {
   "cell_type": "code",
   "execution_count": 30,
   "metadata": {},
   "outputs": [
    {
     "name": "stdout",
     "output_type": "stream",
     "text": [
      "ROS Classification Report:\n",
      "              precision    recall  f1-score   support\n",
      "\n",
      "           0       0.98      0.90      0.94      1130\n",
      "           1       0.47      0.84      0.61       120\n",
      "\n",
      "    accuracy                           0.90      1250\n",
      "   macro avg       0.73      0.87      0.77      1250\n",
      "weighted avg       0.93      0.90      0.91      1250\n",
      "\n"
     ]
    }
   ],
   "source": [
    "# Classification report title print statement \n",
    "print(\"ROS Classification Report:\")\n",
    "\n",
    "# Create the classification report\n",
    "print(classification_report(y_test, y_pred_ros))"
   ]
  },
  {
   "cell_type": "markdown",
   "metadata": {},
   "source": [
    "#### 4. F-Beta Score"
   ]
  },
  {
   "cell_type": "code",
   "execution_count": 31,
   "metadata": {},
   "outputs": [
    {
     "name": "stdout",
     "output_type": "stream",
     "text": [
      "F1 Beta Score: 0.519547\n"
     ]
    }
   ],
   "source": [
    "# Calculate Beta F1 Score\n",
    "fbeta_ros = fbeta_score(y_test, y_pred_ros,beta=0.5)\n",
    "\n",
    "# Print the F1 score results\n",
    "print(\"F1 Beta Score: %f\" % (fbeta_ros))"
   ]
  },
  {
   "cell_type": "markdown",
   "metadata": {},
   "source": [
    "#### 5. ROC-AUC"
   ]
  },
  {
   "cell_type": "code",
   "execution_count": 32,
   "metadata": {},
   "outputs": [
    {
     "data": {
      "image/png": "[encoded data removed]",
      "text/plain": [
       "<Figure size 432x288 with 1 Axes>"
      ]
     },
     "metadata": {
      "needs_background": "light"
     },
     "output_type": "display_data"
    },
    {
     "name": "stdout",
     "output_type": "stream",
     "text": [
      "SMOTE Data Model: ROC-AUC Score: 0.8712758112094396\n"
     ]
    }
   ],
   "source": [
    "# Create the ROC curve \n",
    "roc_model_curve = plot_roc_curve(model, X_test_scaled, y_test)\n",
    "roc_auc_ros = roc_auc_score(y_test, y_pred_ros)\n",
    "\n",
    "# Set plot labels\n",
    "plt.title(\"SMOTE Data Model: Logistic Regression ROC\")\n",
    "\n",
    "# Plot the ROC curve\n",
    "plt.show()\n",
    "\n",
    "# Print the ROC-AUC Score\n",
    "print(\"SMOTE Data Model: ROC-AUC Score:\", roc_auc_ros)"
   ]
  },
  {
   "cell_type": "markdown",
   "metadata": {},
   "source": [
    "---\n",
    "\n",
    "### Logistic Model: Model Comparison & Conclusions"
   ]
  },
  {
   "cell_type": "markdown",
   "metadata": {},
   "source": [
    "#### Accuracy Scores"
   ]
  },
  {
   "cell_type": "code",
   "execution_count": 33,
   "metadata": {},
   "outputs": [
    {
     "data": {
      "text/html": [
       "<div>\n",
       "<style scoped>\n",
       "    .dataframe tbody tr th:only-of-type {\n",
       "        vertical-align: middle;\n",
       "    }\n",
       "\n",
       "    .dataframe tbody tr th {\n",
       "        vertical-align: top;\n",
       "    }\n",
       "\n",
       "    .dataframe thead th {\n",
       "        text-align: right;\n",
       "    }\n",
       "</style>\n",
       "<table border=\"1\" class=\"dataframe\">\n",
       "  <thead>\n",
       "    <tr style=\"text-align: right;\">\n",
       "      <th></th>\n",
       "      <th>Model Dataset</th>\n",
       "      <th>Score</th>\n",
       "    </tr>\n",
       "  </thead>\n",
       "  <tbody>\n",
       "    <tr>\n",
       "      <th>0</th>\n",
       "      <td>Scaled Balanced Accuracy Score</td>\n",
       "      <td>0.792035</td>\n",
       "    </tr>\n",
       "    <tr>\n",
       "      <th>1</th>\n",
       "      <td>Scaled Accuracy Score</td>\n",
       "      <td>0.947200</td>\n",
       "    </tr>\n",
       "    <tr>\n",
       "      <th>2</th>\n",
       "      <td>SMOTE Balanced Accuracy Score</td>\n",
       "      <td>0.863201</td>\n",
       "    </tr>\n",
       "    <tr>\n",
       "      <th>3</th>\n",
       "      <td>SMOTE Accuracy Score</td>\n",
       "      <td>0.900800</td>\n",
       "    </tr>\n",
       "    <tr>\n",
       "      <th>4</th>\n",
       "      <td>ROS Balanced Accuracy Score</td>\n",
       "      <td>0.871276</td>\n",
       "    </tr>\n",
       "    <tr>\n",
       "      <th>5</th>\n",
       "      <td>ROS Accuracy Score</td>\n",
       "      <td>0.895200</td>\n",
       "    </tr>\n",
       "  </tbody>\n",
       "</table>\n",
       "</div>"
      ],
      "text/plain": [
       "                    Model Dataset     Score\n",
       "0  Scaled Balanced Accuracy Score  0.792035\n",
       "1           Scaled Accuracy Score  0.947200\n",
       "2   SMOTE Balanced Accuracy Score  0.863201\n",
       "3            SMOTE Accuracy Score  0.900800\n",
       "4     ROS Balanced Accuracy Score  0.871276\n",
       "5              ROS Accuracy Score  0.895200"
      ]
     },
     "execution_count": 33,
     "metadata": {},
     "output_type": "execute_result"
    }
   ],
   "source": [
    "# Create the model accuracy scores dataframe\n",
    "accuracy_scores = pd.DataFrame({\n",
    "    \"Model Dataset\" : [\"Scaled Balanced Accuracy Score\", \n",
    "                       \"Scaled Accuracy Score\", \n",
    "                       \"SMOTE Balanced Accuracy Score\", \n",
    "                       \"SMOTE Accuracy Score\", \n",
    "                       \"ROS Balanced Accuracy Score\", \n",
    "                       \"ROS Accuracy Score\"],\n",
    "    \"Score\" : [bas_scale, as_scale, bas_smote, as_smote, bas_ros, as_ros]\n",
    "})\n",
    "\n",
    "# Display the dataframe\n",
    "accuracy_scores"
   ]
  },
  {
   "cell_type": "markdown",
   "metadata": {},
   "source": [
    "##### Balanced Accuracy & Accuracy Score Conclusions: \n",
    "\n",
    "Based on an equal weighting of model accuracy and balanced accuracy score, the model that produces more effective scores in compared to the other results is the SMOTE Logistic model. \n",
    "\n",
    "**SMOTE Logistic Model:**\n",
    "\n",
    "* Balanced Accuracy Score: 86.32\n",
    "* Accuracy Score: 90.08"
   ]
  },
  {
   "cell_type": "markdown",
   "metadata": {},
   "source": [
    "##### Classification Report Conclusions: \n",
    "\n",
    "Based on the project objectives, the model that provided favourable results within the following metrics are as follows:\n",
    "\n",
    "**Model with Optimal Precision:** ROS Logistic Regression Model\n",
    "\n",
    "**Model with Optimal Recall:** ROS Logistic Regression Model\n",
    "\n",
    "**Model with Optimal F1-Score:** Scaled Logistic Regression Model. The ROS Logistic Regression model and SMOTE Logistic Regression model had the same scores."
   ]
  },
  {
   "cell_type": "markdown",
   "metadata": {},
   "source": [
    "#### F-Beta Scores"
   ]
  },
  {
   "cell_type": "code",
   "execution_count": 34,
   "metadata": {},
   "outputs": [
    {
     "data": {
      "text/html": [
       "<div>\n",
       "<style scoped>\n",
       "    .dataframe tbody tr th:only-of-type {\n",
       "        vertical-align: middle;\n",
       "    }\n",
       "\n",
       "    .dataframe tbody tr th {\n",
       "        vertical-align: top;\n",
       "    }\n",
       "\n",
       "    .dataframe thead th {\n",
       "        text-align: right;\n",
       "    }\n",
       "</style>\n",
       "<table border=\"1\" class=\"dataframe\">\n",
       "  <thead>\n",
       "    <tr style=\"text-align: right;\">\n",
       "      <th></th>\n",
       "      <th>Model Dataset</th>\n",
       "      <th>Score</th>\n",
       "    </tr>\n",
       "  </thead>\n",
       "  <tbody>\n",
       "    <tr>\n",
       "      <th>0</th>\n",
       "      <td>Scaled F1 Beta</td>\n",
       "      <td>0.750000</td>\n",
       "    </tr>\n",
       "    <tr>\n",
       "      <th>1</th>\n",
       "      <td>SMOTE F1 Beta</td>\n",
       "      <td>0.532609</td>\n",
       "    </tr>\n",
       "    <tr>\n",
       "      <th>2</th>\n",
       "      <td>ROS F1 Beta</td>\n",
       "      <td>0.519547</td>\n",
       "    </tr>\n",
       "  </tbody>\n",
       "</table>\n",
       "</div>"
      ],
      "text/plain": [
       "    Model Dataset     Score\n",
       "0  Scaled F1 Beta  0.750000\n",
       "1   SMOTE F1 Beta  0.532609\n",
       "2     ROS F1 Beta  0.519547"
      ]
     },
     "execution_count": 34,
     "metadata": {},
     "output_type": "execute_result"
    }
   ],
   "source": [
    "# Create the model for F1 Scores & F1 Beta Scores dataframe\n",
    "f_scores = pd.DataFrame({\n",
    "    \"Model Dataset\" : [\"Scaled F1 Beta\",  \n",
    "                       \"SMOTE F1 Beta\", \n",
    "                       \"ROS F1 Beta\"], \n",
    "    \"Score\" : [fbeta_scale, fbeta_smote, fbeta_ros]\n",
    "})\n",
    "\n",
    "# Display the dataframe\n",
    "f_scores"
   ]
  },
  {
   "cell_type": "markdown",
   "metadata": {},
   "source": [
    "##### F-Beta Scores Conclusions:\n",
    "\n",
    "Overall, the models performed poorly in the F-Beta Score evaluation. The marginally decent score was received with the Scaled Logistic Regression model. It is important to note that the scaled date is imbalanced which may skew the predictions. \n",
    "\n",
    "**Scaled Result:** 75.00\n"
   ]
  },
  {
   "cell_type": "markdown",
   "metadata": {},
   "source": [
    "#### ROC - AUC"
   ]
  },
  {
   "cell_type": "code",
   "execution_count": 35,
   "metadata": {},
   "outputs": [
    {
     "data": {
      "text/html": [
       "<div>\n",
       "<style scoped>\n",
       "    .dataframe tbody tr th:only-of-type {\n",
       "        vertical-align: middle;\n",
       "    }\n",
       "\n",
       "    .dataframe tbody tr th {\n",
       "        vertical-align: top;\n",
       "    }\n",
       "\n",
       "    .dataframe thead th {\n",
       "        text-align: right;\n",
       "    }\n",
       "</style>\n",
       "<table border=\"1\" class=\"dataframe\">\n",
       "  <thead>\n",
       "    <tr style=\"text-align: right;\">\n",
       "      <th></th>\n",
       "      <th>Model Dataset</th>\n",
       "      <th>Score</th>\n",
       "    </tr>\n",
       "  </thead>\n",
       "  <tbody>\n",
       "    <tr>\n",
       "      <th>0</th>\n",
       "      <td>Scaled ROC-AUC</td>\n",
       "      <td>0.792035</td>\n",
       "    </tr>\n",
       "    <tr>\n",
       "      <th>1</th>\n",
       "      <td>SMOTE ROC-AUC</td>\n",
       "      <td>0.863201</td>\n",
       "    </tr>\n",
       "    <tr>\n",
       "      <th>2</th>\n",
       "      <td>ROS ROC-AUC</td>\n",
       "      <td>0.871276</td>\n",
       "    </tr>\n",
       "  </tbody>\n",
       "</table>\n",
       "</div>"
      ],
      "text/plain": [
       "    Model Dataset     Score\n",
       "0  Scaled ROC-AUC  0.792035\n",
       "1   SMOTE ROC-AUC  0.863201\n",
       "2     ROS ROC-AUC  0.871276"
      ]
     },
     "execution_count": 35,
     "metadata": {},
     "output_type": "execute_result"
    }
   ],
   "source": [
    "# Create the model ROC-AUC dataframe\n",
    "roc_auc_scores = pd.DataFrame({\n",
    "    \"Model Dataset\" : [\"Scaled ROC-AUC\", \n",
    "                       \"SMOTE ROC-AUC\", \n",
    "                       \"ROS ROC-AUC\"], \n",
    "    \"Score\" : [roc_auc_scale, roc_auc_smote, roc_auc_ros]\n",
    "})\n",
    "\n",
    "# Display the dataframe\n",
    "roc_auc_scores"
   ]
  },
  {
   "cell_type": "code",
   "execution_count": 36,
   "metadata": {},
   "outputs": [
    {
     "data": {
      "text/plain": [
       "['models/log_ros_model.joblib']"
      ]
     },
     "execution_count": 36,
     "metadata": {},
     "output_type": "execute_result"
    }
   ],
   "source": [
    "# Export model for load to dashboard\n",
    "dump(model, 'models/log_ros_model.joblib')"
   ]
  },
  {
   "cell_type": "markdown",
   "metadata": {},
   "source": [
    "##### ROC-AUC Conclusions:\n",
    "\n",
    "Of the three trained datasets, the logistic regression model that provides the best results for the ROC-AUC is the both the Random Oversampled (ROS) model. \n",
    "\n",
    "**Random Oversampled Logistic Regression Model:**\n",
    "\n",
    "* ROC-AUC : 87.13"
   ]
  },
  {
   "cell_type": "markdown",
   "metadata": {},
   "source": [
    "### Final Analysis:"
   ]
  },
  {
   "cell_type": "markdown",
   "metadata": {},
   "source": [
    "There was no model that produced the highest scores in all of the evaluation metric categories.\n",
    "\n",
    "Taking into consideration the need to use data that is balanced, the ROS Logisitic Regression model performed better than the other models. Although the F1-Score is quite low, the other metrics came out hight than 80. \n",
    "\n",
    "As a group, we concluded the mixed results received with all Logisitic Regression models makes this model illfit to resolve the project's objective. There is little consistence and confidence in the predictive learning based on the evaluation metrics.\n",
    "\n",
    "\n",
    "**Model Selected:** Random Oversampled (ROS) Logistic Regression Model \n",
    "\n",
    "* Recall: 91%\n",
    "* Weighted F1 Score: 53.26\n",
    "* Accuracy Score: 90.08\n",
    "* Balanced Accuracy Score: 82.32\n",
    "* ROC-AUC: 87.12\n",
    "\n",
    "---"
   ]
  },
  {
   "cell_type": "code",
   "execution_count": null,
   "metadata": {},
   "outputs": [],
   "source": []
  }
 ],
 "metadata": {
  "kernelspec": {
   "display_name": "Python 3.7.7 64-bit ('pyvizenv': conda)",
   "language": "python",
   "name": "python37764bitpyvizenvconda594889b1a87949ab9fc74bcf250df1c0"
  },
  "language_info": {
   "codemirror_mode": {
    "name": "ipython",
    "version": 3
   },
   "file_extension": ".py",
   "mimetype": "text/x-python",
   "name": "python",
   "nbconvert_exporter": "python",
   "pygments_lexer": "ipython3",
   "version": "3.7.7"
  }
 },
 "nbformat": 4,
 "nbformat_minor": 4
}
